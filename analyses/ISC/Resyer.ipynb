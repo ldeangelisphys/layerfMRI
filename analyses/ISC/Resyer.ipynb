{
 "cells": [
  {
   "cell_type": "code",
   "execution_count": 11,
   "metadata": {},
   "outputs": [],
   "source": [
    "import numpy as np\n",
    "import matplotlib.pyplot as plt\n",
    "from nilearn.masking import apply_mask,unmask\n",
    "import pandas as pd\n",
    "import os\n",
    "from isc_tools import *"
   ]
  },
  {
   "cell_type": "code",
   "execution_count": 2,
   "metadata": {},
   "outputs": [
    {
     "data": {
      "text/plain": [
       "['M_OR_S_JU_time_courses_thr100_bin9.csv',\n",
       " 'M_OR_S_JU_time_courses_thr100_bin4.csv',\n",
       " 'M_OR_S_JU_time_courses_thr100_bin3.csv',\n",
       " 'M_OR_S_JU_time_courses_thr100_bin10.csv',\n",
       " 'M_OR_S_JU_time_courses_thr100_bin7.csv',\n",
       " 'RESULTS',\n",
       " 'M_OR_S_JU_time_courses_thr100_bin5.csv',\n",
       " 'M_OR_S_JU_time_courses_thr100_bin6.csv',\n",
       " 'M_OR_S_JU_time_courses_thr100_bin8.csv']"
      ]
     },
     "execution_count": 2,
     "metadata": {},
     "output_type": "execute_result"
    }
   ],
   "source": [
    "froot = '/data00/layerfMRI/'\n",
    "datafld = froot + 'Github_repo/layerfMRI/analyses/dual_ISC/TC_4_lorenzo/'\n",
    "os.listdir(datafld)"
   ]
  },
  {
   "cell_type": "code",
   "execution_count": 3,
   "metadata": {},
   "outputs": [],
   "source": [
    "logsumm = (pd\n",
    "           .read_csv(froot+ 'logs/log_summary.csv')\n",
    "           .assign(fmri = lambda d:\n",
    "                   froot + \n",
    "                   'regdata/sub_' + d['subject'].apply(lambda n: '{:02d}'.format(n)) +\n",
    "                   '/ses_' + d['session'].apply(lambda n: '{:02d}'.format(n)) +\n",
    "                   '/func/task_' + d['task'].apply(lambda n: '{:01d}'.format(n)) +\n",
    "                   '_run_' + d['run'].apply(lambda n: '{:01d}'.format(n)) +\n",
    "                   '_4D_MNI.nii.gz'\n",
    "                  )\n",
    "           .assign(fmri_missing = lambda d : d['fmri'].apply(lambda s: os.path.isfile(s) != True))\n",
    "           \n",
    "          )\n",
    "\n",
    "\n",
    "movie_length = {}\n",
    "\n",
    "for mv in logsumm.Title.unique():\n",
    "    durations = logsumm.loc[lambda d : d['Title'] == mv].ExpectedDuration.unique()\n",
    "    if len(durations) != 1:\n",
    "        print('Warning! More than one duration found')\n",
    "        movie_length[mv] = np.min(durations)\n",
    "    else:\n",
    "        movie_length[mv] = durations[0]\n",
    "\n"
   ]
  },
  {
   "cell_type": "code",
   "execution_count": 5,
   "metadata": {},
   "outputs": [],
   "source": [
    "nbins = 3\n",
    "thr = 100\n",
    "method = 'M_OR_S'"
   ]
  },
  {
   "cell_type": "code",
   "execution_count": 6,
   "metadata": {},
   "outputs": [],
   "source": [
    "f = f'{method}_JU_time_courses_thr{thr}_bin{nbins}.csv'\n",
    "\n",
    "# Read dataframe\n",
    "df = pd.read_csv(datafld + f)\n",
    "\n",
    "# Transform timecourses into numpy arrays and standardize them\n",
    "df['tc_mean_unfolded'] = (df['tc_mean_unfolded']\n",
    "                          .map(r2numpy)\n",
    "                         )\n",
    "\n",
    "# Correct for movies that are missing the last frame\n",
    "df['measured_movl'] = df.apply(lambda row : len(row['tc_mean_unfolded']), axis = 1)\n",
    "df['expected_movl'] = df.apply(lambda row : movie_length[row['muvi']], axis = 1)\n",
    "\n",
    "corrected_movl = (df\n",
    "                  .loc[lambda d : d['expected_movl'] > d['measured_movl']]\n",
    "                  .groupby('muvi')\n",
    "                  .apply(lambda d: np.min(d['measured_movl']))\n",
    "                 )\n",
    "\n",
    "for m in dict(corrected_movl):\n",
    "    movie_length[m] = corrected_movl[m]\n",
    "#####################################################\n",
    "\n",
    "df['tc_mean_trimmed'] = (df\n",
    "                         .apply(lambda row : row['tc_mean_unfolded'][:movie_length[row['muvi']]], axis = 1)\n",
    "                         .map(stdize)\n",
    "                        )\n",
    "\n",
    "df['measured_movl'] = df.apply(lambda row : len(row['tc_mean_trimmed']), axis = 1)\n",
    "\n",
    "# Get movie names\n",
    "movie_names = {}\n",
    "for c,gdf in df.groupby(['contrast']):\n",
    "    movie_names[c] = gdf.sort_values(['muvi']).muvi.unique()\n",
    "\n",
    "# Concatenate movie and task\n",
    "cdf  = pd.DataFrame()\n",
    "count = 0\n",
    "\n",
    "for [c,s,j,d],gdf in df.groupby(['contrast','sub','JU','D_bins']):\n",
    "\n",
    "    gdf = gdf.sort_values(['muvi','run'])\n",
    "    movie_list = gdf['muvi'].unique()\n",
    "\n",
    "    try:\n",
    "        same = (movie_names[c] == movie_list).all()\n",
    "    except:\n",
    "        same = False\n",
    "    if not same:\n",
    "        print(f'Error! contrast {c} subject {s} JU {j} D_bins {d}')\n",
    "    else:\n",
    "        count += 1\n",
    "\n",
    "    concatenated = np.hstack(gdf['tc_mean_trimmed'])\n",
    "\n",
    "    temp_df = gdf.iloc[0][['contrast','sub','JU','D_bins']]\n",
    "    temp_df['tc_concatenated'] = concatenated\n",
    "\n",
    "    cdf = cdf.append(temp_df)"
   ]
  },
  {
   "cell_type": "code",
   "execution_count": 7,
   "metadata": {},
   "outputs": [],
   "source": [
    "sel_JUs = {'BA44':13, 'PFt':35, 'BA6':91, 'Vis':200}\n",
    "JU_names = {sel_JUs[ju]:ju for ju in sel_JUs}\n",
    "# sel_JUs.values()"
   ]
  },
  {
   "cell_type": "code",
   "execution_count": 15,
   "metadata": {},
   "outputs": [],
   "source": [
    "def extract_decay(dataf):\n",
    "\n",
    "    R = np.zeros((nbins,nbins))\n",
    "    decay = np.zeros(nbins)\n",
    "\n",
    "    for l1,layer1_timecourse in enumerate(dataf['tc_concatenated'].values):\n",
    "        for l2,layer2_timecourse in enumerate(dataf['tc_concatenated'].values[l1:]):\n",
    "            R[l1,l2+l1] = np.corrcoef(layer1_timecourse,layer2_timecourse)[1,0]\n",
    "\n",
    "    decay = [np.average(np.diag(R,i)) for i in range(nbins)]\n",
    "    \n",
    "    return decay"
   ]
  },
  {
   "cell_type": "code",
   "execution_count": 16,
   "metadata": {},
   "outputs": [],
   "source": [
    "decays = {j : [] for j in sel_JUs.values()}\n",
    "\n",
    "for (c,j,s),df in cdf.groupby(['contrast','JU','sub']):\n",
    "    try:\n",
    "        decays[j].append(extract_decay(df))\n",
    "    except:\n",
    "        pass"
   ]
  },
  {
   "cell_type": "code",
   "execution_count": null,
   "metadata": {},
   "outputs": [],
   "source": []
  },
  {
   "cell_type": "code",
   "execution_count": null,
   "metadata": {},
   "outputs": [],
   "source": []
  },
  {
   "cell_type": "code",
   "execution_count": 18,
   "metadata": {},
   "outputs": [
    {
     "data": {
      "text/plain": [
       "<matplotlib.legend.Legend at 0x7f4e47b212d0>"
      ]
     },
     "execution_count": 18,
     "metadata": {},
     "output_type": "execute_result"
    },
    {
     "data": {
      "image/png": "[encoded data removed]",
      "text/plain": [
       "<Figure size 288x288 with 1 Axes>"
      ]
     },
     "metadata": {
      "needs_background": "light"
     },
     "output_type": "display_data"
    }
   ],
   "source": [
    "plt.figure(figsize = (4,4))\n",
    "\n",
    "for j in decays:\n",
    "    A = np.array(decays[j])\n",
    "    plt.errorbar(np.arange(nbins),\n",
    "                 np.average(A,axis=0),\n",
    "                 yerr=np.std(A,axis=0)/np.shape(A)[1],\n",
    "                 label = JU_names[j])\n",
    "    \n",
    "A = np.concatenate([decays[j] for j in decays])\n",
    "plt.errorbar(np.arange(nbins),\n",
    "             np.average(A,axis=0),\n",
    "             yerr=np.std(A,axis=0)/np.shape(A)[1],\n",
    "             label = 'Average', color = 'gray',\n",
    "             linewidth = 5, alpha = 0.4)\n",
    "\n",
    "\n",
    "\n",
    "plt.axhline(0.5,0,1,color = 'k', linestyle = '--')\n",
    "plt.ylim([-0.02,1.02])\n",
    "plt.xlim([-0.1,nbins-1+0.1])\n",
    "plt.xlabel('Bins distance (bins)')\n",
    "plt.ylabel('Pearson correlation')\n",
    "plt.legend()"
   ]
  },
  {
   "cell_type": "code",
   "execution_count": 158,
   "metadata": {},
   "outputs": [],
   "source": []
  },
  {
   "cell_type": "code",
   "execution_count": 159,
   "metadata": {},
   "outputs": [
    {
     "data": {
      "text/plain": [
       "[1.0,\n",
       " 0.6520296590263813,\n",
       " 0.5526699489900684,\n",
       " 0.48569313370420736,\n",
       " 0.4377787713430972,\n",
       " 0.3991057652455646,\n",
       " 0.38589068896580697,\n",
       " 0.3214562168389643,\n",
       " 0.20700953678167155,\n",
       " 0.18788548060534285]"
      ]
     },
     "execution_count": 159,
     "metadata": {},
     "output_type": "execute_result"
    }
   ],
   "source": [
    "extract_decay(test_df)"
   ]
  },
  {
   "cell_type": "code",
   "execution_count": null,
   "metadata": {},
   "outputs": [],
   "source": [
    "import matplotlib.pyplot as plt"
   ]
  },
  {
   "cell_type": "code",
   "execution_count": null,
   "metadata": {},
   "outputs": [],
   "source": [
    "plt.imshow(R, vmin =0, vmax = 1, cmap='viridis')"
   ]
  },
  {
   "cell_type": "code",
   "execution_count": null,
   "metadata": {},
   "outputs": [],
   "source": []
  },
  {
   "cell_type": "code",
   "execution_count": 53,
   "metadata": {},
   "outputs": [
    {
     "data": {
      "text/plain": [
       "[<matplotlib.lines.Line2D at 0x7fdc4b640650>]"
      ]
     },
     "execution_count": 53,
     "metadata": {},
     "output_type": "execute_result"
    },
    {
     "data": {
      "image/png": "[encoded data removed]",
      "text/plain": [
       "<Figure size 432x288 with 1 Axes>"
      ]
     },
     "metadata": {
      "needs_background": "light"
     },
     "output_type": "display_data"
    }
   ],
   "source": [
    "plt.plot(decay)"
   ]
  },
  {
   "cell_type": "code",
   "execution_count": null,
   "metadata": {},
   "outputs": [],
   "source": []
  }
 ],
 "metadata": {
  "kernelspec": {
   "display_name": "Python 3",
   "language": "python",
   "name": "python3"
  },
  "language_info": {
   "codemirror_mode": {
    "name": "ipython",
    "version": 3
   },
   "file_extension": ".py",
   "mimetype": "text/x-python",
   "name": "python",
   "nbconvert_exporter": "python",
   "pygments_lexer": "ipython3",
   "version": "3.7.6"
  }
 },
 "nbformat": 4,
 "nbformat_minor": 4
}
