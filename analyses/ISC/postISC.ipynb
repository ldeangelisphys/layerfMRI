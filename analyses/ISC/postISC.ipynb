{
 "cells": [
  {
   "cell_type": "code",
   "execution_count": 65,
   "metadata": {},
   "outputs": [],
   "source": [
    "from brainiak.isc import isc,bootstrap_isc,compute_summary_statistic,isfc,squareform_isfc\n",
    "import pandas as pd\n",
    "import numpy as np\n",
    "import os\n",
    "import matplotlib.pyplot as plt\n",
    "from isc_tools import *"
   ]
  },
  {
   "cell_type": "code",
   "execution_count": 66,
   "metadata": {},
   "outputs": [],
   "source": [
    "froot = '/data00/layerfMRI/'\n",
    "datafld = froot + 'Github_repo/layerfMRI/analyses/dual_ISC/TC_4_lorenzo/'"
   ]
  },
  {
   "cell_type": "code",
   "execution_count": 67,
   "metadata": {},
   "outputs": [],
   "source": [
    "summary_log = import_summary_log(froot)\n",
    "movie_length = extract_movie_length(summary_log)"
   ]
  },
  {
   "cell_type": "code",
   "execution_count": 128,
   "metadata": {},
   "outputs": [],
   "source": [
    "## Parameters corresponding to data to be analyzed\n",
    "nbins = 7\n",
    "thr = 100\n",
    "method = 'M_OR_S'\n",
    "\n",
    "input_file = datafld + f'{method}_JU_time_courses_thr{thr}_bin{nbins}.csv'"
   ]
  },
  {
   "cell_type": "code",
   "execution_count": 129,
   "metadata": {},
   "outputs": [],
   "source": [
    "df = import_timecourse_dataframe(\n",
    "    input_file,\n",
    "    check_movie_length = True, movie_length = movie_length\n",
    ")\n",
    "\n",
    "cdf  =concatenate_movies(df,average_same_movie=False)\n",
    "# cdf1 =concatenate_movies(df,average_same_movie=True)"
   ]
  },
  {
   "cell_type": "code",
   "execution_count": 130,
   "metadata": {},
   "outputs": [],
   "source": [
    "## Exclude subject 11\n",
    "cdf = exclude_subjects(cdf,['sub_11'])"
   ]
  },
  {
   "cell_type": "code",
   "execution_count": 131,
   "metadata": {},
   "outputs": [
    {
     "name": "stdout",
     "output_type": "stream",
     "text": [
      "Contrast Motion: bin 1 of JU 200 deleted\n",
      "Contrast Scrambled: bin 1 of JU 200 deleted\n"
     ]
    }
   ],
   "source": [
    "## Extra layer of safety\n",
    "cdf = doublecheck_same_lenght(cdf)"
   ]
  },
  {
   "cell_type": "code",
   "execution_count": 132,
   "metadata": {},
   "outputs": [],
   "source": [
    "cdf = compute_isc(cdf)"
   ]
  },
  {
   "cell_type": "code",
   "execution_count": 133,
   "metadata": {},
   "outputs": [
    {
     "data": {
      "image/png": "[encoded data removed]",
      "text/plain": [
       "<Figure size 1296x360 with 18 Axes>"
      ]
     },
     "metadata": {
      "needs_background": "light"
     },
     "output_type": "display_data"
    }
   ],
   "source": [
    "plot_export_isc(cdf,input_file,method)"
   ]
  },
  {
   "cell_type": "code",
   "execution_count": null,
   "metadata": {},
   "outputs": [],
   "source": []
  },
  {
   "cell_type": "code",
   "execution_count": null,
   "metadata": {},
   "outputs": [],
   "source": []
  },
  {
   "cell_type": "code",
   "execution_count": null,
   "metadata": {},
   "outputs": [],
   "source": []
  },
  {
   "cell_type": "code",
   "execution_count": null,
   "metadata": {},
   "outputs": [],
   "source": []
  },
  {
   "cell_type": "code",
   "execution_count": null,
   "metadata": {},
   "outputs": [],
   "source": []
  },
  {
   "cell_type": "code",
   "execution_count": 138,
   "metadata": {},
   "outputs": [
    {
     "name": "stdout",
     "output_type": "stream",
     "text": [
      "(570, 27, 8)\n"
     ]
    },
    {
     "ename": "ValueError",
     "evalue": "could not broadcast input array from shape (351) into shape (378)",
     "output_type": "error",
     "traceback": [
      "\u001b[0;31m---------------------------------------------------------------------------\u001b[0m",
      "\u001b[0;31mValueError\u001b[0m                                Traceback (most recent call last)",
      "\u001b[0;32m<ipython-input-138-c1be745412eb>\u001b[0m in \u001b[0;36m<module>\u001b[0;34m\u001b[0m\n\u001b[1;32m     25\u001b[0m     \u001b[0misfc_data\u001b[0m\u001b[0;34m[\u001b[0m\u001b[0mc\u001b[0m\u001b[0;34m]\u001b[0m \u001b[0;34m=\u001b[0m \u001b[0mnp\u001b[0m\u001b[0;34m.\u001b[0m\u001b[0mzeros\u001b[0m\u001b[0;34m(\u001b[0m\u001b[0;34m(\u001b[0m\u001b[0mnsub\u001b[0m\u001b[0;34m,\u001b[0m\u001b[0mint\u001b[0m\u001b[0;34m(\u001b[0m\u001b[0mnbins\u001b[0m\u001b[0;34m*\u001b[0m\u001b[0mnJU\u001b[0m\u001b[0;34m*\u001b[0m\u001b[0;34m(\u001b[0m\u001b[0mnbins\u001b[0m\u001b[0;34m*\u001b[0m\u001b[0mnJU\u001b[0m\u001b[0;34m-\u001b[0m\u001b[0;36m1\u001b[0m\u001b[0;34m)\u001b[0m\u001b[0;34m/\u001b[0m\u001b[0;36m2\u001b[0m\u001b[0;34m)\u001b[0m\u001b[0;34m)\u001b[0m\u001b[0;34m)\u001b[0m\u001b[0;34m\u001b[0m\u001b[0;34m\u001b[0m\u001b[0m\n\u001b[1;32m     26\u001b[0m     \u001b[0;32mfor\u001b[0m \u001b[0mr\u001b[0m\u001b[0;34m,\u001b[0m\u001b[0msub_isfc\u001b[0m \u001b[0;32min\u001b[0m \u001b[0menumerate\u001b[0m\u001b[0;34m(\u001b[0m\u001b[0mraw_isfc\u001b[0m\u001b[0;34m)\u001b[0m\u001b[0;34m:\u001b[0m\u001b[0;34m\u001b[0m\u001b[0;34m\u001b[0m\u001b[0m\n\u001b[0;32m---> 27\u001b[0;31m         \u001b[0misfc_data\u001b[0m\u001b[0;34m[\u001b[0m\u001b[0mc\u001b[0m\u001b[0;34m]\u001b[0m\u001b[0;34m[\u001b[0m\u001b[0mr\u001b[0m\u001b[0;34m,\u001b[0m\u001b[0;34m:\u001b[0m\u001b[0;34m]\u001b[0m \u001b[0;34m=\u001b[0m \u001b[0mnp\u001b[0m\u001b[0;34m.\u001b[0m\u001b[0marctanh\u001b[0m\u001b[0;34m(\u001b[0m\u001b[0msub_isfc\u001b[0m\u001b[0;34m)\u001b[0m\u001b[0;34m\u001b[0m\u001b[0;34m\u001b[0m\u001b[0m\n\u001b[0m\u001b[1;32m     28\u001b[0m     \u001b[0misfc_mean_data\u001b[0m\u001b[0;34m[\u001b[0m\u001b[0mc\u001b[0m\u001b[0;34m]\u001b[0m \u001b[0;34m=\u001b[0m \u001b[0mnp\u001b[0m\u001b[0;34m.\u001b[0m\u001b[0maverage\u001b[0m\u001b[0;34m(\u001b[0m\u001b[0misfc_data\u001b[0m\u001b[0;34m[\u001b[0m\u001b[0mc\u001b[0m\u001b[0;34m]\u001b[0m\u001b[0;34m,\u001b[0m\u001b[0maxis\u001b[0m \u001b[0;34m=\u001b[0m \u001b[0;36m0\u001b[0m\u001b[0;34m)\u001b[0m\u001b[0;34m\u001b[0m\u001b[0;34m\u001b[0m\u001b[0m\n\u001b[1;32m     29\u001b[0m \u001b[0;34m\u001b[0m\u001b[0m\n",
      "\u001b[0;31mValueError\u001b[0m: could not broadcast input array from shape (351) into shape (378)"
     ]
    }
   ],
   "source": [
    "isc_column = np.array([])\n",
    "\n",
    "subJUcdf = cdf.loc[lambda d : (d['JU']==13)|(d['JU']==35)|(d['JU']==91)|(d['JU']==200)]\n",
    "subJUcdf = subJUcdf.sort_values(['JU','D_bins'])\n",
    "isfc_data = {}\n",
    "isfc_mean_data = {}\n",
    "nsub = subJUcdf['sub'].nunique()\n",
    "\n",
    "sel_JUs = {'BA44':13, 'PFt':35, 'BA6':91, 'Vis':200}\n",
    "\n",
    "nJU = len(sel_JUs)\n",
    "\n",
    "for c,contrast_df in subJUcdf.groupby('contrast'):\n",
    "\n",
    "    iscarr = np.array(list(contrast_df\n",
    "     .groupby('sub')\n",
    "     .apply(lambda d: np.array(list(d['tc_concatenated'])).T)\n",
    "    ))\n",
    "\n",
    "    iscarr = np.moveaxis(iscarr,0,2)\n",
    "    print(iscarr.shape)\n",
    "\n",
    "    isc_data =  isc(iscarr)\n",
    "    raw_isfc = isfc(iscarr)[0]\n",
    "    isfc_data[c] = np.zeros((nsub,int(nbins*nJU*(nbins*nJU-1)/2)))\n",
    "    for r,sub_isfc in enumerate(raw_isfc):\n",
    "        isfc_data[c][r,:] = np.arctanh(sub_isfc)    \n",
    "    isfc_mean_data[c] = np.average(isfc_data[c],axis = 0)\n",
    "    \n",
    "    \n",
    "    isc_column = np.append(isc_column,isc_data.ravel())\n",
    "\n",
    "subJUcdf['isc'] = np.arctanh(isc_column)\n"
   ]
  },
  {
   "cell_type": "code",
   "execution_count": 135,
   "metadata": {},
   "outputs": [
    {
     "data": {
      "text/plain": [
       "array([[[-0.65334623,  0.5583489 ,  0.43491001, ..., -0.33815169,\n",
       "          0.88394685,  1.38561967],\n",
       "        [-0.8881709 , -0.75259195, -0.61043108, ..., -0.52141719,\n",
       "          1.52057362, -0.92249829],\n",
       "        [-1.18523378,  1.24090854,  0.10922314, ...,  0.58728223,\n",
       "         -0.24181962, -1.49331937],\n",
       "        ...,\n",
       "        [-0.92342028, -1.43397346, -0.24195632, ..., -1.2942013 ,\n",
       "         -1.98039982, -2.25416929],\n",
       "        [-1.18492249, -1.04597724,  0.17680023, ..., -2.41910012,\n",
       "         -1.79607622, -2.59025108],\n",
       "        [-1.07696832, -1.34040089, -1.3027467 , ..., -2.45586583,\n",
       "         -1.62283463, -2.56654822]],\n",
       "\n",
       "       [[ 0.04818444, -0.20286415,  1.39012104, ..., -1.20380642,\n",
       "          1.38623168,  1.25359867],\n",
       "        [-0.27597981,  0.94950712,  0.76112391, ..., -1.77325027,\n",
       "          0.42515553,  0.51442707],\n",
       "        [ 0.86562309, -0.37522209,  1.15083007, ..., -0.55808377,\n",
       "          1.71214298, -0.58060004],\n",
       "        ...,\n",
       "        [ 0.83866698, -1.28354754, -0.01996321, ...,  0.29667855,\n",
       "         -0.89304836,  0.33804139],\n",
       "        [ 1.05614759, -1.55506866,  0.56913045, ..., -0.02615373,\n",
       "          0.242769  , -0.18708364],\n",
       "        [-0.03072612,  0.72261791,  0.46375063, ..., -0.71844364,\n",
       "          0.78037806, -0.5183249 ]],\n",
       "\n",
       "       [[-1.03846354,  1.72863641,  0.92380566, ...,  0.12017593,\n",
       "          1.12994477, -0.5402693 ],\n",
       "        [ 0.28377471,  1.74017681,  0.56545738, ..., -0.82245745,\n",
       "          0.77403636, -2.06831574],\n",
       "        [-1.56842796, -1.25093741, -0.28220197, ...,  0.63054779,\n",
       "          0.39887086, -1.66547735],\n",
       "        ...,\n",
       "        [ 1.52275671,  0.89893898, -0.76149785, ...,  0.04877596,\n",
       "          0.78525132,  0.51007577],\n",
       "        [ 1.73767338,  1.05988489,  0.31025371, ...,  0.33035792,\n",
       "          1.77012102, -0.31321833],\n",
       "        [ 1.85745442, -0.11772527,  0.05676122, ..., -0.11912992,\n",
       "          1.75973311,  0.43168357]],\n",
       "\n",
       "       ...,\n",
       "\n",
       "       [[ 1.0102099 , -2.24736602,  1.87881212, ...,  0.07315831,\n",
       "          0.11903578,  0.85918129],\n",
       "        [ 0.44652918, -0.83118842,  3.31347958, ..., -0.57627442,\n",
       "          0.0190854 , -0.1331808 ],\n",
       "        [ 0.92826837,  0.69658757,  2.28739333, ...,  0.23692282,\n",
       "         -1.12358431,  0.05111484],\n",
       "        ...,\n",
       "        [-0.75991544, -0.18264819,  1.87949437, ..., -0.21630321,\n",
       "          0.29478328, -0.12542489],\n",
       "        [ 0.36541521,  0.36233861,  1.57608453, ...,  0.13173979,\n",
       "          1.03915837,  0.48532088],\n",
       "        [-0.1061547 , -2.1250263 ,  1.56028837, ...,  0.26461507,\n",
       "          0.81987266,  0.44663334]],\n",
       "\n",
       "       [[-1.54625811, -0.35362868,  0.81636799, ...,  0.13041794,\n",
       "         -0.34817086,  0.31895149],\n",
       "        [-1.02455942, -0.77333715, -0.37626555, ..., -1.10220752,\n",
       "         -0.82039748, -0.11556028],\n",
       "        [-0.52084467, -0.2467111 ,  0.63454799, ..., -0.92643035,\n",
       "          1.18553188,  0.04325372],\n",
       "        ...,\n",
       "        [-1.17807167,  0.33859628,  0.56987511, ...,  1.46557908,\n",
       "         -1.80009084,  0.1978255 ],\n",
       "        [-0.84240412, -1.21737055,  1.38806973, ...,  0.52627143,\n",
       "         -0.65552925,  0.57231307],\n",
       "        [-0.38233179, -0.63998478,  1.1988023 , ...,  0.53068904,\n",
       "         -0.54728265,  0.26750913]],\n",
       "\n",
       "       [[ 0.33737537, -0.30070289,  0.45784837, ...,  0.12492159,\n",
       "          0.68327695, -2.70190556],\n",
       "        [ 0.11643809,  0.4287378 , -0.7281538 , ...,  1.10326892,\n",
       "         -1.2335922 , -2.20154751],\n",
       "        [-0.01326876,  0.07284227, -0.7161764 , ...,  0.11264648,\n",
       "         -0.71792425, -1.5318009 ],\n",
       "        ...,\n",
       "        [ 0.95027405,  0.23838328,  1.37907997, ...,  1.42641046,\n",
       "         -0.92685395, -1.30459658],\n",
       "        [ 0.15214421, -0.17431106,  1.02618772, ...,  1.24036981,\n",
       "         -1.37757882, -0.44404875],\n",
       "        [ 0.57774937,  0.39505307,  1.43532909, ...,  1.35735608,\n",
       "         -1.45243288, -0.25442844]]])"
      ]
     },
     "execution_count": 135,
     "metadata": {},
     "output_type": "execute_result"
    }
   ],
   "source": [
    "iscarr"
   ]
  },
  {
   "cell_type": "code",
   "execution_count": null,
   "metadata": {},
   "outputs": [],
   "source": []
  },
  {
   "cell_type": "code",
   "execution_count": null,
   "metadata": {},
   "outputs": [],
   "source": [
    "from scipy.spatial.distance import squareform"
   ]
  },
  {
   "cell_type": "code",
   "execution_count": null,
   "metadata": {},
   "outputs": [],
   "source": []
  },
  {
   "cell_type": "code",
   "execution_count": null,
   "metadata": {},
   "outputs": [],
   "source": []
  },
  {
   "cell_type": "code",
   "execution_count": null,
   "metadata": {},
   "outputs": [],
   "source": []
  },
  {
   "cell_type": "code",
   "execution_count": null,
   "metadata": {},
   "outputs": [],
   "source": []
  },
  {
   "cell_type": "code",
   "execution_count": null,
   "metadata": {},
   "outputs": [],
   "source": [
    "from scipy.stats import ttest_1samp,ttest_rel\n",
    "from statsmodels.stats.multitest import fdrcorrection"
   ]
  },
  {
   "cell_type": "code",
   "execution_count": null,
   "metadata": {},
   "outputs": [],
   "source": []
  },
  {
   "cell_type": "code",
   "execution_count": null,
   "metadata": {},
   "outputs": [],
   "source": []
  },
  {
   "cell_type": "code",
   "execution_count": null,
   "metadata": {},
   "outputs": [],
   "source": [
    "\n",
    "\n",
    "for c in ['Motion','Scrambled']:\n",
    "    M = 0.2\n",
    "\n",
    "    fig,axarr = plt.subplots(nrows = 1, ncols=1,#+1, gridspec_kw={'width_ratios':[10]*nJU+[1]})#,\n",
    "                             sharex=True, sharey=True, figsize = (6,6))\n",
    "\n",
    "\n",
    "    z = isfc_data[c]\n",
    "    t,p = ttest_1samp(z, popmean = 0, axis=0)\n",
    "    pmask, pcorr = fdrcorrection(p,alpha = 0.05, is_sorted=False)\n",
    "\n",
    "    \n",
    "    z_matrix = squareform(np.average(z,axis=0)*(pmask))\n",
    "    cm = axarr.imshow(z_matrix,\n",
    "                        cmap = 'seismic', vmax=M,vmin=-M)\n",
    "                \n",
    "    fout = datafld + 'ISFC/{}_full_thr{}_bin{}.txt'.format(c,thr,nbins)\n",
    "    np.savetxt(fout,z_matrix)\n",
    "    \n",
    "#     plt.colorbar(cm,cax = axarr[1,3])\n",
    "\n",
    "    \n",
    "    plt.suptitle(c)\n"
   ]
  },
  {
   "cell_type": "code",
   "execution_count": null,
   "metadata": {},
   "outputs": [],
   "source": []
  },
  {
   "cell_type": "code",
   "execution_count": null,
   "metadata": {},
   "outputs": [],
   "source": [
    "sel_JUs = {'BA44':13, 'PFt':35, 'BA6':91, 'Vis':200}\n",
    "list_JUs = list(sel_JUs)\n",
    "\n",
    "nJU = len(sel_JUs)\n",
    "\n",
    "for c in isfc_mean_data:\n",
    "    M = 0.25\n",
    "    \n",
    "    \n",
    "    z = isfc_data[c]\n",
    "    t,p = ttest_1samp(z, popmean = 0, axis=0)\n",
    "    pmask, pcorr = fdrcorrection(p,alpha = 0.05)\n",
    "\n",
    "    \n",
    "\n",
    "    fig,axarr = plt.subplots(nrows = nJU, ncols=nJU,#+1, gridspec_kw={'width_ratios':[10]*nJU+[1]})#,\n",
    "                             sharex=True, sharey=True, figsize = (6,6))\n",
    "\n",
    "    for ix in range(nJU):\n",
    "\n",
    "        # Labels JU\n",
    "        axarr[ix,-1].yaxis.set_label_position(\"right\")\n",
    "        axarr[ix,-1].set_ylabel(list_JUs[ix], rotation = 270, labelpad=14)\n",
    "        axarr[0,ix].xaxis.set_label_position(\"top\")\n",
    "        axarr[0,ix].set_xlabel(list_JUs[ix], labelpad=4)\n",
    "        # Labels bins\n",
    "        axarr[ix,0].set_yticks(np.arange(0,nbins,5))\n",
    "        axarr[ix,0].set_yticklabels(np.arange(0,nbins,5)+1)\n",
    "        axarr[-1,ix].set_xticks(np.arange(0,nbins,5))\n",
    "        axarr[-1,ix].set_xticklabels(np.arange(0,nbins,5)+1)\n",
    "        axarr[ix,0].minorticks_on()\n",
    "        \n",
    "        for iy in range(nJU):\n",
    "            \n",
    "\n",
    "            z_matrix = squareform(np.average(z,axis=0)*(pmask))[nbins*iy:nbins*(iy+1),nbins*ix:nbins*(ix+1)]\n",
    "            cm = axarr[iy,ix].imshow(z_matrix,\n",
    "                                cmap = 'seismic', vmax=M,vmin=-M)\n",
    "\n",
    "\n",
    "            \n",
    "            fout = datafld + 'ISFC/{}_{}-{}_thr{}_bin{}.txt'.format(c,list_JUs[iy],list_JUs[ix],thr,nbins)\n",
    "            np.savetxt(fout,z_matrix)\n",
    "\n",
    "            \n",
    "#     plt.colorbar(cm,cax = axarr[1,3])\n",
    "    \n",
    "    axarr[1,0].set_ylabel('# bin')\n",
    "    axarr[-1,1].set_xlabel('# bin')\n",
    "    \n",
    "    plt.suptitle(c)\n"
   ]
  },
  {
   "cell_type": "code",
   "execution_count": null,
   "metadata": {},
   "outputs": [],
   "source": []
  },
  {
   "cell_type": "code",
   "execution_count": null,
   "metadata": {},
   "outputs": [],
   "source": [
    "zm = isfc_data['Motion']\n",
    "zs = isfc_data['Scrambled']\n",
    "\n",
    "t,p = ttest_rel(zm,zs, axis=0)\n",
    "pmask, pcorr = fdrcorrection(p,alpha = 0.05)\n",
    "\n",
    "\n",
    "fig,axarr = plt.subplots(nrows = nJU, ncols=nJU,#+1, gridspec_kw={'width_ratios':[10]*nJU+[1]})#,\n",
    "                         sharex=True, sharey=True, figsize = (6,6))\n",
    "\n",
    "for ix in range(nJU):\n",
    "\n",
    "    # Labels JU\n",
    "    axarr[ix,-1].yaxis.set_label_position(\"right\")\n",
    "    axarr[ix,-1].set_ylabel(list(sel_JUs)[ix], rotation = 270, labelpad=14)\n",
    "    axarr[0,ix].xaxis.set_label_position(\"top\")\n",
    "    axarr[0,ix].set_xlabel(list(sel_JUs)[ix], labelpad=4)\n",
    "    # Labels bins\n",
    "    axarr[ix,0].set_yticks(np.arange(0,nbins,5))\n",
    "    axarr[ix,0].set_yticklabels(np.arange(0,nbins,5)+1)\n",
    "    axarr[-1,ix].set_xticks(np.arange(0,nbins,5))\n",
    "    axarr[-1,ix].set_xticklabels(np.arange(0,nbins,5)+1)\n",
    "    axarr[ix,0].minorticks_on()\n",
    "        \n",
    "    for iy in range(nJU):\n",
    "\n",
    "\n",
    "\n",
    "        z_matrix = squareform(np.average(zm-zs,axis=0)*(pmask))[nbins*iy:nbins*(iy+1),nbins*ix:nbins*(ix+1)]\n",
    "        cm = axarr[iy,ix].imshow(z_matrix,\n",
    "                            cmap = 'seismic', vmax=M,vmin=-M)\n",
    "\n",
    "\n",
    "        \n",
    "        \n",
    "        fout = datafld + 'ISFC/Motion-Scrambled_{}-{}_thr{}_bin{}.txt'.format(list_JUs[iy],list_JUs[ix],thr,nbins)\n",
    "        np.savetxt(fout,z_matrix)\n",
    "        \n",
    "#     plt.colorbar(cm,cax = axarr[1,3])\n",
    "axarr[1,0].set_ylabel('# bin')\n",
    "axarr[-1,1].set_xlabel('# bin')\n",
    "    \n",
    "\n",
    "plt.suptitle('Motion - Scrambled')\n"
   ]
  },
  {
   "cell_type": "code",
   "execution_count": null,
   "metadata": {},
   "outputs": [],
   "source": [
    "fig,ax = plt.subplots(figsize = (0.3,6))\n",
    "plt.colorbar(cm,cax = ax,orientation = 'vertical', ticks = np.arange(-0.2,M+0.1,0.1))\n",
    "ax.set_ylabel('mean Z transformed ISFC')\n",
    "plt.show()"
   ]
  },
  {
   "cell_type": "code",
   "execution_count": null,
   "metadata": {},
   "outputs": [],
   "source": []
  },
  {
   "cell_type": "code",
   "execution_count": null,
   "metadata": {},
   "outputs": [],
   "source": []
  },
  {
   "cell_type": "code",
   "execution_count": null,
   "metadata": {},
   "outputs": [],
   "source": []
  },
  {
   "cell_type": "code",
   "execution_count": null,
   "metadata": {},
   "outputs": [],
   "source": []
  },
  {
   "cell_type": "code",
   "execution_count": null,
   "metadata": {},
   "outputs": [],
   "source": []
  },
  {
   "cell_type": "code",
   "execution_count": null,
   "metadata": {},
   "outputs": [],
   "source": []
  },
  {
   "cell_type": "code",
   "execution_count": null,
   "metadata": {},
   "outputs": [],
   "source": []
  },
  {
   "cell_type": "markdown",
   "metadata": {},
   "source": [
    "## PPI-like fc"
   ]
  },
  {
   "cell_type": "code",
   "execution_count": null,
   "metadata": {},
   "outputs": [],
   "source": [
    "isc_column = np.array([])\n",
    "\n",
    "subJUcdf = cdf.loc[lambda d : (d['JU']==13)|(d['JU']==35)|(d['JU']==91)]\n",
    "subJUcdf = subJUcdf.sort_values(['JU','D_bins'])\n",
    "isfc_data = {}\n",
    "isfc_mean_data = {}\n",
    "nsub = subJUcdf['sub'].nunique()\n",
    "\n",
    "sel_JUs = {'BA44':13, 'PFt':35, 'BA6':91}\n",
    "\n",
    "nJU = len(sel_JUs)\n",
    "\n",
    "for c,contrast_df in subJUcdf.groupby('contrast'):\n",
    "\n",
    "    iscarr = np.array(list(contrast_df\n",
    "     .groupby('sub')\n",
    "     .apply(lambda d: np.array(list(d['tc_concatenated'])).T)\n",
    "    ))\n",
    "\n",
    "    iscarr = np.moveaxis(iscarr,0,2)\n",
    "    \n",
    "    raw_isfc = generic_isfc(iscarr,intersubject=False)\n",
    "    isfc_data[c] = np.zeros((nsub,int(nbins*nJU*(nbins*nJU-1)/2)))\n",
    "    for r,sub_isfc in enumerate(raw_isfc):\n",
    "        isfc_data[c][r,:] = np.arctanh(sub_isfc)    \n",
    "    isfc_mean_data[c] = np.average(isfc_data[c],axis = 0)\n",
    "    \n",
    "    \n",
    "    isc_column = np.append(isc_column,isc_data.ravel())\n",
    "\n",
    "subJUcdf['isc'] = np.arctanh(isc_column)\n"
   ]
  },
  {
   "cell_type": "code",
   "execution_count": 64,
   "metadata": {},
   "outputs": [
    {
     "data": {
      "image/png": "[encoded data removed]",
      "text/plain": [
       "<Figure size 432x432 with 9 Axes>"
      ]
     },
     "metadata": {
      "needs_background": "light"
     },
     "output_type": "display_data"
    },
    {
     "data": {
      "image/png": "[encoded data removed]",
      "text/plain": [
       "<Figure size 432x432 with 9 Axes>"
      ]
     },
     "metadata": {
      "needs_background": "light"
     },
     "output_type": "display_data"
    }
   ],
   "source": [
    "sel_JUs = {'BA44':13, 'PFt':35, 'BA6':91}\n",
    "list_JUs = list(sel_JUs)\n",
    "\n",
    "nJU = len(sel_JUs)\n",
    "\n",
    "for c in isfc_mean_data:\n",
    "    M = 1\n",
    "    \n",
    "    \n",
    "    z = isfc_data[c]\n",
    "    t,p = ttest_1samp(z, popmean = 0, axis=0)\n",
    "    pmask, pcorr = fdrcorrection(p,alpha = 0.05)\n",
    "\n",
    "    \n",
    "\n",
    "    fig,axarr = plt.subplots(nrows = nJU, ncols=nJU,#+1, gridspec_kw={'width_ratios':[10]*nJU+[1]})#,\n",
    "                             sharex=True, sharey=True, figsize = (6,6))\n",
    "\n",
    "    for ix in range(nJU):\n",
    "\n",
    "        # Labels JU\n",
    "        axarr[ix,-1].yaxis.set_label_position(\"right\")\n",
    "        axarr[ix,-1].set_ylabel(list_JUs[ix], rotation = 270, labelpad=14)\n",
    "        axarr[0,ix].xaxis.set_label_position(\"top\")\n",
    "        axarr[0,ix].set_xlabel(list_JUs[ix], labelpad=4)\n",
    "        # Labels bins\n",
    "        axarr[ix,0].set_yticks(np.arange(0,nbins,5))\n",
    "        axarr[ix,0].set_yticklabels(np.arange(0,nbins,5)+1)\n",
    "        axarr[-1,ix].set_xticks(np.arange(0,nbins,5))\n",
    "        axarr[-1,ix].set_xticklabels(np.arange(0,nbins,5)+1)\n",
    "        axarr[ix,0].minorticks_on()\n",
    "        \n",
    "        for iy in range(nJU):\n",
    "            \n",
    "\n",
    "            z_matrix = squareform(np.average(z,axis=0)*(pmask))[nbins*iy:nbins*(iy+1),nbins*ix:nbins*(ix+1)]\n",
    "            cm = axarr[iy,ix].imshow(z_matrix,\n",
    "                                cmap = 'seismic', vmax=M,vmin=-M)\n",
    "\n",
    "\n",
    "            \n",
    "            fout = datafld + 'RESULTS/WSFC_{}_{}-{}_thr{}_bin{}.txt'.format(c,list_JUs[iy],list_JUs[ix],thr,nbins)\n",
    "            np.savetxt(fout,z_matrix)\n",
    "\n",
    "            \n",
    "#     plt.colorbar(cm,cax = axarr[1,3])\n",
    "    \n",
    "    axarr[1,0].set_ylabel('# bin')\n",
    "    axarr[-1,1].set_xlabel('# bin')\n",
    "    \n",
    "    plt.suptitle(c)\n"
   ]
  },
  {
   "cell_type": "code",
   "execution_count": 65,
   "metadata": {},
   "outputs": [
    {
     "data": {
      "text/plain": [
       "Text(0.5, 0.98, 'Motion - Scrambled')"
      ]
     },
     "execution_count": 65,
     "metadata": {},
     "output_type": "execute_result"
    },
    {
     "data": {
      "image/png": "[encoded data removed]",
      "text/plain": [
       "<Figure size 432x432 with 9 Axes>"
      ]
     },
     "metadata": {
      "needs_background": "light"
     },
     "output_type": "display_data"
    }
   ],
   "source": [
    "zm = isfc_data['Motion']\n",
    "zs = isfc_data['Scrambled']\n",
    "\n",
    "t,p = ttest_rel(zm,zs, axis=0)\n",
    "pmask, pcorr = fdrcorrection(p,alpha = 0.05)\n",
    "\n",
    "\n",
    "fig,axarr = plt.subplots(nrows = nJU, ncols=nJU,#+1, gridspec_kw={'width_ratios':[10]*nJU+[1]})#,\n",
    "                         sharex=True, sharey=True, figsize = (6,6))\n",
    "\n",
    "for ix in range(nJU):\n",
    "\n",
    "    # Labels JU\n",
    "    axarr[ix,-1].yaxis.set_label_position(\"right\")\n",
    "    axarr[ix,-1].set_ylabel(list(sel_JUs)[ix], rotation = 270, labelpad=14)\n",
    "    axarr[0,ix].xaxis.set_label_position(\"top\")\n",
    "    axarr[0,ix].set_xlabel(list(sel_JUs)[ix], labelpad=4)\n",
    "    # Labels bins\n",
    "    axarr[ix,0].set_yticks(np.arange(0,nbins,5))\n",
    "    axarr[ix,0].set_yticklabels(np.arange(0,nbins,5)+1)\n",
    "    axarr[-1,ix].set_xticks(np.arange(0,nbins,5))\n",
    "    axarr[-1,ix].set_xticklabels(np.arange(0,nbins,5)+1)\n",
    "    axarr[ix,0].minorticks_on()\n",
    "        \n",
    "    for iy in range(nJU):\n",
    "\n",
    "\n",
    "\n",
    "        z_matrix = squareform(np.average(zm-zs,axis=0)*(pmask))[nbins*iy:nbins*(iy+1),nbins*ix:nbins*(ix+1)]\n",
    "        cm = axarr[iy,ix].imshow(z_matrix,\n",
    "                            cmap = 'seismic', vmax=M,vmin=-M)\n",
    "\n",
    "\n",
    "        \n",
    "        \n",
    "        fout = datafld + 'RESULTS/WSFC_Motion-Scrambled_{}-{}_thr{}_bin{}.txt'.format(list_JUs[iy],list_JUs[ix],thr,nbins)\n",
    "        np.savetxt(fout,z_matrix)\n",
    "        \n",
    "#     plt.colorbar(cm,cax = axarr[1,3])\n",
    "axarr[1,0].set_ylabel('# bin')\n",
    "axarr[-1,1].set_xlabel('# bin')\n",
    "    \n",
    "\n",
    "plt.suptitle('Motion - Scrambled')\n"
   ]
  },
  {
   "cell_type": "code",
   "execution_count": 66,
   "metadata": {},
   "outputs": [
    {
     "data": {
      "image/png": "[encoded data removed]",
      "text/plain": [
       "<Figure size 21.6x432 with 1 Axes>"
      ]
     },
     "metadata": {
      "needs_background": "light"
     },
     "output_type": "display_data"
    }
   ],
   "source": [
    "fig,ax = plt.subplots(figsize = (0.3,6))\n",
    "plt.colorbar(cm,cax = ax,orientation = 'vertical', ticks = np.arange(-M,M+0.1,0.5))\n",
    "ax.set_ylabel('mean Z transformed ISFC')\n",
    "plt.show()"
   ]
  },
  {
   "cell_type": "code",
   "execution_count": null,
   "metadata": {},
   "outputs": [],
   "source": []
  },
  {
   "cell_type": "code",
   "execution_count": null,
   "metadata": {},
   "outputs": [],
   "source": []
  }
 ],
 "metadata": {
  "kernelspec": {
   "display_name": "brainiak",
   "language": "python",
   "name": "brainiak"
  },
  "language_info": {
   "codemirror_mode": {
    "name": "ipython",
    "version": 3
   },
   "file_extension": ".py",
   "mimetype": "text/x-python",
   "name": "python",
   "nbconvert_exporter": "python",
   "pygments_lexer": "ipython3",
   "version": "3.7.6"
  }
 },
 "nbformat": 4,
 "nbformat_minor": 4
}
