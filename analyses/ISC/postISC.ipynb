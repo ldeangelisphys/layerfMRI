{
 "cells": [
  {
   "cell_type": "code",
   "execution_count": 356,
   "metadata": {},
   "outputs": [],
   "source": [
    "from brainiak.isc import isc,bootstrap_isc,compute_summary_statistic\n",
    "import pandas as pd\n",
    "import numpy as np\n",
    "import os\n",
    "import matplotlib.pyplot as plt"
   ]
  },
  {
   "cell_type": "code",
   "execution_count": 357,
   "metadata": {},
   "outputs": [
    {
     "data": {
      "text/plain": [
       "['log_summary.csv',\n",
       " 'fixing_log_file.Rmd',\n",
       " '.gitignore',\n",
       " 'log_summary_FIXED.csv',\n",
       " 'M_OR_S_JU_time_courses_thr100_bin10.csv',\n",
       " 'log_summary_OLE_no_Estimated_Duration.csv',\n",
       " 'dual_ISC_development_v8.html',\n",
       " 'M_OR_S_JU_time_courses_thr100_bin6_isc.png',\n",
       " 'data_native',\n",
       " 'M_OR_S_JU_time_courses_thr100_bin10_isc.png',\n",
       " 'ANOVA_M_S_JU_time_courses_thr10_bin10.csv',\n",
       " 'dual_ISC_development_v8.Rmd',\n",
       " 'labels_juelich.csv',\n",
       " 'M_OR_S_JU_time_courses_thr100_bin6.csv',\n",
       " 'log_summary_FIXED_MRGNCY.csv',\n",
       " 'ANOVA_M_S_JU_time_courses_thr10_bin6.csv',\n",
       " 'native_MNI_transformation',\n",
       " 'OLE',\n",
       " 'TC_4_lorenzo',\n",
       " 'fixing_log_file.html']"
      ]
     },
     "execution_count": 357,
     "metadata": {},
     "output_type": "execute_result"
    }
   ],
   "source": [
    "froot = '/data00/layerfMRI/'\n",
    "datafld = froot + 'Github_repo/layerfMRI/analyses/dual_ISC/'\n",
    "os.listdir(datafld)"
   ]
  },
  {
   "cell_type": "code",
   "execution_count": 417,
   "metadata": {},
   "outputs": [],
   "source": [
    "nbins = 6\n",
    "method = 'ANOVA_M_S'"
   ]
  },
  {
   "cell_type": "code",
   "execution_count": 418,
   "metadata": {},
   "outputs": [],
   "source": [
    "f = f'{method}_JU_time_courses_thr10_bin{nbins}.csv'"
   ]
  },
  {
   "cell_type": "code",
   "execution_count": 419,
   "metadata": {},
   "outputs": [],
   "source": [
    "logsumm = (pd\n",
    "           .read_csv(froot+ 'logs/log_summary.csv')\n",
    "           .assign(fmri = lambda d:\n",
    "                   froot + \n",
    "                   'regdata/sub_' + d['subject'].apply(lambda n: '{:02d}'.format(n)) +\n",
    "                   '/ses_' + d['session'].apply(lambda n: '{:02d}'.format(n)) +\n",
    "                   '/func/task_' + d['task'].apply(lambda n: '{:01d}'.format(n)) +\n",
    "                   '_run_' + d['run'].apply(lambda n: '{:01d}'.format(n)) +\n",
    "                   '_4D_MNI.nii.gz'\n",
    "                  )\n",
    "           .assign(fmri_missing = lambda d : d['fmri'].apply(lambda s: os.path.isfile(s) != True))\n",
    "           \n",
    "          )\n",
    "\n",
    "\n",
    "movie_length = {}\n",
    "\n",
    "for mv in logsumm.Title.unique():\n",
    "    durations = logsumm.loc[lambda d : d['Title'] == mv].ExpectedDuration.unique()\n",
    "    if len(durations) != 1:\n",
    "        print('Warning! More than one duration found')\n",
    "        movie_length[mv] = np.min(durations)\n",
    "    else:\n",
    "        movie_length[mv] = durations[0]\n",
    "\n"
   ]
  },
  {
   "cell_type": "code",
   "execution_count": 420,
   "metadata": {},
   "outputs": [],
   "source": [
    "def r2numpy(rvec):\n",
    "    \n",
    "    return np.array(rvec[2:-1].split(', '),dtype = 'float')\n",
    "\n",
    "# def trim_movielength(dataf):\n",
    "    \n",
    "#     trimmed = dataf['tc_mean_unfolded'][:movie_length[dataf['muvi']]]\n",
    "    \n",
    "#     return trimmed\n",
    "    \n",
    "    \n",
    "def stdize(a):\n",
    "    \n",
    "    return (a - np.average(a)) / np.std(a)\n",
    "\n"
   ]
  },
  {
   "cell_type": "code",
   "execution_count": null,
   "metadata": {},
   "outputs": [],
   "source": []
  },
  {
   "cell_type": "code",
   "execution_count": null,
   "metadata": {},
   "outputs": [],
   "source": []
  },
  {
   "cell_type": "code",
   "execution_count": null,
   "metadata": {},
   "outputs": [],
   "source": []
  },
  {
   "cell_type": "code",
   "execution_count": 421,
   "metadata": {},
   "outputs": [],
   "source": [
    "# Read dataframe\n",
    "df = pd.read_csv(datafld + f)\n",
    "\n",
    "# Transform timecourses into numpy arrays and standardize them\n",
    "df['tc_mean_unfolded'] = (df['tc_mean_unfolded']\n",
    "                          .map(r2numpy)\n",
    "                         )\n",
    "\n",
    "# Correct for movies that are missing the last frame\n",
    "df['measured_movl'] = df.apply(lambda row : len(row['tc_mean_unfolded']), axis = 1)\n",
    "df['expected_movl'] = df.apply(lambda row : movie_length[row['muvi']], axis = 1)\n",
    "\n",
    "corrected_movl = (df\n",
    "                  .loc[lambda d : d['expected_movl'] > d['measured_movl']]\n",
    "                  .groupby('muvi')\n",
    "                  .apply(lambda d: np.min(d['measured_movl']))\n",
    "                 )\n",
    "\n",
    "for m in dict(corrected_movl):\n",
    "    movie_length[m] = corrected_movl[m]\n",
    "#####################################################\n",
    "    \n",
    "df['tc_mean_trimmed'] = (df\n",
    "                         .apply(lambda row : row['tc_mean_unfolded'][:movie_length[row['muvi']]], axis = 1)\n",
    "                         .map(stdize)\n",
    "                        )\n",
    "\n",
    "df['measured_movl'] = df.apply(lambda row : len(row['tc_mean_trimmed']), axis = 1)"
   ]
  },
  {
   "cell_type": "code",
   "execution_count": null,
   "metadata": {},
   "outputs": [],
   "source": [
    "\n"
   ]
  },
  {
   "cell_type": "code",
   "execution_count": null,
   "metadata": {},
   "outputs": [],
   "source": []
  },
  {
   "cell_type": "code",
   "execution_count": null,
   "metadata": {},
   "outputs": [],
   "source": []
  },
  {
   "cell_type": "code",
   "execution_count": 422,
   "metadata": {},
   "outputs": [
    {
     "name": "stderr",
     "output_type": "stream",
     "text": [
      "/home/deangelis/anaconda3/envs/brainiak/lib/python3.7/site-packages/ipykernel_launcher.py:16: DeprecationWarning: elementwise comparison failed; this will raise an error in the future.\n",
      "  app.launch_new_instance()\n"
     ]
    },
    {
     "name": "stdout",
     "output_type": "stream",
     "text": [
      "Error! contrast Motion subject sub_02 JU 35 D_bins 5\n",
      "Error! contrast Motion subject sub_03 JU 35 D_bins 5\n",
      "Error! contrast Motion subject sub_11 JU 35 D_bins 6\n",
      "Error! contrast Motion subject sub_14 JU 35 D_bins 6\n",
      "Error! contrast Scrambled subject sub_02 JU 35 D_bins 5\n",
      "Error! contrast Scrambled subject sub_03 JU 35 D_bins 5\n",
      "Error! contrast Scrambled subject sub_11 JU 35 D_bins 6\n",
      "Error! contrast Scrambled subject sub_14 JU 35 D_bins 6\n"
     ]
    }
   ],
   "source": [
    "# Get movie names\n",
    "movie_names = {}\n",
    "for c,gdf in df.groupby(['contrast']):\n",
    "    movie_names[c] = gdf.sort_values(['muvi']).muvi.unique()\n",
    "\n",
    "# Concatenate movie and task\n",
    "cdf  = pd.DataFrame()\n",
    "count = 0\n",
    "\n",
    "for [c,s,j,d],gdf in df.groupby(['contrast','sub','JU','D_bins']):\n",
    "\n",
    "    gdf = gdf.sort_values(['muvi','run'])\n",
    "    movie_list = gdf['muvi'].unique()\n",
    "\n",
    "    try:\n",
    "        same = (movie_names[c] == movie_list).all()\n",
    "    except:\n",
    "        same = False\n",
    "    if not same:\n",
    "        print(f'Error! contrast {c} subject {s} JU {j} D_bins {d}')\n",
    "    else:\n",
    "        count += 1\n",
    "    \n",
    "    concatenated = np.hstack(gdf['tc_mean_trimmed'])\n",
    "    \n",
    "    temp_df = gdf.iloc[0][['contrast','sub','task','JU','D_bins']]\n",
    "    temp_df['tc_concatenated'] = concatenated\n",
    "    \n",
    "    cdf = cdf.append(temp_df)"
   ]
  },
  {
   "cell_type": "code",
   "execution_count": null,
   "metadata": {},
   "outputs": [],
   "source": []
  },
  {
   "cell_type": "code",
   "execution_count": null,
   "metadata": {},
   "outputs": [],
   "source": []
  },
  {
   "cell_type": "code",
   "execution_count": null,
   "metadata": {},
   "outputs": [],
   "source": []
  },
  {
   "cell_type": "code",
   "execution_count": null,
   "metadata": {},
   "outputs": [],
   "source": []
  },
  {
   "cell_type": "code",
   "execution_count": null,
   "metadata": {},
   "outputs": [],
   "source": []
  },
  {
   "cell_type": "code",
   "execution_count": null,
   "metadata": {},
   "outputs": [],
   "source": []
  },
  {
   "cell_type": "code",
   "execution_count": 406,
   "metadata": {},
   "outputs": [
    {
     "name": "stdout",
     "output_type": "stream",
     "text": [
      "Contrast Motion: bin 10.0 of JU 33.0 deleted\n",
      "Contrast Scrambled: bin 10.0 of JU 33.0 deleted\n"
     ]
    }
   ],
   "source": [
    "## Extra layer of safety\n",
    "\n",
    "# This checks what length of the concatenated arrays is the most common and delets combinations of JU and Dbins that are different\n",
    "for c,contrast_df in cdf.groupby('contrast'):\n",
    "    \n",
    "    T = int(contrast_df['tc_concatenated'].apply(lambda d: len(d)).mode())\n",
    "    unmatching = contrast_df.loc[contrast_df['tc_concatenated'].apply(lambda d: len(d)) != T][['D_bins','JU']].drop_duplicates()\n",
    "    \n",
    "    \n",
    "    for i,unm in unmatching.iterrows():\n",
    "        \n",
    "        cdf = cdf.drop(cdf.loc[lambda d : (d['contrast'] == c)&(d['JU']==unm['JU'])&(d['D_bins']==unm['D_bins'])].index)\n",
    "        \n",
    "        print('Contrast {}: bin {} of JU {} deleted'.format(c,unm['D_bins'],unm['JU']))\n",
    "\n",
    "\n",
    "    # This checks what length of the concatenated arrays is the most common and delets combinations of JU and Dbins that are different\n",
    "    grouped_df = contrast_df.groupby(['D_bins','JU']).apply(lambda d:len(d['sub']))\n",
    "    N_sub = int(grouped_df.mode())\n",
    "    grouped_df = grouped_df.reset_index()\n",
    "    unmatching = grouped_df.loc[lambda d: d[0] != N_sub]\n",
    "    \n",
    "    for i,unm in unmatching.iterrows():\n",
    "        \n",
    "        cdf = cdf.drop(cdf.loc[lambda d : (d['contrast'] == c)&(d['JU']==unm['JU'])&(d['D_bins']==unm['D_bins'])].index)\n",
    "        \n",
    "        print('!!Contrast {}: bin {} of JU {} deleted'.format(c,unm['D_bins'],unm['JU']))"
   ]
  },
  {
   "cell_type": "code",
   "execution_count": null,
   "metadata": {},
   "outputs": [],
   "source": []
  },
  {
   "cell_type": "code",
   "execution_count": 407,
   "metadata": {},
   "outputs": [],
   "source": [
    "cdf['D_bins'] = cdf['D_bins'].astype(int)\n",
    "cdf['JU'] = cdf['JU'].astype(int)\n",
    "cdf = cdf.sort_values(['contrast','sub','JU','D_bins'])\n",
    "\n",
    "\n",
    "isc_column = np.array([])\n",
    "\n",
    "for c,contrast_df in cdf.groupby('contrast'):\n",
    "\n",
    "    iscarr = np.array(list(contrast_df\n",
    "     .groupby('sub')\n",
    "     .apply(lambda d: np.array(list(d['tc_concatenated'])).T)\n",
    "    ))\n",
    "    \n",
    "    iscarr = np.moveaxis(iscarr,0,2)\n",
    "    \n",
    "    isc_data =  isc(iscarr)\n",
    "    isc_column = np.append(isc_column,isc_data.ravel())\n",
    "\n",
    "cdf['isc'] = np.arctanh(isc_column)"
   ]
  },
  {
   "cell_type": "code",
   "execution_count": null,
   "metadata": {},
   "outputs": [],
   "source": []
  },
  {
   "cell_type": "code",
   "execution_count": 408,
   "metadata": {},
   "outputs": [
    {
     "data": {
      "image/png": "[encoded data removed]",
      "text/plain": [
       "<Figure size 1152x360 with 16 Axes>"
      ]
     },
     "metadata": {
      "needs_background": "light"
     },
     "output_type": "display_data"
    }
   ],
   "source": [
    "ncols = cdf['JU'].nunique()\n",
    "nrows = cdf['contrast'].nunique()\n",
    "\n",
    "fig,axarr = plt.subplots(ncols=ncols,nrows=nrows, sharex = True, sharey = True, figsize = (ncols*2,5))\n",
    "axarr = np.ravel(axarr)\n",
    "\n",
    "for i,((c,j),plotdf) in enumerate(cdf.groupby(['contrast','JU'])):   \n",
    "    \n",
    "    plotdf.boxplot(column = ['isc'], by = 'D_bins',ax=axarr[i])\n",
    "    axarr[i].set_title('JU {}'.format(int(j)))\n",
    "    axarr[i].set_ylabel('ISC {}'.format(c))\n",
    "    \n",
    "axarr = axarr.reshape(nrows,ncols)\n",
    "for ax in axarr[0]:\n",
    "    ax.set_xlabel('')\n",
    "for ax in axarr[1]:\n",
    "    ax.set_xlabel('# bin')\n",
    "for ax in axarr[:,1:].ravel():\n",
    "    ax.set_ylabel('')\n",
    "\n",
    "fig.suptitle('')\n",
    "plt.savefig(datafld + f.replace('.csv','_isc.png'), dpi = 300)\n"
   ]
  },
  {
   "cell_type": "code",
   "execution_count": null,
   "metadata": {},
   "outputs": [],
   "source": []
  },
  {
   "cell_type": "code",
   "execution_count": null,
   "metadata": {},
   "outputs": [],
   "source": []
  },
  {
   "cell_type": "code",
   "execution_count": null,
   "metadata": {},
   "outputs": [],
   "source": []
  },
  {
   "cell_type": "code",
   "execution_count": null,
   "metadata": {},
   "outputs": [],
   "source": []
  },
  {
   "cell_type": "code",
   "execution_count": null,
   "metadata": {},
   "outputs": [],
   "source": []
  },
  {
   "cell_type": "code",
   "execution_count": null,
   "metadata": {},
   "outputs": [],
   "source": []
  },
  {
   "cell_type": "code",
   "execution_count": null,
   "metadata": {},
   "outputs": [],
   "source": []
  },
  {
   "cell_type": "code",
   "execution_count": null,
   "metadata": {},
   "outputs": [],
   "source": []
  },
  {
   "cell_type": "code",
   "execution_count": null,
   "metadata": {},
   "outputs": [],
   "source": []
  },
  {
   "cell_type": "code",
   "execution_count": null,
   "metadata": {},
   "outputs": [],
   "source": []
  },
  {
   "cell_type": "code",
   "execution_count": null,
   "metadata": {},
   "outputs": [],
   "source": []
  },
  {
   "cell_type": "code",
   "execution_count": null,
   "metadata": {},
   "outputs": [],
   "source": []
  },
  {
   "cell_type": "code",
   "execution_count": null,
   "metadata": {},
   "outputs": [],
   "source": []
  },
  {
   "cell_type": "code",
   "execution_count": null,
   "metadata": {},
   "outputs": [],
   "source": []
  },
  {
   "cell_type": "code",
   "execution_count": null,
   "metadata": {},
   "outputs": [],
   "source": []
  }
 ],
 "metadata": {
  "kernelspec": {
   "display_name": "brainiak",
   "language": "python",
   "name": "brainiak"
  },
  "language_info": {
   "codemirror_mode": {
    "name": "ipython",
    "version": 3
   },
   "file_extension": ".py",
   "mimetype": "text/x-python",
   "name": "python",
   "nbconvert_exporter": "python",
   "pygments_lexer": "ipython3",
   "version": "3.7.6"
  }
 },
 "nbformat": 4,
 "nbformat_minor": 4
}
