{
 "cells": [
  {
   "cell_type": "code",
   "execution_count": null,
   "metadata": {},
   "outputs": [],
   "source": [
    "from brainiak.isc import isc,bootstrap_isc,compute_summary_statistic,isfc,squareform_isfc\n",
    "import pandas as pd\n",
    "import numpy as np\n",
    "import os\n",
    "import matplotlib.pyplot as plt"
   ]
  },
  {
   "cell_type": "code",
   "execution_count": null,
   "metadata": {},
   "outputs": [],
   "source": [
    "def r2numpy(rvec):\n",
    "    \n",
    "    return np.array(rvec[2:-1].split(', '),dtype = 'float')\n",
    "\n",
    "# def trim_movielength(dataf):\n",
    "    \n",
    "#     trimmed = dataf['tc_mean_unfolded'][:movie_length[dataf['muvi']]]\n",
    "    \n",
    "#     return trimmed\n",
    "    \n",
    "    \n",
    "def stdize(a):\n",
    "    \n",
    "    return (a - np.average(a)) / np.std(a)\n",
    "\n"
   ]
  },
  {
   "cell_type": "code",
   "execution_count": null,
   "metadata": {},
   "outputs": [],
   "source": [
    "froot = '/data00/layerfMRI/'\n",
    "datafld = froot + 'Github_repo/layerfMRI/analyses/dual_ISC/TC_4_lorenzo/'\n",
    "os.listdir(datafld)"
   ]
  },
  {
   "cell_type": "code",
   "execution_count": null,
   "metadata": {},
   "outputs": [],
   "source": [
    "logsumm = (pd\n",
    "           .read_csv(froot+ 'logs/log_summary.csv')\n",
    "           .assign(fmri = lambda d:\n",
    "                   froot + \n",
    "                   'regdata/sub_' + d['subject'].apply(lambda n: '{:02d}'.format(n)) +\n",
    "                   '/ses_' + d['session'].apply(lambda n: '{:02d}'.format(n)) +\n",
    "                   '/func/task_' + d['task'].apply(lambda n: '{:01d}'.format(n)) +\n",
    "                   '_run_' + d['run'].apply(lambda n: '{:01d}'.format(n)) +\n",
    "                   '_4D_MNI.nii.gz'\n",
    "                  )\n",
    "           .assign(fmri_missing = lambda d : d['fmri'].apply(lambda s: os.path.isfile(s) != True))\n",
    "           \n",
    "          )\n",
    "\n",
    "\n",
    "movie_length = {}\n",
    "\n",
    "for mv in logsumm.Title.unique():\n",
    "    durations = logsumm.loc[lambda d : d['Title'] == mv].ExpectedDuration.unique()\n",
    "    if len(durations) != 1:\n",
    "        print('Warning! More than one duration found')\n",
    "        movie_length[mv] = np.min(durations)\n",
    "    else:\n",
    "        movie_length[mv] = durations[0]\n",
    "\n"
   ]
  },
  {
   "cell_type": "code",
   "execution_count": 452,
   "metadata": {},
   "outputs": [],
   "source": [
    "nbins = 6\n",
    "thr = 200\n",
    "method = 'M_OR_S'"
   ]
  },
  {
   "cell_type": "code",
   "execution_count": 453,
   "metadata": {},
   "outputs": [],
   "source": [
    "f = f'{method}_JU_time_courses_thr{thr}_bin{nbins}.csv'\n",
    "\n",
    "# Read dataframe\n",
    "df = pd.read_csv(datafld + f)\n",
    "\n",
    "# Transform timecourses into numpy arrays and standardize them\n",
    "df['tc_mean_unfolded'] = (df['tc_mean_unfolded']\n",
    "                          .map(r2numpy)\n",
    "                         )\n",
    "\n",
    "# Correct for movies that are missing the last frame\n",
    "df['measured_movl'] = df.apply(lambda row : len(row['tc_mean_unfolded']), axis = 1)\n",
    "df['expected_movl'] = df.apply(lambda row : movie_length[row['muvi']], axis = 1)\n",
    "\n",
    "corrected_movl = (df\n",
    "                  .loc[lambda d : d['expected_movl'] > d['measured_movl']]\n",
    "                  .groupby('muvi')\n",
    "                  .apply(lambda d: np.min(d['measured_movl']))\n",
    "                 )\n",
    "\n",
    "for m in dict(corrected_movl):\n",
    "    movie_length[m] = corrected_movl[m]\n",
    "#####################################################\n",
    "\n",
    "df['tc_mean_trimmed'] = (df\n",
    "                         .apply(lambda row : row['tc_mean_unfolded'][:movie_length[row['muvi']]], axis = 1)\n",
    "                         .map(stdize)\n",
    "                        )\n",
    "\n",
    "df['measured_movl'] = df.apply(lambda row : len(row['tc_mean_trimmed']), axis = 1)\n",
    "\n",
    "# Get movie names\n",
    "movie_names = {}\n",
    "for c,gdf in df.groupby(['contrast']):\n",
    "    movie_names[c] = gdf.sort_values(['muvi']).muvi.unique()\n",
    "\n",
    "# Concatenate movie and task\n",
    "cdf  = pd.DataFrame()\n",
    "count = 0\n",
    "\n",
    "for [c,s,j,d],gdf in df.groupby(['contrast','sub','JU','D_bins']):\n",
    "\n",
    "    gdf = gdf.sort_values(['muvi','run'])\n",
    "    movie_list = gdf['muvi'].unique()\n",
    "\n",
    "    try:\n",
    "        same = (movie_names[c] == movie_list).all()\n",
    "    except:\n",
    "        same = False\n",
    "    if not same:\n",
    "        print(f'Error! contrast {c} subject {s} JU {j} D_bins {d}')\n",
    "    else:\n",
    "        count += 1\n",
    "\n",
    "    concatenated = np.hstack(gdf['tc_mean_trimmed'])\n",
    "\n",
    "    temp_df = gdf.iloc[0][['contrast','sub','JU','D_bins']]\n",
    "    temp_df['tc_concatenated'] = concatenated\n",
    "\n",
    "    cdf = cdf.append(temp_df)"
   ]
  },
  {
   "cell_type": "code",
   "execution_count": 454,
   "metadata": {},
   "outputs": [],
   "source": [
    "cdf = cdf.loc[lambda d: d['sub'] != 'sub_11']"
   ]
  },
  {
   "cell_type": "code",
   "execution_count": 455,
   "metadata": {},
   "outputs": [],
   "source": [
    "## Extra layer of safety\n",
    "\n",
    "# This checks what length of the concatenated arrays is the most common and delets combinations of JU and Dbins that are different\n",
    "for c,contrast_df in cdf.groupby('contrast'):\n",
    "\n",
    "    T = int(contrast_df['tc_concatenated'].apply(lambda d: len(d)).mode())\n",
    "    unmatching = contrast_df.loc[contrast_df['tc_concatenated'].apply(lambda d: len(d)) != T][['D_bins','JU']].drop_duplicates()\n",
    "\n",
    "\n",
    "    for i,unm in unmatching.iterrows():\n",
    "\n",
    "        cdf = cdf.drop(cdf.loc[lambda d : (d['contrast'] == c)&(d['JU']==unm['JU'])&(d['D_bins']==unm['D_bins'])].index)\n",
    "\n",
    "        print('Contrast {}: bin {} of JU {} deleted'.format(c,unm['D_bins'],unm['JU']))\n",
    "\n",
    "\n",
    "    # This checks what length of the concatenated arrays is the most common and delets combinations of JU and Dbins that are different\n",
    "    grouped_df = contrast_df.groupby(['D_bins','JU']).apply(lambda d:len(d['sub']))\n",
    "    N_sub = int(grouped_df.mode())\n",
    "    grouped_df = grouped_df.reset_index()\n",
    "    unmatching = grouped_df.loc[lambda d: d[0] != N_sub]\n",
    "\n",
    "    for i,unm in unmatching.iterrows():\n",
    "\n",
    "        cdf = cdf.drop(cdf.loc[lambda d : (d['contrast'] == c)&(d['JU']==unm['JU'])&(d['D_bins']==unm['D_bins'])].index)\n",
    "\n",
    "        print('!!Contrast {}: bin {} of JU {} deleted'.format(c,unm['D_bins'],unm['JU']))\n",
    "\n",
    "cdf['D_bins'] = cdf['D_bins'].astype(int)\n",
    "cdf['JU'] = cdf['JU'].astype(int)\n",
    "cdf = cdf.sort_values(['contrast','sub','JU','D_bins'])"
   ]
  },
  {
   "cell_type": "code",
   "execution_count": 456,
   "metadata": {},
   "outputs": [
    {
     "data": {
      "image/png": "[encoded data removed]",
      "text/plain": [
       "<Figure size 1152x360 with 16 Axes>"
      ]
     },
     "metadata": {
      "needs_background": "light"
     },
     "output_type": "display_data"
    }
   ],
   "source": [
    "isc_column = np.array([])\n",
    "\n",
    "for c,contrast_df in cdf.groupby('contrast'):\n",
    "\n",
    "    iscarr = np.array(list(contrast_df\n",
    "     .groupby('sub')\n",
    "     .apply(lambda d: np.array(list(d['tc_concatenated'])).T)\n",
    "    ))\n",
    "\n",
    "    iscarr = np.moveaxis(iscarr,0,2)\n",
    "\n",
    "    isc_data =  isc(iscarr)\n",
    "    isc_column = np.append(isc_column,isc_data.ravel())\n",
    "\n",
    "cdf['isc'] = np.arctanh(isc_column)\n",
    "\n",
    "\n",
    "\n",
    "ncols = cdf['JU'].nunique()\n",
    "nrows = cdf['contrast'].nunique()\n",
    "\n",
    "fig,axarr = plt.subplots(ncols=ncols,nrows=nrows, sharex=True, sharey = True, figsize = (ncols*2,5))\n",
    "axarr = np.ravel(axarr)\n",
    "\n",
    "for i,((c,j),plotdf) in enumerate(cdf.groupby(['contrast','JU'])):   \n",
    "\n",
    "    plotdf.boxplot(column = ['isc'], by = 'D_bins',ax=axarr[i])\n",
    "    axarr[i].set_title('JU {}'.format(int(j)))\n",
    "    axarr[i].set_ylabel('ISC {}'.format(c))\n",
    "\n",
    "axarr = axarr.reshape(nrows,ncols)\n",
    "for ax in axarr[0]:\n",
    "    ax.set_xlabel('')\n",
    "for ax in axarr[1]:\n",
    "    ax.set_xlabel('# bin')\n",
    "for ax in axarr[:,1:].ravel():\n",
    "    ax.set_ylabel('')\n",
    "for ax in axarr[1]:\n",
    "    ax.set_title('')\n",
    "\n",
    "fig.suptitle('')\n",
    "plt.savefig(datafld + f.replace(method,'RESULTS/{}'.format(method)).replace('.csv','_isc.png'), dpi = 300)\n",
    "\n",
    "\n",
    "\n",
    "cdf.to_csv(datafld + f.replace(method,'RESULTS/{}'.format(method)).replace('.csv','_isc.csv'))"
   ]
  },
  {
   "cell_type": "code",
   "execution_count": 457,
   "metadata": {},
   "outputs": [],
   "source": [
    "# os.makedirs('/data00/layerfMRI/Github_repo/layerfMRI/analyses/dual_ISC/TC_4_lorenzo/RESULTS/')"
   ]
  },
  {
   "cell_type": "code",
   "execution_count": null,
   "metadata": {},
   "outputs": [],
   "source": []
  },
  {
   "cell_type": "code",
   "execution_count": 458,
   "metadata": {},
   "outputs": [
    {
     "data": {
      "text/html": [
       "<div>\n",
       "<style scoped>\n",
       "    .dataframe tbody tr th:only-of-type {\n",
       "        vertical-align: middle;\n",
       "    }\n",
       "\n",
       "    .dataframe tbody tr th {\n",
       "        vertical-align: top;\n",
       "    }\n",
       "\n",
       "    .dataframe thead th {\n",
       "        text-align: right;\n",
       "    }\n",
       "</style>\n",
       "<table border=\"1\" class=\"dataframe\">\n",
       "  <thead>\n",
       "    <tr style=\"text-align: right;\">\n",
       "      <th></th>\n",
       "      <th>D_bins</th>\n",
       "      <th>JU</th>\n",
       "      <th>contrast</th>\n",
       "      <th>sub</th>\n",
       "      <th>tc_concatenated</th>\n",
       "      <th>isc</th>\n",
       "    </tr>\n",
       "  </thead>\n",
       "  <tbody>\n",
       "    <tr>\n",
       "      <th>960</th>\n",
       "      <td>1</td>\n",
       "      <td>13</td>\n",
       "      <td>Motion</td>\n",
       "      <td>sub_02</td>\n",
       "      <td>[-0.857982775442284, 0.3961405928276347, -0.81...</td>\n",
       "      <td>0.097436</td>\n",
       "    </tr>\n",
       "    <tr>\n",
       "      <th>961</th>\n",
       "      <td>2</td>\n",
       "      <td>13</td>\n",
       "      <td>Motion</td>\n",
       "      <td>sub_02</td>\n",
       "      <td>[-0.6121689485606284, -0.41442262115461215, 0....</td>\n",
       "      <td>0.122316</td>\n",
       "    </tr>\n",
       "    <tr>\n",
       "      <th>962</th>\n",
       "      <td>3</td>\n",
       "      <td>13</td>\n",
       "      <td>Motion</td>\n",
       "      <td>sub_02</td>\n",
       "      <td>[-1.254808798792133, 0.7360159510254902, -0.93...</td>\n",
       "      <td>0.112601</td>\n",
       "    </tr>\n",
       "    <tr>\n",
       "      <th>963</th>\n",
       "      <td>4</td>\n",
       "      <td>13</td>\n",
       "      <td>Motion</td>\n",
       "      <td>sub_02</td>\n",
       "      <td>[-1.8145595718289669, 0.9421807083579372, -0.3...</td>\n",
       "      <td>0.131935</td>\n",
       "    </tr>\n",
       "    <tr>\n",
       "      <th>964</th>\n",
       "      <td>5</td>\n",
       "      <td>13</td>\n",
       "      <td>Motion</td>\n",
       "      <td>sub_02</td>\n",
       "      <td>[-1.937179435005998, -0.1234273041502649, 0.93...</td>\n",
       "      <td>0.084087</td>\n",
       "    </tr>\n",
       "    <tr>\n",
       "      <th>...</th>\n",
       "      <td>...</td>\n",
       "      <td>...</td>\n",
       "      <td>...</td>\n",
       "      <td>...</td>\n",
       "      <td>...</td>\n",
       "      <td>...</td>\n",
       "    </tr>\n",
       "    <tr>\n",
       "      <th>28459</th>\n",
       "      <td>2</td>\n",
       "      <td>200</td>\n",
       "      <td>Scrambled</td>\n",
       "      <td>sub_14</td>\n",
       "      <td>[1.6908750370992196, 0.5937982667644987, -1.46...</td>\n",
       "      <td>0.168187</td>\n",
       "    </tr>\n",
       "    <tr>\n",
       "      <th>28460</th>\n",
       "      <td>3</td>\n",
       "      <td>200</td>\n",
       "      <td>Scrambled</td>\n",
       "      <td>sub_14</td>\n",
       "      <td>[-1.242141493654162, 1.2462658368241593, -0.43...</td>\n",
       "      <td>0.314468</td>\n",
       "    </tr>\n",
       "    <tr>\n",
       "      <th>28461</th>\n",
       "      <td>4</td>\n",
       "      <td>200</td>\n",
       "      <td>Scrambled</td>\n",
       "      <td>sub_14</td>\n",
       "      <td>[-0.3402723145889234, 0.5793441311038934, 0.57...</td>\n",
       "      <td>0.311683</td>\n",
       "    </tr>\n",
       "    <tr>\n",
       "      <th>28462</th>\n",
       "      <td>5</td>\n",
       "      <td>200</td>\n",
       "      <td>Scrambled</td>\n",
       "      <td>sub_14</td>\n",
       "      <td>[-1.6021269910251628, 0.6919383761750898, 1.12...</td>\n",
       "      <td>0.432154</td>\n",
       "    </tr>\n",
       "    <tr>\n",
       "      <th>28463</th>\n",
       "      <td>6</td>\n",
       "      <td>200</td>\n",
       "      <td>Scrambled</td>\n",
       "      <td>sub_14</td>\n",
       "      <td>[-2.0175411172941695, 0.8159047525530797, 0.45...</td>\n",
       "      <td>0.486326</td>\n",
       "    </tr>\n",
       "  </tbody>\n",
       "</table>\n",
       "<p>768 rows × 6 columns</p>\n",
       "</div>"
      ],
      "text/plain": [
       "       D_bins   JU   contrast     sub  \\\n",
       "960         1   13     Motion  sub_02   \n",
       "961         2   13     Motion  sub_02   \n",
       "962         3   13     Motion  sub_02   \n",
       "963         4   13     Motion  sub_02   \n",
       "964         5   13     Motion  sub_02   \n",
       "...       ...  ...        ...     ...   \n",
       "28459       2  200  Scrambled  sub_14   \n",
       "28460       3  200  Scrambled  sub_14   \n",
       "28461       4  200  Scrambled  sub_14   \n",
       "28462       5  200  Scrambled  sub_14   \n",
       "28463       6  200  Scrambled  sub_14   \n",
       "\n",
       "                                         tc_concatenated       isc  \n",
       "960    [-0.857982775442284, 0.3961405928276347, -0.81...  0.097436  \n",
       "961    [-0.6121689485606284, -0.41442262115461215, 0....  0.122316  \n",
       "962    [-1.254808798792133, 0.7360159510254902, -0.93...  0.112601  \n",
       "963    [-1.8145595718289669, 0.9421807083579372, -0.3...  0.131935  \n",
       "964    [-1.937179435005998, -0.1234273041502649, 0.93...  0.084087  \n",
       "...                                                  ...       ...  \n",
       "28459  [1.6908750370992196, 0.5937982667644987, -1.46...  0.168187  \n",
       "28460  [-1.242141493654162, 1.2462658368241593, -0.43...  0.314468  \n",
       "28461  [-0.3402723145889234, 0.5793441311038934, 0.57...  0.311683  \n",
       "28462  [-1.6021269910251628, 0.6919383761750898, 1.12...  0.432154  \n",
       "28463  [-2.0175411172941695, 0.8159047525530797, 0.45...  0.486326  \n",
       "\n",
       "[768 rows x 6 columns]"
      ]
     },
     "execution_count": 458,
     "metadata": {},
     "output_type": "execute_result"
    }
   ],
   "source": [
    "cdf"
   ]
  },
  {
   "cell_type": "code",
   "execution_count": null,
   "metadata": {},
   "outputs": [],
   "source": []
  },
  {
   "cell_type": "code",
   "execution_count": 459,
   "metadata": {},
   "outputs": [],
   "source": [
    "isc_column = np.array([])\n",
    "\n",
    "subJUcdf = cdf.loc[lambda d : (d['JU']==13)|(d['JU']==35)|(d['JU']==91)]\n",
    "subJUcdf = subJUcdf.sort_values(['JU','D_bins'])\n",
    "isfc_data = {}\n",
    "isfc_mean_data = {}\n",
    "nsub = subJUcdf['sub'].nunique()\n",
    "\n",
    "sel_JUs = {'BA44':13, 'PFt':35, 'BA6':91}\n",
    "\n",
    "nJU = len(sel_JUs)\n",
    "\n",
    "for c,contrast_df in subJUcdf.groupby('contrast'):\n",
    "\n",
    "    iscarr = np.array(list(contrast_df\n",
    "     .groupby('sub')\n",
    "     .apply(lambda d: np.array(list(d['tc_concatenated'])).T)\n",
    "    ))\n",
    "\n",
    "    iscarr = np.moveaxis(iscarr,0,2)\n",
    "\n",
    "    isc_data =  isc(iscarr)\n",
    "    raw_isfc = isfc(iscarr)[0]\n",
    "    isfc_data[c] = np.zeros((nsub,int(nbins*nJU*(nbins*nJU-1)/2)))\n",
    "    for r,sub_isfc in enumerate(raw_isfc):\n",
    "        isfc_data[c][r,:] = np.arctanh(sub_isfc)    \n",
    "    isfc_mean_data[c] = np.average(isfc_data[c],axis = 0)\n",
    "    \n",
    "    \n",
    "    isc_column = np.append(isc_column,isc_data.ravel())\n",
    "\n",
    "subJUcdf['isc'] = np.arctanh(isc_column)\n"
   ]
  },
  {
   "cell_type": "code",
   "execution_count": 460,
   "metadata": {},
   "outputs": [
    {
     "data": {
      "text/plain": [
       "18"
      ]
     },
     "execution_count": 460,
     "metadata": {},
     "output_type": "execute_result"
    }
   ],
   "source": [
    "nbins*nJU"
   ]
  },
  {
   "cell_type": "code",
   "execution_count": null,
   "metadata": {},
   "outputs": [],
   "source": []
  },
  {
   "cell_type": "code",
   "execution_count": 461,
   "metadata": {},
   "outputs": [],
   "source": [
    "from scipy.spatial.distance import squareform"
   ]
  },
  {
   "cell_type": "code",
   "execution_count": null,
   "metadata": {},
   "outputs": [],
   "source": []
  },
  {
   "cell_type": "code",
   "execution_count": null,
   "metadata": {},
   "outputs": [],
   "source": []
  },
  {
   "cell_type": "code",
   "execution_count": 462,
   "metadata": {},
   "outputs": [
    {
     "data": {
      "text/plain": [
       "Ttest_1sampResult(statistic=4.418379934178995, pvalue=0.0030873313976701794)"
      ]
     },
     "execution_count": 462,
     "metadata": {},
     "output_type": "execute_result"
    }
   ],
   "source": [
    "ttest_1samp(isfc_data['Motion'][:,14],0)"
   ]
  },
  {
   "cell_type": "code",
   "execution_count": 463,
   "metadata": {},
   "outputs": [
    {
     "data": {
      "text/plain": [
       "Ttest_1sampResult(statistic=5.266282353496269, pvalue=0.0011653329855294073)"
      ]
     },
     "execution_count": 463,
     "metadata": {},
     "output_type": "execute_result"
    }
   ],
   "source": [
    "ttest_1samp(isfc_data['Motion'][:,17],0)"
   ]
  },
  {
   "cell_type": "code",
   "execution_count": 464,
   "metadata": {},
   "outputs": [],
   "source": [
    "from scipy.stats import ttest_1samp,ttest_rel\n",
    "from statsmodels.stats.multitest import fdrcorrection"
   ]
  },
  {
   "cell_type": "code",
   "execution_count": 465,
   "metadata": {},
   "outputs": [
    {
     "data": {
      "text/plain": [
       "array([[ 0.        ,  0.        ,  0.        ,  0.        ,  0.        ,\n",
       "         0.        ,  0.        ,  0.        ,  0.        ,  0.        ,\n",
       "         0.        ,  0.        ,  0.        ,  0.        ,  0.        ,\n",
       "         0.        ,  0.        ,  0.        ,  0.        ,  0.        ,\n",
       "         0.        ,  0.        ,  0.        ,  0.        ,  0.        ,\n",
       "         0.        ,  0.        ,  0.        ,  0.        ,  0.        ],\n",
       "       [ 0.        ,  0.        ,  0.        ,  0.        ,  0.        ,\n",
       "         0.        ,  0.        ,  0.        ,  0.00480661, -0.00781951,\n",
       "         0.        ,  0.        ,  0.        ,  0.        ,  0.        ,\n",
       "         0.        ,  0.        ,  0.        ,  0.        ,  0.        ,\n",
       "         0.01887096,  0.        ,  0.03291299,  0.02694918,  0.02430835,\n",
       "         0.        ,  0.        ,  0.        ,  0.        ,  0.        ],\n",
       "       [ 0.        ,  0.        ,  0.        ,  0.        ,  0.0279668 ,\n",
       "         0.03641834,  0.0347332 ,  0.        ,  0.01312194,  0.00796644,\n",
       "         0.        ,  0.        ,  0.        ,  0.        ,  0.        ,\n",
       "         0.        ,  0.        ,  0.        ,  0.        ,  0.        ,\n",
       "         0.00789797,  0.        ,  0.        ,  0.        ,  0.        ,\n",
       "         0.01010038,  0.00421118,  0.02128523,  0.        ,  0.        ],\n",
       "       [ 0.        ,  0.        ,  0.        ,  0.        ,  0.        ,\n",
       "         0.        ,  0.03292535,  0.        ,  0.0025645 , -0.03078671,\n",
       "         0.        ,  0.        ,  0.        ,  0.        ,  0.        ,\n",
       "         0.        ,  0.        ,  0.        ,  0.        ,  0.        ,\n",
       "        -0.01420217,  0.        ,  0.0169477 ,  0.01915961,  0.        ,\n",
       "         0.02119563,  0.        ,  0.        ,  0.        ,  0.        ],\n",
       "       [ 0.        ,  0.        ,  0.0279668 ,  0.        ,  0.        ,\n",
       "         0.        ,  0.04913398,  0.01063644,  0.02057512,  0.01131378,\n",
       "         0.        ,  0.        ,  0.        ,  0.        ,  0.06663405,\n",
       "         0.        ,  0.0669382 ,  0.        ,  0.        ,  0.        ,\n",
       "         0.01599011,  0.        ,  0.        ,  0.        ,  0.        ,\n",
       "         0.        ,  0.        ,  0.        ,  0.        ,  0.        ],\n",
       "       [ 0.        ,  0.        ,  0.03641834,  0.        ,  0.        ,\n",
       "         0.        ,  0.        ,  0.        ,  0.01653903,  0.00849801,\n",
       "         0.        ,  0.        ,  0.        ,  0.        ,  0.        ,\n",
       "         0.        ,  0.06113454,  0.        ,  0.        ,  0.        ,\n",
       "        -0.00246907,  0.        ,  0.        ,  0.02981799,  0.        ,\n",
       "         0.        ,  0.        ,  0.        ,  0.        ,  0.        ],\n",
       "       [ 0.        ,  0.        ,  0.0347332 ,  0.03292535,  0.04913398,\n",
       "         0.        ,  0.        ,  0.02000764,  0.0154507 ,  0.01703831,\n",
       "         0.        ,  0.        ,  0.        ,  0.        ,  0.06368544,\n",
       "         0.07549794,  0.06074618,  0.        ,  0.        ,  0.        ,\n",
       "         0.01509797,  0.        ,  0.        ,  0.02756307,  0.        ,\n",
       "         0.02497053,  0.02184493,  0.03314882,  0.02927966,  0.        ],\n",
       "       [ 0.        ,  0.        ,  0.        ,  0.        ,  0.01063644,\n",
       "         0.        ,  0.02000764,  0.        ,  0.00239068, -0.        ,\n",
       "         0.        ,  0.        ,  0.        ,  0.        ,  0.0588835 ,\n",
       "         0.05851914,  0.05258595,  0.05295419,  0.05218207,  0.03945036,\n",
       "         0.01122903,  0.00893087,  0.        ,  0.01817301,  0.02852143,\n",
       "         0.01720186,  0.        ,  0.02649006,  0.        ,  0.        ],\n",
       "       [ 0.        ,  0.00480661,  0.01312194,  0.0025645 ,  0.02057512,\n",
       "         0.01653903,  0.0154507 ,  0.00239068,  0.        , -0.01644427,\n",
       "         0.04713016,  0.05797315,  0.        ,  0.        ,  0.04788625,\n",
       "         0.04660844,  0.0380439 ,  0.04440216,  0.        ,  0.        ,\n",
       "         0.        ,  0.        ,  0.        ,  0.02540553,  0.        ,\n",
       "         0.00458557,  0.00057393,  0.01814432,  0.01360427,  0.        ],\n",
       "       [ 0.        , -0.00781951,  0.00796644, -0.03078671,  0.01131378,\n",
       "         0.00849801,  0.01703831, -0.        , -0.01644427,  0.        ,\n",
       "         0.05012212,  0.        ,  0.        ,  0.        ,  0.03481027,\n",
       "         0.03079962,  0.03279021,  0.        ,  0.01650229,  0.        ,\n",
       "         0.        ,  0.        ,  0.        ,  0.01346423,  0.        ,\n",
       "         0.        ,  0.        ,  0.        ,  0.        ,  0.        ],\n",
       "       [ 0.        ,  0.        ,  0.        ,  0.        ,  0.        ,\n",
       "         0.        ,  0.        ,  0.        ,  0.04713016,  0.05012212,\n",
       "         0.        ,  0.        ,  0.0960717 ,  0.09227952,  0.08613282,\n",
       "         0.09724641,  0.09166522,  0.        ,  0.08466656,  0.        ,\n",
       "         0.        ,  0.        ,  0.03287093,  0.03988626,  0.03063284,\n",
       "         0.03070449,  0.03078663,  0.04928486,  0.05069104,  0.        ],\n",
       "       [ 0.        ,  0.        ,  0.        ,  0.        ,  0.        ,\n",
       "         0.        ,  0.        ,  0.        ,  0.05797315,  0.        ,\n",
       "         0.        ,  0.        ,  0.11116466,  0.10956597,  0.10553121,\n",
       "         0.11563998,  0.        ,  0.        ,  0.        ,  0.        ,\n",
       "         0.        ,  0.        ,  0.05199131,  0.05372199,  0.04467158,\n",
       "         0.04624464,  0.04249835,  0.        ,  0.        ,  0.        ],\n",
       "       [ 0.        ,  0.        ,  0.        ,  0.        ,  0.        ,\n",
       "         0.        ,  0.        ,  0.        ,  0.        ,  0.        ,\n",
       "         0.0960717 ,  0.11116466,  0.        ,  0.12724104,  0.13206175,\n",
       "         0.14197867,  0.1314745 ,  0.12208104,  0.12078498,  0.        ,\n",
       "         0.        ,  0.        ,  0.        ,  0.        ,  0.        ,\n",
       "         0.        ,  0.        ,  0.        ,  0.        ,  0.05479108],\n",
       "       [ 0.        ,  0.        ,  0.        ,  0.        ,  0.        ,\n",
       "         0.        ,  0.        ,  0.        ,  0.        ,  0.        ,\n",
       "         0.09227952,  0.10956597,  0.12724104,  0.        ,  0.12566946,\n",
       "         0.13413893,  0.12960726,  0.12107928,  0.        ,  0.        ,\n",
       "         0.        ,  0.        ,  0.        ,  0.0459386 ,  0.04417489,\n",
       "         0.        ,  0.04057993,  0.        ,  0.        ,  0.        ],\n",
       "       [ 0.        ,  0.        ,  0.        ,  0.        ,  0.06663405,\n",
       "         0.        ,  0.06368544,  0.0588835 ,  0.04788625,  0.03481027,\n",
       "         0.08613282,  0.10553121,  0.13206175,  0.12566946,  0.        ,\n",
       "         0.13059705,  0.        ,  0.        ,  0.        ,  0.        ,\n",
       "         0.02943128,  0.        ,  0.04450694,  0.04445734,  0.03502756,\n",
       "         0.038829  ,  0.03522083,  0.05782834,  0.05642932,  0.03752985],\n",
       "       [ 0.        ,  0.        ,  0.        ,  0.        ,  0.        ,\n",
       "         0.        ,  0.07549794,  0.05851914,  0.04660844,  0.03079962,\n",
       "         0.09724641,  0.11563998,  0.14197867,  0.13413893,  0.13059705,\n",
       "         0.        ,  0.        ,  0.        ,  0.        ,  0.        ,\n",
       "         0.        ,  0.        ,  0.05065569,  0.0466165 ,  0.03444162,\n",
       "         0.04249423,  0.0390804 ,  0.06206527,  0.06800486,  0.0470378 ],\n",
       "       [ 0.        ,  0.        ,  0.        ,  0.        ,  0.0669382 ,\n",
       "         0.06113454,  0.06074618,  0.05258595,  0.0380439 ,  0.03279021,\n",
       "         0.09166522,  0.        ,  0.1314745 ,  0.12960726,  0.        ,\n",
       "         0.        ,  0.        ,  0.        ,  0.        ,  0.        ,\n",
       "         0.        ,  0.        ,  0.        ,  0.04442261,  0.03829768,\n",
       "         0.        ,  0.        ,  0.        ,  0.        ,  0.04390574],\n",
       "       [ 0.        ,  0.        ,  0.        ,  0.        ,  0.        ,\n",
       "         0.        ,  0.        ,  0.05295419,  0.04440216,  0.        ,\n",
       "         0.        ,  0.        ,  0.12208104,  0.12107928,  0.        ,\n",
       "         0.        ,  0.        ,  0.        ,  0.        ,  0.        ,\n",
       "         0.03233384,  0.        ,  0.        ,  0.05211646,  0.        ,\n",
       "         0.        ,  0.        ,  0.        ,  0.        ,  0.        ],\n",
       "       [ 0.        ,  0.        ,  0.        ,  0.        ,  0.        ,\n",
       "         0.        ,  0.        ,  0.05218207,  0.        ,  0.01650229,\n",
       "         0.08466656,  0.        ,  0.12078498,  0.        ,  0.        ,\n",
       "         0.        ,  0.        ,  0.        ,  0.        ,  0.        ,\n",
       "         0.        ,  0.        ,  0.        ,  0.04115705,  0.        ,\n",
       "         0.        ,  0.        ,  0.        ,  0.        ,  0.        ],\n",
       "       [ 0.        ,  0.        ,  0.        ,  0.        ,  0.        ,\n",
       "         0.        ,  0.        ,  0.03945036,  0.        ,  0.        ,\n",
       "         0.        ,  0.        ,  0.        ,  0.        ,  0.        ,\n",
       "         0.        ,  0.        ,  0.        ,  0.        ,  0.        ,\n",
       "         0.01650784,  0.        ,  0.        ,  0.02245738,  0.        ,\n",
       "         0.        ,  0.        ,  0.        ,  0.        ,  0.        ],\n",
       "       [ 0.        ,  0.01887096,  0.00789797, -0.01420217,  0.01599011,\n",
       "        -0.00246907,  0.01509797,  0.01122903,  0.        ,  0.        ,\n",
       "         0.        ,  0.        ,  0.        ,  0.        ,  0.02943128,\n",
       "         0.        ,  0.        ,  0.03233384,  0.        ,  0.01650784,\n",
       "         0.        ,  0.        ,  0.        ,  0.        ,  0.        ,\n",
       "         0.        ,  0.        ,  0.        ,  0.0238103 ,  0.00997412],\n",
       "       [ 0.        ,  0.        ,  0.        ,  0.        ,  0.        ,\n",
       "         0.        ,  0.        ,  0.00893087,  0.        ,  0.        ,\n",
       "         0.        ,  0.        ,  0.        ,  0.        ,  0.        ,\n",
       "         0.        ,  0.        ,  0.        ,  0.        ,  0.        ,\n",
       "         0.        ,  0.        ,  0.        ,  0.        ,  0.        ,\n",
       "         0.        ,  0.        ,  0.01067858,  0.00548999, -0.01195115],\n",
       "       [ 0.        ,  0.03291299,  0.        ,  0.0169477 ,  0.        ,\n",
       "         0.        ,  0.        ,  0.        ,  0.        ,  0.        ,\n",
       "         0.03287093,  0.05199131,  0.        ,  0.        ,  0.04450694,\n",
       "         0.05065569,  0.        ,  0.        ,  0.        ,  0.        ,\n",
       "         0.        ,  0.        ,  0.        ,  0.        ,  0.        ,\n",
       "         0.        ,  0.        ,  0.        ,  0.        ,  0.        ],\n",
       "       [ 0.        ,  0.02694918,  0.        ,  0.01915961,  0.        ,\n",
       "         0.02981799,  0.02756307,  0.01817301,  0.02540553,  0.01346423,\n",
       "         0.03988626,  0.05372199,  0.        ,  0.0459386 ,  0.04445734,\n",
       "         0.0466165 ,  0.04442261,  0.05211646,  0.04115705,  0.02245738,\n",
       "         0.        ,  0.        ,  0.        ,  0.        ,  0.        ,\n",
       "         0.        ,  0.        ,  0.        ,  0.03060889,  0.        ],\n",
       "       [ 0.        ,  0.02430835,  0.        ,  0.        ,  0.        ,\n",
       "         0.        ,  0.        ,  0.02852143,  0.        ,  0.        ,\n",
       "         0.03063284,  0.04467158,  0.        ,  0.04417489,  0.03502756,\n",
       "         0.03444162,  0.03829768,  0.        ,  0.        ,  0.        ,\n",
       "         0.        ,  0.        ,  0.        ,  0.        ,  0.        ,\n",
       "         0.02107856,  0.        ,  0.        ,  0.        ,  0.        ],\n",
       "       [ 0.        ,  0.        ,  0.01010038,  0.02119563,  0.        ,\n",
       "         0.        ,  0.02497053,  0.01720186,  0.00458557,  0.        ,\n",
       "         0.03070449,  0.04624464,  0.        ,  0.        ,  0.038829  ,\n",
       "         0.04249423,  0.        ,  0.        ,  0.        ,  0.        ,\n",
       "         0.        ,  0.        ,  0.        ,  0.        ,  0.02107856,\n",
       "         0.        ,  0.01399706,  0.03113847,  0.02438229,  0.        ],\n",
       "       [ 0.        ,  0.        ,  0.00421118,  0.        ,  0.        ,\n",
       "         0.        ,  0.02184493,  0.        ,  0.00057393,  0.        ,\n",
       "         0.03078663,  0.04249835,  0.        ,  0.04057993,  0.03522083,\n",
       "         0.0390804 ,  0.        ,  0.        ,  0.        ,  0.        ,\n",
       "         0.        ,  0.        ,  0.        ,  0.        ,  0.        ,\n",
       "         0.01399706,  0.        ,  0.03079169,  0.        ,  0.        ],\n",
       "       [ 0.        ,  0.        ,  0.02128523,  0.        ,  0.        ,\n",
       "         0.        ,  0.03314882,  0.02649006,  0.01814432,  0.        ,\n",
       "         0.04928486,  0.        ,  0.        ,  0.        ,  0.05782834,\n",
       "         0.06206527,  0.        ,  0.        ,  0.        ,  0.        ,\n",
       "         0.        ,  0.01067858,  0.        ,  0.        ,  0.        ,\n",
       "         0.03113847,  0.03079169,  0.        ,  0.04380745,  0.        ],\n",
       "       [ 0.        ,  0.        ,  0.        ,  0.        ,  0.        ,\n",
       "         0.        ,  0.02927966,  0.        ,  0.01360427,  0.        ,\n",
       "         0.05069104,  0.        ,  0.        ,  0.        ,  0.05642932,\n",
       "         0.06800486,  0.        ,  0.        ,  0.        ,  0.        ,\n",
       "         0.0238103 ,  0.00548999,  0.        ,  0.03060889,  0.        ,\n",
       "         0.02438229,  0.        ,  0.04380745,  0.        ,  0.        ],\n",
       "       [ 0.        ,  0.        ,  0.        ,  0.        ,  0.        ,\n",
       "         0.        ,  0.        ,  0.        ,  0.        ,  0.        ,\n",
       "         0.        ,  0.        ,  0.05479108,  0.        ,  0.03752985,\n",
       "         0.0470378 ,  0.04390574,  0.        ,  0.        ,  0.        ,\n",
       "         0.00997412, -0.01195115,  0.        ,  0.        ,  0.        ,\n",
       "         0.        ,  0.        ,  0.        ,  0.        ,  0.        ]])"
      ]
     },
     "execution_count": 465,
     "metadata": {},
     "output_type": "execute_result"
    }
   ],
   "source": [
    "squareform(np.average(z,axis=0)*(pmask))"
   ]
  },
  {
   "cell_type": "code",
   "execution_count": 474,
   "metadata": {},
   "outputs": [
    {
     "data": {
      "text/plain": [
       "'M_OR_S_JU_time_courses_thr200_bin6.csv'"
      ]
     },
     "execution_count": 474,
     "metadata": {},
     "output_type": "execute_result"
    }
   ],
   "source": [
    "f"
   ]
  },
  {
   "cell_type": "code",
   "execution_count": 484,
   "metadata": {},
   "outputs": [
    {
     "data": {
      "image/png": "[encoded data removed]",
      "text/plain": [
       "<Figure size 432x432 with 1 Axes>"
      ]
     },
     "metadata": {
      "needs_background": "light"
     },
     "output_type": "display_data"
    },
    {
     "data": {
      "image/png": "[encoded data removed]",
      "text/plain": [
       "<Figure size 432x432 with 1 Axes>"
      ]
     },
     "metadata": {
      "needs_background": "light"
     },
     "output_type": "display_data"
    }
   ],
   "source": [
    "\n",
    "\n",
    "for c in ['Motion','Scrambled']:\n",
    "    M = 0.2\n",
    "\n",
    "    fig,axarr = plt.subplots(nrows = 1, ncols=1,#+1, gridspec_kw={'width_ratios':[10]*nJU+[1]})#,\n",
    "                             sharex=True, sharey=True, figsize = (6,6))\n",
    "\n",
    "\n",
    "    z = isfc_data[c]\n",
    "    t,p = ttest_1samp(z, popmean = 0, axis=0)\n",
    "    pmask, pcorr = fdrcorrection(p,alpha = 0.05, is_sorted=False)\n",
    "\n",
    "    \n",
    "    z_matrix = squareform(np.average(z,axis=0)*(pmask))\n",
    "    cm = axarr.imshow(z_matrix,\n",
    "                        cmap = 'seismic', vmax=M,vmin=-M)\n",
    "                \n",
    "    fout = datafld + 'RESULTS/ISFC_{}_full_thr{}_bin{}.txt'.format(c,thr,nbins)\n",
    "    np.savetxt(fout,z_matrix)\n",
    "    \n",
    "#     plt.colorbar(cm,cax = axarr[1,3])\n",
    "\n",
    "    \n",
    "    plt.suptitle(c)\n"
   ]
  },
  {
   "cell_type": "code",
   "execution_count": 487,
   "metadata": {},
   "outputs": [
    {
     "name": "stdout",
     "output_type": "stream",
     "text": [
      "ISFC_Motion_BA44-BA44_thr200_bin6.txt\r\n",
      "ISFC_Motion_BA44-BA6_thr200_bin6.txt\r\n",
      "ISFC_Motion_BA44-PFt_thr200_bin6.txt\r\n",
      "ISFC_Motion_BA6-BA44_thr200_bin6.txt\r\n",
      "ISFC_Motion_BA6-BA6_thr200_bin6.txt\r\n",
      "ISFC_Motion_BA6-PFt_thr200_bin6.txt\r\n",
      "ISFC_Motion_full_thr200_bin6.txt\r\n",
      "ISFC_Motion_PFt-BA44_thr200_bin6.txt\r\n",
      "ISFC_Motion_PFt-BA6_thr200_bin6.txt\r\n",
      "ISFC_Motion_PFt-PFt_thr200_bin6.txt\r\n",
      "ISFC_Scrambled_BA44-BA44_thr200_bin6.txt\r\n",
      "ISFC_Scrambled_BA44-BA6_thr200_bin6.txt\r\n",
      "ISFC_Scrambled_BA44-PFt_thr200_bin6.txt\r\n",
      "ISFC_Scrambled_BA6-BA44_thr200_bin6.txt\r\n",
      "ISFC_Scrambled_BA6-BA6_thr200_bin6.txt\r\n",
      "ISFC_Scrambled_BA6-PFt_thr200_bin6.txt\r\n",
      "ISFC_Scrambled_full_thr200_bin6.txt\r\n",
      "ISFC_Scrambled_PFt-BA44_thr200_bin6.txt\r\n",
      "ISFC_Scrambled_PFt-BA6_thr200_bin6.txt\r\n",
      "ISFC_Scrambled_PFt-PFt_thr200_bin6.txt\r\n",
      "M_OR_S_JU_time_courses_thr100_bin10_isc.csv\r\n",
      "M_OR_S_JU_time_courses_thr100_bin10_isc.png\r\n",
      "M_OR_S_JU_time_courses_thr100_bin6_isc.csv\r\n",
      "M_OR_S_JU_time_courses_thr100_bin6_isc.png\r\n",
      "M_OR_S_JU_time_courses_thr100_bin8_isc.csv\r\n",
      "M_OR_S_JU_time_courses_thr100_bin8_isc.png\r\n",
      "M_OR_S_JU_time_courses_thr200_bin10_isc.csv\r\n",
      "M_OR_S_JU_time_courses_thr200_bin10_isc.png\r\n",
      "M_OR_S_JU_time_courses_thr200_bin6_isc.csv\r\n",
      "M_OR_S_JU_time_courses_thr200_bin6_isc.png\r\n",
      "M_OR_S_JU_time_courses_thr200_bin8_isc.csv\r\n",
      "M_OR_S_JU_time_courses_thr200_bin8_isc.png\r\n"
     ]
    }
   ],
   "source": [
    "!ls /data00/layerfMRI/Github_repo/layerfMRI/analyses/dual_ISC/TC_4_lorenzo/RESULTS"
   ]
  },
  {
   "cell_type": "code",
   "execution_count": 486,
   "metadata": {},
   "outputs": [
    {
     "data": {
      "image/png": "[encoded data removed]",
      "text/plain": [
       "<Figure size 432x432 with 9 Axes>"
      ]
     },
     "metadata": {
      "needs_background": "light"
     },
     "output_type": "display_data"
    },
    {
     "data": {
      "image/png": "[encoded data removed]",
      "text/plain": [
       "<Figure size 432x432 with 9 Axes>"
      ]
     },
     "metadata": {
      "needs_background": "light"
     },
     "output_type": "display_data"
    }
   ],
   "source": [
    "sel_JUs = {'BA44':13, 'PFt':35, 'BA6':91}\n",
    "list_JUs = list(sel_JUs)\n",
    "\n",
    "nJU = len(sel_JUs)\n",
    "\n",
    "for c in isfc_mean_data:\n",
    "    M = 0.2\n",
    "    \n",
    "    \n",
    "    z = isfc_data[c]\n",
    "    t,p = ttest_1samp(z, popmean = 0, axis=0)\n",
    "    pmask, pcorr = fdrcorrection(p,alpha = 0.05)\n",
    "\n",
    "    \n",
    "\n",
    "    fig,axarr = plt.subplots(nrows = nJU, ncols=nJU,#+1, gridspec_kw={'width_ratios':[10]*nJU+[1]})#,\n",
    "                             sharex=True, sharey=True, figsize = (6,6))\n",
    "\n",
    "    for ix in range(nJU):\n",
    "\n",
    "        # Labels JU\n",
    "        axarr[ix,-1].yaxis.set_label_position(\"right\")\n",
    "        axarr[ix,-1].set_ylabel(list_JUs[ix], rotation = 270, labelpad=14)\n",
    "        axarr[0,ix].xaxis.set_label_position(\"top\")\n",
    "        axarr[0,ix].set_xlabel(list_JUs[ix], labelpad=4)\n",
    "        # Labels bins\n",
    "        axarr[ix,0].set_yticks(np.arange(0,nbins,5))\n",
    "        axarr[ix,0].set_yticklabels(np.arange(0,nbins,5)+1)\n",
    "        axarr[-1,ix].set_xticks(np.arange(0,nbins,5))\n",
    "        axarr[-1,ix].set_xticklabels(np.arange(0,nbins,5)+1)\n",
    "        axarr[ix,0].minorticks_on()\n",
    "        \n",
    "        for iy in range(nJU):\n",
    "            \n",
    "\n",
    "            z_matrix = squareform(np.average(z,axis=0)*(pmask))[nbins*iy:nbins*(iy+1),nbins*ix:nbins*(ix+1)]\n",
    "            cm = axarr[iy,ix].imshow(z_matrix,\n",
    "                                cmap = 'seismic', vmax=M,vmin=-M)\n",
    "\n",
    "\n",
    "            \n",
    "            fout = datafld + 'RESULTS/ISFC_{}_{}-{}_thr{}_bin{}.txt'.format(c,list_JUs[iy],list_JUs[ix],thr,nbins)\n",
    "            np.savetxt(fout,z_matrix)\n",
    "\n",
    "            \n",
    "#     plt.colorbar(cm,cax = axarr[1,3])\n",
    "    \n",
    "    axarr[1,0].set_ylabel('# bin')\n",
    "    axarr[-1,1].set_xlabel('# bin')\n",
    "    \n",
    "    plt.suptitle(c)\n"
   ]
  },
  {
   "cell_type": "code",
   "execution_count": 477,
   "metadata": {},
   "outputs": [
    {
     "data": {
      "text/plain": [
       "['isfc_Motion_PFt-PFt_thr200_bin6.txt',\n",
       " 'isfc_PFt-BA44_thr200_bin6.txt',\n",
       " 'isfc_BA44-BA6_thr200_bin6.txt',\n",
       " 'M_OR_S_JU_time_courses_thr200_bin6_isc.png',\n",
       " 'M_OR_S_JU_time_courses_thr100_bin6_isc.csv',\n",
       " 'isfc_BA44-PFt_thr200_bin6.txt',\n",
       " 'M_OR_S_JU_time_courses_thr100_bin8_isc.png',\n",
       " 'M_OR_S_JU_time_courses_thr200_bin8_isc.csv',\n",
       " 'isfc_BA6-BA6_thr200_bin6.txt',\n",
       " 'isfc_Scrambled_BA44-BA44_thr200_bin6.txt',\n",
       " 'isfc_Motion_BA44-BA44_thr200_bin6.txt',\n",
       " 'isfc_Scrambled_PFt-BA6_thr200_bin6.txt',\n",
       " 'isfc_PFt-PFt_thr200_bin6.txt',\n",
       " 'M_OR_S_JU_time_courses_thr100_bin6_isc.png',\n",
       " 'M_OR_S_JU_time_courses_thr100_bin8_isc.csv',\n",
       " 'isfc_Motion_BA44-BA6_thr200_bin6.txt',\n",
       " 'isfc_Motion_BA6-BA6_thr200_bin6.txt',\n",
       " 'M_OR_S_JU_time_courses_thr100_bin10_isc.png',\n",
       " 'isfc_Scrambled_PFt-PFt_thr200_bin6.txt',\n",
       " 'isfc_Scrambled_BA6-BA6_thr200_bin6.txt',\n",
       " 'isfc_Motion_PFt-BA6_thr200_bin6.txt',\n",
       " 'M_OR_S_JU_time_courses_thr100_bin10_isc.csv',\n",
       " 'isfc_Motion_PFt-BA44_thr200_bin6.txt',\n",
       " 'M_OR_S_JU_time_courses_thr200_bin10_isc.png',\n",
       " 'isfc_BA6-BA44_thr200_bin6.txt',\n",
       " 'isfc_BA6-PFt_thr200_bin6.txt',\n",
       " 'isfc_Scrambled_PFt-BA44_thr200_bin6.txt',\n",
       " 'isfc_PFt-BA6_thr200_bin6.txt',\n",
       " 'isfc_Scrambled_BA6-BA44_thr200_bin6.txt',\n",
       " 'isfc_Motion_BA44-PFt_thr200_bin6.txt',\n",
       " 'isfc_BA44-BA44_thr200_bin6.txt',\n",
       " 'isfc_Motion_BA6-BA44_thr200_bin6.txt',\n",
       " 'isfc_Scrambled_BA6-PFt_thr200_bin6.txt',\n",
       " 'isfc_Scrambled_BA44-PFt_thr200_bin6.txt',\n",
       " 'isfc_Motion_BA6-PFt_thr200_bin6.txt',\n",
       " 'isfc_Scrambled_BA44-BA6_thr200_bin6.txt',\n",
       " 'M_OR_S_JU_time_courses_thr200_bin6_isc.csv',\n",
       " 'M_OR_S_JU_time_courses_thr200_bin8_isc.png',\n",
       " 'M_OR_S_JU_time_courses_thr200_bin10_isc.csv']"
      ]
     },
     "execution_count": 477,
     "metadata": {},
     "output_type": "execute_result"
    }
   ],
   "source": [
    "os.listdir(datafld+'RESULTS')"
   ]
  },
  {
   "cell_type": "code",
   "execution_count": 468,
   "metadata": {},
   "outputs": [
    {
     "data": {
      "text/plain": [
       "Text(0.5, 0.98, 'Motion - Scrambled')"
      ]
     },
     "execution_count": 468,
     "metadata": {},
     "output_type": "execute_result"
    },
    {
     "data": {
      "image/png": "[encoded data removed]",
      "text/plain": [
       "<Figure size 432x432 with 9 Axes>"
      ]
     },
     "metadata": {
      "needs_background": "light"
     },
     "output_type": "display_data"
    }
   ],
   "source": [
    "zm = isfc_data['Motion']\n",
    "zs = isfc_data['Scrambled']\n",
    "\n",
    "t,p = ttest_rel(zm,zs, axis=0)\n",
    "pmask, pcorr = fdrcorrection(p,alpha = 0.05)\n",
    "\n",
    "\n",
    "fig,axarr = plt.subplots(nrows = nJU, ncols=nJU,#+1, gridspec_kw={'width_ratios':[10]*nJU+[1]})#,\n",
    "                         sharex=True, sharey=True, figsize = (6,6))\n",
    "\n",
    "for ix in range(nJU):\n",
    "\n",
    "    # Labels JU\n",
    "    axarr[ix,-1].yaxis.set_label_position(\"right\")\n",
    "    axarr[ix,-1].set_ylabel(list(sel_JUs)[ix], rotation = 270, labelpad=14)\n",
    "    axarr[0,ix].xaxis.set_label_position(\"top\")\n",
    "    axarr[0,ix].set_xlabel(list(sel_JUs)[ix], labelpad=4)\n",
    "    # Labels bins\n",
    "    axarr[ix,0].set_yticks(np.arange(0,nbins,5))\n",
    "    axarr[ix,0].set_yticklabels(np.arange(0,nbins,5)+1)\n",
    "    axarr[-1,ix].set_xticks(np.arange(0,nbins,5))\n",
    "    axarr[-1,ix].set_xticklabels(np.arange(0,nbins,5)+1)\n",
    "    axarr[ix,0].minorticks_on()\n",
    "        \n",
    "    for iy in range(nJU):\n",
    "\n",
    "\n",
    "\n",
    "\n",
    "        cm = axarr[iy,ix].imshow(squareform(np.average(zm-zs,axis=0)*(pmask))[nbins*iy:nbins*(iy+1),nbins*ix:nbins*(ix+1)],\n",
    "                            cmap = 'seismic', vmax=M,vmin=-M)\n",
    "\n",
    "\n",
    "#     plt.colorbar(cm,cax = axarr[1,3])\n",
    "axarr[1,0].set_ylabel('# bin')\n",
    "axarr[-1,1].set_xlabel('# bin')\n",
    "    \n",
    "\n",
    "plt.suptitle('Motion - Scrambled')\n"
   ]
  },
  {
   "cell_type": "code",
   "execution_count": 469,
   "metadata": {},
   "outputs": [
    {
     "data": {
      "image/png": "[encoded data removed]",
      "text/plain": [
       "<Figure size 432x21.6 with 1 Axes>"
      ]
     },
     "metadata": {
      "needs_background": "light"
     },
     "output_type": "display_data"
    }
   ],
   "source": [
    "fig,ax = plt.subplots(figsize = (6,0.3))\n",
    "plt.colorbar(cm,cax = ax,orientation = 'horizontal', ticks = np.arange(-M,M+0.1,0.1))\n",
    "ax.set_xlabel('Z transformed ISFC')\n",
    "plt.show()"
   ]
  },
  {
   "cell_type": "code",
   "execution_count": null,
   "metadata": {},
   "outputs": [],
   "source": []
  },
  {
   "cell_type": "code",
   "execution_count": null,
   "metadata": {},
   "outputs": [],
   "source": []
  },
  {
   "cell_type": "code",
   "execution_count": null,
   "metadata": {},
   "outputs": [],
   "source": []
  },
  {
   "cell_type": "code",
   "execution_count": null,
   "metadata": {},
   "outputs": [],
   "source": []
  },
  {
   "cell_type": "code",
   "execution_count": null,
   "metadata": {},
   "outputs": [],
   "source": []
  },
  {
   "cell_type": "code",
   "execution_count": null,
   "metadata": {},
   "outputs": [],
   "source": []
  },
  {
   "cell_type": "code",
   "execution_count": null,
   "metadata": {},
   "outputs": [],
   "source": []
  },
  {
   "cell_type": "code",
   "execution_count": null,
   "metadata": {},
   "outputs": [],
   "source": []
  },
  {
   "cell_type": "code",
   "execution_count": null,
   "metadata": {},
   "outputs": [],
   "source": []
  },
  {
   "cell_type": "code",
   "execution_count": null,
   "metadata": {},
   "outputs": [],
   "source": []
  },
  {
   "cell_type": "code",
   "execution_count": null,
   "metadata": {},
   "outputs": [],
   "source": []
  },
  {
   "cell_type": "code",
   "execution_count": null,
   "metadata": {},
   "outputs": [],
   "source": []
  },
  {
   "cell_type": "code",
   "execution_count": null,
   "metadata": {},
   "outputs": [],
   "source": []
  },
  {
   "cell_type": "code",
   "execution_count": null,
   "metadata": {},
   "outputs": [],
   "source": []
  },
  {
   "cell_type": "code",
   "execution_count": null,
   "metadata": {},
   "outputs": [],
   "source": []
  },
  {
   "cell_type": "code",
   "execution_count": null,
   "metadata": {},
   "outputs": [],
   "source": []
  },
  {
   "cell_type": "code",
   "execution_count": null,
   "metadata": {},
   "outputs": [],
   "source": []
  },
  {
   "cell_type": "code",
   "execution_count": null,
   "metadata": {},
   "outputs": [],
   "source": []
  },
  {
   "cell_type": "code",
   "execution_count": null,
   "metadata": {},
   "outputs": [],
   "source": []
  },
  {
   "cell_type": "code",
   "execution_count": null,
   "metadata": {},
   "outputs": [],
   "source": []
  },
  {
   "cell_type": "code",
   "execution_count": null,
   "metadata": {},
   "outputs": [],
   "source": []
  },
  {
   "cell_type": "code",
   "execution_count": null,
   "metadata": {},
   "outputs": [],
   "source": []
  },
  {
   "cell_type": "code",
   "execution_count": null,
   "metadata": {},
   "outputs": [],
   "source": []
  },
  {
   "cell_type": "code",
   "execution_count": null,
   "metadata": {},
   "outputs": [],
   "source": []
  },
  {
   "cell_type": "code",
   "execution_count": null,
   "metadata": {},
   "outputs": [],
   "source": []
  },
  {
   "cell_type": "code",
   "execution_count": null,
   "metadata": {},
   "outputs": [],
   "source": []
  },
  {
   "cell_type": "code",
   "execution_count": null,
   "metadata": {},
   "outputs": [],
   "source": []
  }
 ],
 "metadata": {
  "kernelspec": {
   "display_name": "brainiak",
   "language": "python",
   "name": "brainiak"
  },
  "language_info": {
   "codemirror_mode": {
    "name": "ipython",
    "version": 3
   },
   "file_extension": ".py",
   "mimetype": "text/x-python",
   "name": "python",
   "nbconvert_exporter": "python",
   "pygments_lexer": "ipython3",
   "version": "3.7.6"
  }
 },
 "nbformat": 4,
 "nbformat_minor": 4
}
