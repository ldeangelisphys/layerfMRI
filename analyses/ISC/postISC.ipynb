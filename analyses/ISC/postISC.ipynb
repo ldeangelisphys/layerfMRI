{
 "cells": [
  {
   "cell_type": "code",
   "execution_count": 109,
   "metadata": {},
   "outputs": [],
   "source": [
    "from brainiak.isc import isc,bootstrap_isc,compute_summary_statistic,isfc,squareform_isfc\n",
    "import pandas as pd\n",
    "import numpy as np\n",
    "import os\n",
    "import matplotlib.pyplot as plt"
   ]
  },
  {
   "cell_type": "code",
   "execution_count": 2,
   "metadata": {},
   "outputs": [],
   "source": [
    "def r2numpy(rvec):\n",
    "    \n",
    "    return np.array(rvec[2:-1].split(', '),dtype = 'float')\n",
    "\n",
    "# def trim_movielength(dataf):\n",
    "    \n",
    "#     trimmed = dataf['tc_mean_unfolded'][:movie_length[dataf['muvi']]]\n",
    "    \n",
    "#     return trimmed\n",
    "    \n",
    "    \n",
    "def stdize(a):\n",
    "    \n",
    "    return (a - np.average(a)) / np.std(a)\n",
    "\n"
   ]
  },
  {
   "cell_type": "code",
   "execution_count": 3,
   "metadata": {},
   "outputs": [
    {
     "data": {
      "text/plain": [
       "['M_OR_S_JU_time_courses_thr200_bin10.csv',\n",
       " 'M_OR_S_JU_time_courses_thr100_bin10.csv',\n",
       " 'RESULTS',\n",
       " 'M_OR_S_JU_time_courses_thr200_bin8.csv',\n",
       " 'M_OR_S_JU_time_courses_thr200_bin6.csv',\n",
       " 'M_OR_S_JU_time_courses_thr100_bin6.csv',\n",
       " 'M_OR_S_JU_time_courses_thr100_bin8.csv']"
      ]
     },
     "execution_count": 3,
     "metadata": {},
     "output_type": "execute_result"
    }
   ],
   "source": [
    "froot = '/data00/layerfMRI/'\n",
    "datafld = froot + 'Github_repo/layerfMRI/analyses/dual_ISC/TC_4_lorenzo/'\n",
    "os.listdir(datafld)"
   ]
  },
  {
   "cell_type": "code",
   "execution_count": 4,
   "metadata": {},
   "outputs": [],
   "source": [
    "logsumm = (pd\n",
    "           .read_csv(froot+ 'logs/log_summary.csv')\n",
    "           .assign(fmri = lambda d:\n",
    "                   froot + \n",
    "                   'regdata/sub_' + d['subject'].apply(lambda n: '{:02d}'.format(n)) +\n",
    "                   '/ses_' + d['session'].apply(lambda n: '{:02d}'.format(n)) +\n",
    "                   '/func/task_' + d['task'].apply(lambda n: '{:01d}'.format(n)) +\n",
    "                   '_run_' + d['run'].apply(lambda n: '{:01d}'.format(n)) +\n",
    "                   '_4D_MNI.nii.gz'\n",
    "                  )\n",
    "           .assign(fmri_missing = lambda d : d['fmri'].apply(lambda s: os.path.isfile(s) != True))\n",
    "           \n",
    "          )\n",
    "\n",
    "\n",
    "movie_length = {}\n",
    "\n",
    "for mv in logsumm.Title.unique():\n",
    "    durations = logsumm.loc[lambda d : d['Title'] == mv].ExpectedDuration.unique()\n",
    "    if len(durations) != 1:\n",
    "        print('Warning! More than one duration found')\n",
    "        movie_length[mv] = np.min(durations)\n",
    "    else:\n",
    "        movie_length[mv] = durations[0]\n",
    "\n"
   ]
  },
  {
   "cell_type": "code",
   "execution_count": 434,
   "metadata": {},
   "outputs": [],
   "source": [
    "nbins = 10\n",
    "thr = 200\n",
    "method = 'M_OR_S'"
   ]
  },
  {
   "cell_type": "code",
   "execution_count": 435,
   "metadata": {},
   "outputs": [],
   "source": [
    "f = f'{method}_JU_time_courses_thr{thr}_bin{nbins}.csv'\n",
    "\n",
    "# Read dataframe\n",
    "df = pd.read_csv(datafld + f)\n",
    "\n",
    "# Transform timecourses into numpy arrays and standardize them\n",
    "df['tc_mean_unfolded'] = (df['tc_mean_unfolded']\n",
    "                          .map(r2numpy)\n",
    "                         )\n",
    "\n",
    "# Correct for movies that are missing the last frame\n",
    "df['measured_movl'] = df.apply(lambda row : len(row['tc_mean_unfolded']), axis = 1)\n",
    "df['expected_movl'] = df.apply(lambda row : movie_length[row['muvi']], axis = 1)\n",
    "\n",
    "corrected_movl = (df\n",
    "                  .loc[lambda d : d['expected_movl'] > d['measured_movl']]\n",
    "                  .groupby('muvi')\n",
    "                  .apply(lambda d: np.min(d['measured_movl']))\n",
    "                 )\n",
    "\n",
    "for m in dict(corrected_movl):\n",
    "    movie_length[m] = corrected_movl[m]\n",
    "#####################################################\n",
    "\n",
    "df['tc_mean_trimmed'] = (df\n",
    "                         .apply(lambda row : row['tc_mean_unfolded'][:movie_length[row['muvi']]], axis = 1)\n",
    "                         .map(stdize)\n",
    "                        )\n",
    "\n",
    "df['measured_movl'] = df.apply(lambda row : len(row['tc_mean_trimmed']), axis = 1)\n",
    "\n",
    "# Get movie names\n",
    "movie_names = {}\n",
    "for c,gdf in df.groupby(['contrast']):\n",
    "    movie_names[c] = gdf.sort_values(['muvi']).muvi.unique()\n",
    "\n",
    "# Concatenate movie and task\n",
    "cdf  = pd.DataFrame()\n",
    "count = 0\n",
    "\n",
    "for [c,s,j,d],gdf in df.groupby(['contrast','sub','JU','D_bins']):\n",
    "\n",
    "    gdf = gdf.sort_values(['muvi','run'])\n",
    "    movie_list = gdf['muvi'].unique()\n",
    "\n",
    "    try:\n",
    "        same = (movie_names[c] == movie_list).all()\n",
    "    except:\n",
    "        same = False\n",
    "    if not same:\n",
    "        print(f'Error! contrast {c} subject {s} JU {j} D_bins {d}')\n",
    "    else:\n",
    "        count += 1\n",
    "\n",
    "    concatenated = np.hstack(gdf['tc_mean_trimmed'])\n",
    "\n",
    "    temp_df = gdf.iloc[0][['contrast','sub','JU','D_bins']]\n",
    "    temp_df['tc_concatenated'] = concatenated\n",
    "\n",
    "    cdf = cdf.append(temp_df)"
   ]
  },
  {
   "cell_type": "code",
   "execution_count": 436,
   "metadata": {},
   "outputs": [],
   "source": [
    "cdf = cdf.loc[lambda d: d['sub'] != 'sub_11']"
   ]
  },
  {
   "cell_type": "code",
   "execution_count": 437,
   "metadata": {},
   "outputs": [
    {
     "name": "stdout",
     "output_type": "stream",
     "text": [
      "Contrast Motion: bin 1.0 of JU 200.0 deleted\n",
      "Contrast Motion: bin 10.0 of JU 33.0 deleted\n",
      "Contrast Scrambled: bin 1.0 of JU 200.0 deleted\n",
      "Contrast Scrambled: bin 10.0 of JU 33.0 deleted\n"
     ]
    }
   ],
   "source": [
    "## Extra layer of safety\n",
    "\n",
    "# This checks what length of the concatenated arrays is the most common and delets combinations of JU and Dbins that are different\n",
    "for c,contrast_df in cdf.groupby('contrast'):\n",
    "\n",
    "    T = int(contrast_df['tc_concatenated'].apply(lambda d: len(d)).mode())\n",
    "    unmatching = contrast_df.loc[contrast_df['tc_concatenated'].apply(lambda d: len(d)) != T][['D_bins','JU']].drop_duplicates()\n",
    "\n",
    "\n",
    "    for i,unm in unmatching.iterrows():\n",
    "\n",
    "        cdf = cdf.drop(cdf.loc[lambda d : (d['contrast'] == c)&(d['JU']==unm['JU'])&(d['D_bins']==unm['D_bins'])].index)\n",
    "\n",
    "        print('Contrast {}: bin {} of JU {} deleted'.format(c,unm['D_bins'],unm['JU']))\n",
    "\n",
    "\n",
    "    # This checks what length of the concatenated arrays is the most common and delets combinations of JU and Dbins that are different\n",
    "    grouped_df = contrast_df.groupby(['D_bins','JU']).apply(lambda d:len(d['sub']))\n",
    "    N_sub = int(grouped_df.mode())\n",
    "    grouped_df = grouped_df.reset_index()\n",
    "    unmatching = grouped_df.loc[lambda d: d[0] != N_sub]\n",
    "\n",
    "    for i,unm in unmatching.iterrows():\n",
    "\n",
    "        cdf = cdf.drop(cdf.loc[lambda d : (d['contrast'] == c)&(d['JU']==unm['JU'])&(d['D_bins']==unm['D_bins'])].index)\n",
    "\n",
    "        print('!!Contrast {}: bin {} of JU {} deleted'.format(c,unm['D_bins'],unm['JU']))\n",
    "\n",
    "cdf['D_bins'] = cdf['D_bins'].astype(int)\n",
    "cdf['JU'] = cdf['JU'].astype(int)\n",
    "cdf = cdf.sort_values(['contrast','sub','JU','D_bins'])"
   ]
  },
  {
   "cell_type": "code",
   "execution_count": 438,
   "metadata": {},
   "outputs": [
    {
     "data": {
      "image/png": "[encoded data removed]",
      "text/plain": [
       "<Figure size 1152x360 with 16 Axes>"
      ]
     },
     "metadata": {
      "needs_background": "light"
     },
     "output_type": "display_data"
    }
   ],
   "source": [
    "isc_column = np.array([])\n",
    "\n",
    "for c,contrast_df in cdf.groupby('contrast'):\n",
    "\n",
    "    iscarr = np.array(list(contrast_df\n",
    "     .groupby('sub')\n",
    "     .apply(lambda d: np.array(list(d['tc_concatenated'])).T)\n",
    "    ))\n",
    "\n",
    "    iscarr = np.moveaxis(iscarr,0,2)\n",
    "\n",
    "    isc_data =  isc(iscarr)\n",
    "    isc_column = np.append(isc_column,isc_data.ravel())\n",
    "\n",
    "cdf['isc'] = np.arctanh(isc_column)\n",
    "\n",
    "\n",
    "\n",
    "ncols = cdf['JU'].nunique()\n",
    "nrows = cdf['contrast'].nunique()\n",
    "\n",
    "fig,axarr = plt.subplots(ncols=ncols,nrows=nrows, sharex=True, sharey = True, figsize = (ncols*2,5))\n",
    "axarr = np.ravel(axarr)\n",
    "\n",
    "for i,((c,j),plotdf) in enumerate(cdf.groupby(['contrast','JU'])):   \n",
    "\n",
    "    plotdf.boxplot(column = ['isc'], by = 'D_bins',ax=axarr[i])\n",
    "    axarr[i].set_title('JU {}'.format(int(j)))\n",
    "    axarr[i].set_ylabel('ISC {}'.format(c))\n",
    "\n",
    "axarr = axarr.reshape(nrows,ncols)\n",
    "for ax in axarr[0]:\n",
    "    ax.set_xlabel('')\n",
    "for ax in axarr[1]:\n",
    "    ax.set_xlabel('# bin')\n",
    "for ax in axarr[:,1:].ravel():\n",
    "    ax.set_ylabel('')\n",
    "for ax in axarr[1]:\n",
    "    ax.set_title('')\n",
    "\n",
    "fig.suptitle('')\n",
    "plt.savefig(datafld + f.replace(method,'RESULTS/{}'.format(method)).replace('.csv','_isc.png'), dpi = 300)\n",
    "\n",
    "\n",
    "\n",
    "cdf.to_csv(datafld + f.replace(method,'RESULTS/{}'.format(method)).replace('.csv','_isc.csv'))"
   ]
  },
  {
   "cell_type": "code",
   "execution_count": 439,
   "metadata": {},
   "outputs": [],
   "source": [
    "# os.makedirs('/data00/layerfMRI/Github_repo/layerfMRI/analyses/dual_ISC/TC_4_lorenzo/RESULTS/')"
   ]
  },
  {
   "cell_type": "code",
   "execution_count": null,
   "metadata": {},
   "outputs": [],
   "source": []
  },
  {
   "cell_type": "code",
   "execution_count": 440,
   "metadata": {},
   "outputs": [
    {
     "data": {
      "text/html": [
       "<div>\n",
       "<style scoped>\n",
       "    .dataframe tbody tr th:only-of-type {\n",
       "        vertical-align: middle;\n",
       "    }\n",
       "\n",
       "    .dataframe tbody tr th {\n",
       "        vertical-align: top;\n",
       "    }\n",
       "\n",
       "    .dataframe thead th {\n",
       "        text-align: right;\n",
       "    }\n",
       "</style>\n",
       "<table border=\"1\" class=\"dataframe\">\n",
       "  <thead>\n",
       "    <tr style=\"text-align: right;\">\n",
       "      <th></th>\n",
       "      <th>D_bins</th>\n",
       "      <th>JU</th>\n",
       "      <th>contrast</th>\n",
       "      <th>sub</th>\n",
       "      <th>tc_concatenated</th>\n",
       "      <th>isc</th>\n",
       "    </tr>\n",
       "  </thead>\n",
       "  <tbody>\n",
       "    <tr>\n",
       "      <th>1600</th>\n",
       "      <td>1</td>\n",
       "      <td>13</td>\n",
       "      <td>Motion</td>\n",
       "      <td>sub_02</td>\n",
       "      <td>[0.028910447678180747, -0.602728310116634, -1....</td>\n",
       "      <td>0.098532</td>\n",
       "    </tr>\n",
       "    <tr>\n",
       "      <th>1601</th>\n",
       "      <td>2</td>\n",
       "      <td>13</td>\n",
       "      <td>Motion</td>\n",
       "      <td>sub_02</td>\n",
       "      <td>[-1.5401567077634999, 0.46551052339444304, 0.1...</td>\n",
       "      <td>0.091028</td>\n",
       "    </tr>\n",
       "    <tr>\n",
       "      <th>1602</th>\n",
       "      <td>3</td>\n",
       "      <td>13</td>\n",
       "      <td>Motion</td>\n",
       "      <td>sub_02</td>\n",
       "      <td>[-0.40253856152721956, -0.47239907165506106, -...</td>\n",
       "      <td>0.126085</td>\n",
       "    </tr>\n",
       "    <tr>\n",
       "      <th>1603</th>\n",
       "      <td>4</td>\n",
       "      <td>13</td>\n",
       "      <td>Motion</td>\n",
       "      <td>sub_02</td>\n",
       "      <td>[-1.0554462326472491, 0.8968502711990965, -1.4...</td>\n",
       "      <td>0.071979</td>\n",
       "    </tr>\n",
       "    <tr>\n",
       "      <th>1604</th>\n",
       "      <td>5</td>\n",
       "      <td>13</td>\n",
       "      <td>Motion</td>\n",
       "      <td>sub_02</td>\n",
       "      <td>[-1.0400589734462402, 0.652788368738928, -0.20...</td>\n",
       "      <td>0.109924</td>\n",
       "    </tr>\n",
       "    <tr>\n",
       "      <th>...</th>\n",
       "      <td>...</td>\n",
       "      <td>...</td>\n",
       "      <td>...</td>\n",
       "      <td>...</td>\n",
       "      <td>...</td>\n",
       "      <td>...</td>\n",
       "    </tr>\n",
       "    <tr>\n",
       "      <th>47385</th>\n",
       "      <td>6</td>\n",
       "      <td>200</td>\n",
       "      <td>Scrambled</td>\n",
       "      <td>sub_14</td>\n",
       "      <td>[-0.6031735195923642, 0.4996522508556052, 1.10...</td>\n",
       "      <td>0.274202</td>\n",
       "    </tr>\n",
       "    <tr>\n",
       "      <th>47386</th>\n",
       "      <td>7</td>\n",
       "      <td>200</td>\n",
       "      <td>Scrambled</td>\n",
       "      <td>sub_14</td>\n",
       "      <td>[-0.09962582052554633, 0.5772187549440395, -0....</td>\n",
       "      <td>0.295432</td>\n",
       "    </tr>\n",
       "    <tr>\n",
       "      <th>47387</th>\n",
       "      <td>8</td>\n",
       "      <td>200</td>\n",
       "      <td>Scrambled</td>\n",
       "      <td>sub_14</td>\n",
       "      <td>[-1.5901617776706496, 0.944611228180534, 1.226...</td>\n",
       "      <td>0.410565</td>\n",
       "    </tr>\n",
       "    <tr>\n",
       "      <th>47388</th>\n",
       "      <td>9</td>\n",
       "      <td>200</td>\n",
       "      <td>Scrambled</td>\n",
       "      <td>sub_14</td>\n",
       "      <td>[-2.170120455565966, 0.6122237681674515, 0.814...</td>\n",
       "      <td>0.461053</td>\n",
       "    </tr>\n",
       "    <tr>\n",
       "      <th>47389</th>\n",
       "      <td>10</td>\n",
       "      <td>200</td>\n",
       "      <td>Scrambled</td>\n",
       "      <td>sub_14</td>\n",
       "      <td>[-1.8180161190802313, 0.7944612444118425, 0.34...</td>\n",
       "      <td>0.439433</td>\n",
       "    </tr>\n",
       "  </tbody>\n",
       "</table>\n",
       "<p>1248 rows × 6 columns</p>\n",
       "</div>"
      ],
      "text/plain": [
       "       D_bins   JU   contrast     sub  \\\n",
       "1600        1   13     Motion  sub_02   \n",
       "1601        2   13     Motion  sub_02   \n",
       "1602        3   13     Motion  sub_02   \n",
       "1603        4   13     Motion  sub_02   \n",
       "1604        5   13     Motion  sub_02   \n",
       "...       ...  ...        ...     ...   \n",
       "47385       6  200  Scrambled  sub_14   \n",
       "47386       7  200  Scrambled  sub_14   \n",
       "47387       8  200  Scrambled  sub_14   \n",
       "47388       9  200  Scrambled  sub_14   \n",
       "47389      10  200  Scrambled  sub_14   \n",
       "\n",
       "                                         tc_concatenated       isc  \n",
       "1600   [0.028910447678180747, -0.602728310116634, -1....  0.098532  \n",
       "1601   [-1.5401567077634999, 0.46551052339444304, 0.1...  0.091028  \n",
       "1602   [-0.40253856152721956, -0.47239907165506106, -...  0.126085  \n",
       "1603   [-1.0554462326472491, 0.8968502711990965, -1.4...  0.071979  \n",
       "1604   [-1.0400589734462402, 0.652788368738928, -0.20...  0.109924  \n",
       "...                                                  ...       ...  \n",
       "47385  [-0.6031735195923642, 0.4996522508556052, 1.10...  0.274202  \n",
       "47386  [-0.09962582052554633, 0.5772187549440395, -0....  0.295432  \n",
       "47387  [-1.5901617776706496, 0.944611228180534, 1.226...  0.410565  \n",
       "47388  [-2.170120455565966, 0.6122237681674515, 0.814...  0.461053  \n",
       "47389  [-1.8180161190802313, 0.7944612444118425, 0.34...  0.439433  \n",
       "\n",
       "[1248 rows x 6 columns]"
      ]
     },
     "execution_count": 440,
     "metadata": {},
     "output_type": "execute_result"
    }
   ],
   "source": [
    "cdf"
   ]
  },
  {
   "cell_type": "code",
   "execution_count": null,
   "metadata": {},
   "outputs": [],
   "source": []
  },
  {
   "cell_type": "code",
   "execution_count": 441,
   "metadata": {},
   "outputs": [],
   "source": [
    "isc_column = np.array([])\n",
    "\n",
    "subJUcdf = cdf.loc[lambda d : (d['JU']==13)|(d['JU']==35)|(d['JU']==91)]\n",
    "subJUcdf = subJUcdf.sort_values(['JU','D_bins'])\n",
    "isfc_data = {}\n",
    "isfc_mean_data = {}\n",
    "nsub = subJUcdf['sub'].nunique()\n",
    "\n",
    "sel_JUs = {'BA44':13, 'PFt':35, 'BA6':91}\n",
    "\n",
    "nJU = len(sel_JUs)\n",
    "\n",
    "for c,contrast_df in subJUcdf.groupby('contrast'):\n",
    "\n",
    "    iscarr = np.array(list(contrast_df\n",
    "     .groupby('sub')\n",
    "     .apply(lambda d: np.array(list(d['tc_concatenated'])).T)\n",
    "    ))\n",
    "\n",
    "    iscarr = np.moveaxis(iscarr,0,2)\n",
    "\n",
    "    isc_data =  isc(iscarr)\n",
    "    raw_isfc = isfc(iscarr)[0]\n",
    "    isfc_data[c] = np.zeros((nsub,int(nbins*nJU*(nbins*nJU-1)/2)))\n",
    "    for r,sub_isfc in enumerate(raw_isfc):\n",
    "        isfc_data[c][r,:] = np.arctanh(sub_isfc)    \n",
    "    isfc_mean_data[c] = np.average(isfc_data[c],axis = 0)\n",
    "    \n",
    "    \n",
    "    isc_column = np.append(isc_column,isc_data.ravel())\n",
    "\n",
    "subJUcdf['isc'] = np.arctanh(isc_column)\n"
   ]
  },
  {
   "cell_type": "code",
   "execution_count": 442,
   "metadata": {},
   "outputs": [
    {
     "data": {
      "text/plain": [
       "30"
      ]
     },
     "execution_count": 442,
     "metadata": {},
     "output_type": "execute_result"
    }
   ],
   "source": [
    "nbins*nJU"
   ]
  },
  {
   "cell_type": "code",
   "execution_count": null,
   "metadata": {},
   "outputs": [],
   "source": []
  },
  {
   "cell_type": "code",
   "execution_count": 443,
   "metadata": {},
   "outputs": [],
   "source": [
    "from scipy.spatial.distance import squareform"
   ]
  },
  {
   "cell_type": "code",
   "execution_count": null,
   "metadata": {},
   "outputs": [],
   "source": []
  },
  {
   "cell_type": "code",
   "execution_count": null,
   "metadata": {},
   "outputs": [],
   "source": []
  },
  {
   "cell_type": "code",
   "execution_count": 444,
   "metadata": {},
   "outputs": [
    {
     "data": {
      "text/plain": [
       "Ttest_1sampResult(statistic=7.579220502876514, pvalue=0.0001284873335431102)"
      ]
     },
     "execution_count": 444,
     "metadata": {},
     "output_type": "execute_result"
    }
   ],
   "source": [
    "ttest_1samp(isfc_data['Motion'][:,14],0)"
   ]
  },
  {
   "cell_type": "code",
   "execution_count": 445,
   "metadata": {},
   "outputs": [
    {
     "data": {
      "text/plain": [
       "Ttest_1sampResult(statistic=7.021539324053982, pvalue=0.00020754906387023195)"
      ]
     },
     "execution_count": 445,
     "metadata": {},
     "output_type": "execute_result"
    }
   ],
   "source": [
    "ttest_1samp(isfc_data['Motion'][:,17],0)"
   ]
  },
  {
   "cell_type": "code",
   "execution_count": 446,
   "metadata": {},
   "outputs": [],
   "source": [
    "from scipy.stats import ttest_1samp,ttest_rel\n",
    "from statsmodels.stats.multitest import fdrcorrection"
   ]
  },
  {
   "cell_type": "code",
   "execution_count": 447,
   "metadata": {},
   "outputs": [
    {
     "data": {
      "text/plain": [
       "array([[ 0.        ,  0.05102699,  0.05239222,  0.06258195,  0.04204033,\n",
       "         0.        ,  0.05971201,  0.07991063,  0.07686572,  0.0794008 ,\n",
       "         0.08525989,  0.07142896,  0.        ,  0.04731959,  0.03934614,\n",
       "         0.02927729,  0.        ,  0.        ],\n",
       "       [ 0.05102699,  0.        ,  0.04247565,  0.        ,  0.        ,\n",
       "         0.        ,  0.08966336,  0.09209729,  0.08267733,  0.08074508,\n",
       "         0.06888974,  0.0780278 ,  0.        ,  0.03452787,  0.03502686,\n",
       "         0.        ,  0.        ,  0.        ],\n",
       "       [ 0.05239222,  0.04247565,  0.        ,  0.05851459,  0.        ,\n",
       "         0.        ,  0.08588549,  0.09022949,  0.08420386,  0.0809841 ,\n",
       "         0.08132271,  0.07120685,  0.        ,  0.        ,  0.        ,\n",
       "         0.        ,  0.        ,  0.        ],\n",
       "       [ 0.06258195,  0.        ,  0.05851459,  0.        ,  0.        ,\n",
       "         0.        ,  0.08462202,  0.09238507,  0.08268853,  0.07892973,\n",
       "         0.08527393,  0.06694404,  0.        ,  0.03807743,  0.04220651,\n",
       "         0.        ,  0.        ,  0.        ],\n",
       "       [ 0.04204033,  0.        ,  0.        ,  0.        ,  0.        ,\n",
       "         0.        ,  0.06553124,  0.07925793,  0.06415059,  0.05858336,\n",
       "         0.06472059,  0.05077224,  0.        ,  0.03311572,  0.        ,\n",
       "         0.        ,  0.02893689,  0.        ],\n",
       "       [ 0.        ,  0.        ,  0.        ,  0.        ,  0.        ,\n",
       "         0.        ,  0.05486885,  0.06505646,  0.03771981,  0.03387084,\n",
       "         0.03401801,  0.01906919,  0.        ,  0.        ,  0.        ,\n",
       "        -0.        ,  0.        ,  0.        ],\n",
       "       [ 0.05971201,  0.08966336,  0.08588549,  0.08462202,  0.06553124,\n",
       "         0.05486885,  0.        ,  0.10849188,  0.0987255 ,  0.10691547,\n",
       "         0.10883824,  0.08106412,  0.04417146,  0.04935865,  0.0396808 ,\n",
       "         0.04096551,  0.05706201,  0.06452803],\n",
       "       [ 0.07991063,  0.09209729,  0.09022949,  0.09238507,  0.07925793,\n",
       "         0.06505646,  0.10849188,  0.        ,  0.1345008 ,  0.13822427,\n",
       "         0.13367755,  0.10131602,  0.06220968,  0.06365611,  0.0491432 ,\n",
       "         0.05024042,  0.06431215,  0.0723816 ],\n",
       "       [ 0.07686572,  0.08267733,  0.08420386,  0.08268853,  0.06415059,\n",
       "         0.03771981,  0.0987255 ,  0.1345008 ,  0.        ,  0.13915465,\n",
       "         0.13884866,  0.09856149,  0.        ,  0.05683581,  0.        ,\n",
       "         0.        ,  0.05983631,  0.06346036],\n",
       "       [ 0.0794008 ,  0.08074508,  0.0809841 ,  0.07892973,  0.05858336,\n",
       "         0.03387084,  0.10691547,  0.13822427,  0.13915465,  0.        ,\n",
       "         0.145001  ,  0.11148038,  0.05667112,  0.06234126,  0.03976884,\n",
       "         0.04592768,  0.05797863,  0.06363415],\n",
       "       [ 0.08525989,  0.06888974,  0.08132271,  0.08527393,  0.06472059,\n",
       "         0.03401801,  0.10883824,  0.13367755,  0.13884866,  0.145001  ,\n",
       "         0.        ,  0.10701792,  0.04544635,  0.07357194,  0.05176978,\n",
       "         0.05112206,  0.06549649,  0.0666234 ],\n",
       "       [ 0.07142896,  0.0780278 ,  0.07120685,  0.06694404,  0.05077224,\n",
       "         0.01906919,  0.08106412,  0.10131602,  0.09856149,  0.11148038,\n",
       "         0.10701792,  0.        ,  0.        ,  0.05611734,  0.03912158,\n",
       "         0.04577747,  0.06460032,  0.0725737 ],\n",
       "       [ 0.        ,  0.        ,  0.        ,  0.        ,  0.        ,\n",
       "         0.        ,  0.04417146,  0.06220968,  0.        ,  0.05667112,\n",
       "         0.04544635,  0.        ,  0.        ,  0.03926233,  0.        ,\n",
       "         0.        ,  0.        ,  0.        ],\n",
       "       [ 0.04731959,  0.03452787,  0.        ,  0.03807743,  0.03311572,\n",
       "         0.        ,  0.04935865,  0.06365611,  0.05683581,  0.06234126,\n",
       "         0.07357194,  0.05611734,  0.03926233,  0.        ,  0.03871495,\n",
       "         0.03924357,  0.0446168 ,  0.03182944],\n",
       "       [ 0.03934614,  0.03502686,  0.        ,  0.04220651,  0.        ,\n",
       "         0.        ,  0.0396808 ,  0.0491432 ,  0.        ,  0.03976884,\n",
       "         0.05176978,  0.03912158,  0.        ,  0.03871495,  0.        ,\n",
       "         0.        ,  0.04347793,  0.        ],\n",
       "       [ 0.02927729,  0.        ,  0.        ,  0.        ,  0.        ,\n",
       "        -0.        ,  0.04096551,  0.05024042,  0.        ,  0.04592768,\n",
       "         0.05112206,  0.04577747,  0.        ,  0.03924357,  0.        ,\n",
       "         0.        ,  0.03423169,  0.        ],\n",
       "       [ 0.        ,  0.        ,  0.        ,  0.        ,  0.02893689,\n",
       "         0.        ,  0.05706201,  0.06431215,  0.05983631,  0.05797863,\n",
       "         0.06549649,  0.06460032,  0.        ,  0.0446168 ,  0.04347793,\n",
       "         0.03423169,  0.        ,  0.        ],\n",
       "       [ 0.        ,  0.        ,  0.        ,  0.        ,  0.        ,\n",
       "         0.        ,  0.06452803,  0.0723816 ,  0.06346036,  0.06363415,\n",
       "         0.0666234 ,  0.0725737 ,  0.        ,  0.03182944,  0.        ,\n",
       "         0.        ,  0.        ,  0.        ]])"
      ]
     },
     "execution_count": 447,
     "metadata": {},
     "output_type": "execute_result"
    }
   ],
   "source": [
    "squareform(np.average(z,axis=0)*(pmask))"
   ]
  },
  {
   "cell_type": "code",
   "execution_count": 448,
   "metadata": {},
   "outputs": [
    {
     "data": {
      "image/png": "[encoded data removed]",
      "text/plain": [
       "<Figure size 432x432 with 1 Axes>"
      ]
     },
     "metadata": {
      "needs_background": "light"
     },
     "output_type": "display_data"
    }
   ],
   "source": [
    "\n",
    "\n",
    "for c in ['Scrambled']:\n",
    "    M = 0.2\n",
    "\n",
    "    fig,axarr = plt.subplots(nrows = 1, ncols=1,#+1, gridspec_kw={'width_ratios':[10]*nJU+[1]})#,\n",
    "                             sharex=True, sharey=True, figsize = (6,6))\n",
    "\n",
    "\n",
    "    z = isfc_data[c]\n",
    "    t,p = ttest_1samp(z, popmean = 0, axis=0)\n",
    "    pmask, pcorr = fdrcorrection(p,alpha = 0.05, is_sorted=False)\n",
    "\n",
    "    \n",
    "    \n",
    "    cm = axarr.imshow(squareform(np.average(z,axis=0)*(pmask)),\n",
    "                        cmap = 'seismic', vmax=M,vmin=-M)\n",
    "\n",
    "\n",
    "#     plt.colorbar(cm,cax = axarr[1,3])\n",
    "\n",
    "    \n",
    "    plt.suptitle(c)\n"
   ]
  },
  {
   "cell_type": "code",
   "execution_count": null,
   "metadata": {},
   "outputs": [],
   "source": []
  },
  {
   "cell_type": "code",
   "execution_count": 449,
   "metadata": {},
   "outputs": [
    {
     "data": {
      "image/png": "[encoded data removed]",
      "text/plain": [
       "<Figure size 432x432 with 9 Axes>"
      ]
     },
     "metadata": {
      "needs_background": "light"
     },
     "output_type": "display_data"
    },
    {
     "data": {
      "image/png": "[encoded data removed]",
      "text/plain": [
       "<Figure size 432x432 with 9 Axes>"
      ]
     },
     "metadata": {
      "needs_background": "light"
     },
     "output_type": "display_data"
    }
   ],
   "source": [
    "sel_JUs = {'BA44':13, 'PFt':35, 'BA6':91}\n",
    "\n",
    "nJU = len(sel_JUs)\n",
    "\n",
    "for c in isfc_mean_data:\n",
    "    M = 0.2\n",
    "    \n",
    "    \n",
    "    z = isfc_data[c]\n",
    "    t,p = ttest_1samp(z, popmean = 0, axis=0)\n",
    "    pmask, pcorr = fdrcorrection(p,alpha = 0.05)\n",
    "\n",
    "    \n",
    "\n",
    "    fig,axarr = plt.subplots(nrows = nJU, ncols=nJU,#+1, gridspec_kw={'width_ratios':[10]*nJU+[1]})#,\n",
    "                             sharex=True, sharey=True, figsize = (6,6))\n",
    "\n",
    "    for ix in range(nJU):\n",
    "\n",
    "        # Labels JU\n",
    "        axarr[ix,-1].yaxis.set_label_position(\"right\")\n",
    "        axarr[ix,-1].set_ylabel(list(sel_JUs)[ix], rotation = 270, labelpad=14)\n",
    "        axarr[0,ix].xaxis.set_label_position(\"top\")\n",
    "        axarr[0,ix].set_xlabel(list(sel_JUs)[ix], labelpad=4)\n",
    "        # Labels bins\n",
    "        axarr[ix,0].set_yticks(np.arange(0,nbins,5))\n",
    "        axarr[ix,0].set_yticklabels(np.arange(0,nbins,5)+1)\n",
    "        axarr[-1,ix].set_xticks(np.arange(0,nbins,5))\n",
    "        axarr[-1,ix].set_xticklabels(np.arange(0,nbins,5)+1)\n",
    "        axarr[ix,0].minorticks_on()\n",
    "        \n",
    "        for iy in range(nJU):\n",
    "            \n",
    "\n",
    "\n",
    "            cm = axarr[iy,ix].imshow(squareform(np.average(z,axis=0)*(pmask))[nbins*iy:nbins*(iy+1),nbins*ix:nbins*(ix+1)],\n",
    "                                cmap = 'seismic', vmax=M,vmin=-M)\n",
    "\n",
    "\n",
    "#     plt.colorbar(cm,cax = axarr[1,3])\n",
    "    \n",
    "    axarr[1,0].set_ylabel('# bin')\n",
    "    axarr[-1,1].set_xlabel('# bin')\n",
    "    \n",
    "    plt.suptitle(c)\n"
   ]
  },
  {
   "cell_type": "code",
   "execution_count": 450,
   "metadata": {},
   "outputs": [
    {
     "data": {
      "text/plain": [
       "Text(0.5, 0.98, 'Motion - Scrambled')"
      ]
     },
     "execution_count": 450,
     "metadata": {},
     "output_type": "execute_result"
    },
    {
     "data": {
      "image/png": "[encoded data removed]",
      "text/plain": [
       "<Figure size 432x432 with 9 Axes>"
      ]
     },
     "metadata": {
      "needs_background": "light"
     },
     "output_type": "display_data"
    }
   ],
   "source": [
    "zm = isfc_data['Motion']\n",
    "zs = isfc_data['Scrambled']\n",
    "\n",
    "t,p = ttest_rel(zm,zs, axis=0)\n",
    "pmask, pcorr = fdrcorrection(p,alpha = 0.05)\n",
    "\n",
    "\n",
    "fig,axarr = plt.subplots(nrows = nJU, ncols=nJU,#+1, gridspec_kw={'width_ratios':[10]*nJU+[1]})#,\n",
    "                         sharex=True, sharey=True, figsize = (6,6))\n",
    "\n",
    "for ix in range(nJU):\n",
    "\n",
    "    # Labels JU\n",
    "    axarr[ix,-1].yaxis.set_label_position(\"right\")\n",
    "    axarr[ix,-1].set_ylabel(list(sel_JUs)[ix], rotation = 270, labelpad=14)\n",
    "    axarr[0,ix].xaxis.set_label_position(\"top\")\n",
    "    axarr[0,ix].set_xlabel(list(sel_JUs)[ix], labelpad=4)\n",
    "    # Labels bins\n",
    "    axarr[ix,0].set_yticks(np.arange(0,nbins,5))\n",
    "    axarr[ix,0].set_yticklabels(np.arange(0,nbins,5)+1)\n",
    "    axarr[-1,ix].set_xticks(np.arange(0,nbins,5))\n",
    "    axarr[-1,ix].set_xticklabels(np.arange(0,nbins,5)+1)\n",
    "    axarr[ix,0].minorticks_on()\n",
    "        \n",
    "    for iy in range(nJU):\n",
    "\n",
    "\n",
    "\n",
    "\n",
    "        cm = axarr[iy,ix].imshow(squareform(np.average(zm-zs,axis=0)*(pmask))[nbins*iy:nbins*(iy+1),nbins*ix:nbins*(ix+1)],\n",
    "                            cmap = 'seismic', vmax=M,vmin=-M)\n",
    "\n",
    "\n",
    "#     plt.colorbar(cm,cax = axarr[1,3])\n",
    "axarr[1,0].set_ylabel('# bin')\n",
    "axarr[-1,1].set_xlabel('# bin')\n",
    "    \n",
    "\n",
    "plt.suptitle('Motion - Scrambled')\n"
   ]
  },
  {
   "cell_type": "code",
   "execution_count": 451,
   "metadata": {},
   "outputs": [
    {
     "data": {
      "image/png": "[encoded data removed]",
      "text/plain": [
       "<Figure size 432x21.6 with 1 Axes>"
      ]
     },
     "metadata": {
      "needs_background": "light"
     },
     "output_type": "display_data"
    }
   ],
   "source": [
    "fig,ax = plt.subplots(figsize = (6,0.3))\n",
    "plt.colorbar(cm,cax = ax,orientation = 'horizontal', ticks = np.arange(-M,M+0.1,0.1))\n",
    "ax.set_xlabel('Z transformed ISFC')\n",
    "plt.show()"
   ]
  },
  {
   "cell_type": "code",
   "execution_count": null,
   "metadata": {},
   "outputs": [],
   "source": []
  },
  {
   "cell_type": "code",
   "execution_count": null,
   "metadata": {},
   "outputs": [],
   "source": []
  },
  {
   "cell_type": "code",
   "execution_count": null,
   "metadata": {},
   "outputs": [],
   "source": []
  },
  {
   "cell_type": "code",
   "execution_count": null,
   "metadata": {},
   "outputs": [],
   "source": []
  },
  {
   "cell_type": "code",
   "execution_count": null,
   "metadata": {},
   "outputs": [],
   "source": []
  },
  {
   "cell_type": "code",
   "execution_count": null,
   "metadata": {},
   "outputs": [],
   "source": []
  },
  {
   "cell_type": "code",
   "execution_count": null,
   "metadata": {},
   "outputs": [],
   "source": []
  },
  {
   "cell_type": "code",
   "execution_count": null,
   "metadata": {},
   "outputs": [],
   "source": []
  },
  {
   "cell_type": "code",
   "execution_count": null,
   "metadata": {},
   "outputs": [],
   "source": []
  },
  {
   "cell_type": "code",
   "execution_count": null,
   "metadata": {},
   "outputs": [],
   "source": []
  },
  {
   "cell_type": "code",
   "execution_count": null,
   "metadata": {},
   "outputs": [],
   "source": []
  },
  {
   "cell_type": "code",
   "execution_count": null,
   "metadata": {},
   "outputs": [],
   "source": []
  },
  {
   "cell_type": "code",
   "execution_count": null,
   "metadata": {},
   "outputs": [],
   "source": []
  },
  {
   "cell_type": "code",
   "execution_count": null,
   "metadata": {},
   "outputs": [],
   "source": []
  },
  {
   "cell_type": "code",
   "execution_count": null,
   "metadata": {},
   "outputs": [],
   "source": []
  },
  {
   "cell_type": "code",
   "execution_count": null,
   "metadata": {},
   "outputs": [],
   "source": []
  },
  {
   "cell_type": "code",
   "execution_count": null,
   "metadata": {},
   "outputs": [],
   "source": []
  },
  {
   "cell_type": "code",
   "execution_count": null,
   "metadata": {},
   "outputs": [],
   "source": []
  },
  {
   "cell_type": "code",
   "execution_count": null,
   "metadata": {},
   "outputs": [],
   "source": []
  },
  {
   "cell_type": "code",
   "execution_count": null,
   "metadata": {},
   "outputs": [],
   "source": []
  },
  {
   "cell_type": "code",
   "execution_count": null,
   "metadata": {},
   "outputs": [],
   "source": []
  },
  {
   "cell_type": "code",
   "execution_count": null,
   "metadata": {},
   "outputs": [],
   "source": []
  },
  {
   "cell_type": "code",
   "execution_count": null,
   "metadata": {},
   "outputs": [],
   "source": []
  },
  {
   "cell_type": "code",
   "execution_count": null,
   "metadata": {},
   "outputs": [],
   "source": []
  },
  {
   "cell_type": "code",
   "execution_count": null,
   "metadata": {},
   "outputs": [],
   "source": []
  },
  {
   "cell_type": "code",
   "execution_count": null,
   "metadata": {},
   "outputs": [],
   "source": []
  },
  {
   "cell_type": "code",
   "execution_count": null,
   "metadata": {},
   "outputs": [],
   "source": []
  }
 ],
 "metadata": {
  "kernelspec": {
   "display_name": "brainiak",
   "language": "python",
   "name": "brainiak"
  },
  "language_info": {
   "codemirror_mode": {
    "name": "ipython",
    "version": 3
   },
   "file_extension": ".py",
   "mimetype": "text/x-python",
   "name": "python",
   "nbconvert_exporter": "python",
   "pygments_lexer": "ipython3",
   "version": "3.7.6"
  }
 },
 "nbformat": 4,
 "nbformat_minor": 4
}
