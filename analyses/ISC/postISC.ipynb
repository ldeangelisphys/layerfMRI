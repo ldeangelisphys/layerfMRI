{
 "cells": [
  {
   "cell_type": "code",
   "execution_count": null,
   "metadata": {},
   "outputs": [],
   "source": [
    "from brainiak.isc import isc,bootstrap_isc,compute_summary_statistic,isfc,squareform_isfc\n",
    "import pandas as pd\n",
    "import numpy as np\n",
    "import os\n",
    "import matplotlib.pyplot as plt\n",
    "from isc_tools import *"
   ]
  },
  {
   "cell_type": "code",
   "execution_count": null,
   "metadata": {},
   "outputs": [],
   "source": [
    "froot = '/data00/layerfMRI/'\n",
    "datafld = froot + 'Github_repo/layerfMRI/analyses/dual_ISC/TC_4_lorenzo/'"
   ]
  },
  {
   "cell_type": "code",
   "execution_count": null,
   "metadata": {},
   "outputs": [],
   "source": [
    "summary_log = import_summary_log(froot)\n",
    "movie_length = extract_movie_length(summary_log)"
   ]
  },
  {
   "cell_type": "code",
   "execution_count": null,
   "metadata": {},
   "outputs": [],
   "source": [
    "## Parameters corresponding to data to be analyzed\n",
    "nbins = 6\n",
    "thr = 100\n",
    "method = 'M_OR_S'\n",
    "\n",
    "input_file = datafld + f'{method}_JU_time_courses_thr{thr}_bin{nbins}.csv'"
   ]
  },
  {
   "cell_type": "code",
   "execution_count": null,
   "metadata": {},
   "outputs": [],
   "source": [
    "df = import_timecourse_dataframe(\n",
    "    input_file,\n",
    "    check_movie_length = True, movie_length = movie_length\n",
    ")\n",
    "\n",
    "cdf  =concatenate_movies(df,average_same_movie=False)\n",
    "# cdf1 =concatenate_movies(df,average_same_movie=True)"
   ]
  },
  {
   "cell_type": "code",
   "execution_count": null,
   "metadata": {},
   "outputs": [],
   "source": [
    "## Exclude subject 11\n",
    "cdf = exclude_subjects(cdf,['sub_11'])"
   ]
  },
  {
   "cell_type": "code",
   "execution_count": null,
   "metadata": {},
   "outputs": [],
   "source": [
    "## Extra layer of safety\n",
    "cdf = doublecheck_same_lenght(cdf)"
   ]
  },
  {
   "cell_type": "code",
   "execution_count": null,
   "metadata": {},
   "outputs": [],
   "source": [
    "cdf = compute_isc(cdf)"
   ]
  },
  {
   "cell_type": "code",
   "execution_count": null,
   "metadata": {
    "scrolled": true
   },
   "outputs": [],
   "source": [
    "plot_export_isc(cdf,input_file,method)"
   ]
  },
  {
   "cell_type": "code",
   "execution_count": null,
   "metadata": {},
   "outputs": [],
   "source": []
  },
  {
   "cell_type": "code",
   "execution_count": null,
   "metadata": {},
   "outputs": [],
   "source": []
  },
  {
   "cell_type": "code",
   "execution_count": null,
   "metadata": {},
   "outputs": [],
   "source": []
  },
  {
   "cell_type": "code",
   "execution_count": null,
   "metadata": {},
   "outputs": [],
   "source": []
  },
  {
   "cell_type": "code",
   "execution_count": null,
   "metadata": {},
   "outputs": [],
   "source": []
  },
  {
   "cell_type": "code",
   "execution_count": null,
   "metadata": {},
   "outputs": [],
   "source": [
    "isc_column = np.array([])\n",
    "\n",
    "subJUcdf = cdf.loc[lambda d : (d['JU']==13)|(d['JU']==35)|(d['JU']==200)|(d['JU']==91)]\n",
    "subJUcdf = subJUcdf.sort_values(['JU','D_bins'])\n",
    "isfc_data = {}\n",
    "isfc_mean_data = {}\n",
    "nsub = subJUcdf['sub'].nunique()\n",
    "\n",
    "sel_JUs = {'BA44':13, 'PFt':35, 'Vis':200,'BA6':91}\n",
    "\n",
    "nJU = len(sel_JUs)\n",
    "\n",
    "for c,contrast_df in subJUcdf.groupby('contrast'):\n",
    "\n",
    "    iscarr = np.array(list(contrast_df\n",
    "     .groupby('sub')\n",
    "     .apply(lambda d: np.array(list(d['tc_concatenated'])).T)\n",
    "    ))\n",
    "\n",
    "    iscarr = np.moveaxis(iscarr,0,2)\n",
    "    print(iscarr.shape)\n",
    "\n",
    "    isc_data =  isc(iscarr)\n",
    "    raw_isfc = isfc(iscarr)[0]\n",
    "    isfc_data[c] = np.zeros((nsub,int(nbins*nJU*(nbins*nJU-1)/2)))\n",
    "    for r,sub_isfc in enumerate(raw_isfc):\n",
    "        isfc_data[c][r,:] = np.arctanh(sub_isfc)    \n",
    "    isfc_mean_data[c] = np.average(isfc_data[c],axis = 0)\n",
    "    \n",
    "    \n",
    "    isc_column = np.append(isc_column,isc_data.ravel())\n",
    "\n",
    "subJUcdf['isc'] = np.arctanh(isc_column)\n"
   ]
  },
  {
   "cell_type": "code",
   "execution_count": null,
   "metadata": {},
   "outputs": [],
   "source": []
  },
  {
   "cell_type": "code",
   "execution_count": null,
   "metadata": {},
   "outputs": [],
   "source": []
  },
  {
   "cell_type": "code",
   "execution_count": null,
   "metadata": {},
   "outputs": [],
   "source": [
    "from scipy.spatial.distance import squareform"
   ]
  },
  {
   "cell_type": "code",
   "execution_count": null,
   "metadata": {},
   "outputs": [],
   "source": []
  },
  {
   "cell_type": "code",
   "execution_count": null,
   "metadata": {},
   "outputs": [],
   "source": []
  },
  {
   "cell_type": "code",
   "execution_count": null,
   "metadata": {},
   "outputs": [],
   "source": []
  },
  {
   "cell_type": "code",
   "execution_count": null,
   "metadata": {},
   "outputs": [],
   "source": []
  },
  {
   "cell_type": "code",
   "execution_count": null,
   "metadata": {},
   "outputs": [],
   "source": [
    "from scipy.stats import ttest_1samp,ttest_rel\n",
    "from statsmodels.stats.multitest import fdrcorrection"
   ]
  },
  {
   "cell_type": "code",
   "execution_count": null,
   "metadata": {},
   "outputs": [],
   "source": []
  },
  {
   "cell_type": "code",
   "execution_count": null,
   "metadata": {},
   "outputs": [],
   "source": []
  },
  {
   "cell_type": "code",
   "execution_count": null,
   "metadata": {},
   "outputs": [],
   "source": [
    "for c in ['Motion','Scrambled']:\n",
    "    M = 0.2\n",
    "\n",
    "    fig,axarr = plt.subplots(nrows = 1, ncols=1,#+1, gridspec_kw={'width_ratios':[10]*nJU+[1]})#,\n",
    "                             sharex=True, sharey=True, figsize = (6,6))\n",
    "\n",
    "\n",
    "    z = isfc_data[c]\n",
    "    t,p = ttest_1samp(z, popmean = 0, axis=0)\n",
    "    pmask, pcorr = fdrcorrection(p,alpha = 0.05, is_sorted=False)\n",
    "\n",
    "    \n",
    "    z_matrix = squareform(np.average(z,axis=0)*(pmask))\n",
    "    cm = axarr.imshow(z_matrix,\n",
    "                        cmap = 'seismic', vmax=M,vmin=-M)\n",
    "                \n",
    "    fout = datafld.replace('TC_4_lorenzo/','ISFC/results_lorenzo/new_ISFC_results/') + '{}_full_thr{}_bin{}.txt'.format(c,thr,nbins)\n",
    "#     fout = '/data00/layerfMRI/Github_repo/layerfMRI/analyses/dual_ISC/4figures/S2_comparison_ISFC_FC_matrices/{}_full_thr{}_bin{}.txt'.format(c,thr,nbins)\n",
    "    np.savetxt(fout,z_matrix)\n",
    "    \n",
    "#     plt.colorbar(cm,cax = axarr[1,3])\n",
    "\n",
    "    \n",
    "    plt.suptitle(c)\n"
   ]
  },
  {
   "cell_type": "code",
   "execution_count": null,
   "metadata": {},
   "outputs": [],
   "source": []
  },
  {
   "cell_type": "code",
   "execution_count": null,
   "metadata": {
    "scrolled": false
   },
   "outputs": [],
   "source": [
    "sel_JUs = {'BA44':13, 'PFt':35, 'Vis':200, 'BA6' : 91}\n",
    "list_JUs = list(sel_JUs)\n",
    "\n",
    "nJU = len(sel_JUs)\n",
    "\n",
    "for c in isfc_mean_data:\n",
    "#     M = 0.25\n",
    "    \n",
    "    \n",
    "    z = isfc_data[c]\n",
    "    t,p = ttest_1samp(z, popmean = 0, axis=0)\n",
    "    pmask, pcorr = fdrcorrection(p,alpha = 0.05)\n",
    "\n",
    "    full_matrix = squareform(t*(pmask))\n",
    "    fout = '/data00/layerfMRI/Github_repo/layerfMRI/analyses/dual_ISC/4figures/S2_comparison_ISFC_FC_matrices/{}_full_thr{}_bin{}.txt'.format(c,thr,nbins)\n",
    "    np.savetxt(fout,full_matrix)    \n",
    "    print(fout)\n",
    "    \n",
    "    \n",
    "    M = 25\n",
    "#     M = np.max(np.abs(t))\n",
    "#     print(M)\n",
    "\n",
    "    fig,axarr = plt.subplots(nrows = nJU, ncols=nJU,#+1, gridspec_kw={'width_ratios':[10]*nJU+[1]})#,\n",
    "                             sharex=True, sharey=True, figsize = (6,6))\n",
    "\n",
    "    for ix in range(nJU):\n",
    "\n",
    "        # Labels JU\n",
    "        axarr[ix,-1].yaxis.set_label_position(\"right\")\n",
    "        axarr[ix,-1].set_ylabel(list_JUs[ix], rotation = 270, labelpad=14)\n",
    "        axarr[0,ix].xaxis.set_label_position(\"top\")\n",
    "        axarr[0,ix].set_xlabel(list_JUs[ix], labelpad=4)\n",
    "        # Labels bins\n",
    "        axarr[ix,0].set_yticks(np.arange(0,nbins,5))\n",
    "        axarr[ix,0].set_yticklabels(np.arange(0,nbins,5)+1)\n",
    "        axarr[-1,ix].set_xticks(np.arange(0,nbins,5))\n",
    "        axarr[-1,ix].set_xticklabels(np.arange(0,nbins,5)+1)\n",
    "        axarr[ix,0].minorticks_on()\n",
    "        \n",
    "        for iy in range(nJU):\n",
    "            \n",
    "\n",
    "            z_matrix = squareform(t*(pmask))[nbins*iy:nbins*(iy+1),nbins*ix:nbins*(ix+1)]\n",
    "            cm = axarr[iy,ix].imshow(z_matrix,\n",
    "                                cmap = 'seismic', vmax=M,vmin=-M)\n",
    "\n",
    "\n",
    "            if (list_JUs[iy]=='PFt')&((list_JUs[ix]=='Vis')|(list_JUs[ix]=='BA44')):\n",
    "    #             fout = datafld.replace('TC_4_lorenzo/','ISFC/results_lorenzo/new_ISFC_results/') + 't-values_{}_{}-{}_thr{}_bin{}.txt'.format(c,list_JUs[iy],list_JUs[ix],thr,nbins)\n",
    "                fout = '/data00/layerfMRI/Github_repo/layerfMRI/analyses/dual_ISC/4figures/fig_4_ISFC_matrices/t-values_{}_{}-{}_thr{}_bin{}.txt'.format(c,list_JUs[iy],list_JUs[ix],thr,nbins)\n",
    "                np.savetxt(fout,z_matrix)\n",
    "                print(fout)\n",
    "            \n",
    "#     plt.colorbar(cm,cax = axarr[1,3])\n",
    "    \n",
    "    axarr[1,0].set_ylabel('# bin')\n",
    "    axarr[-1,1].set_xlabel('# bin')\n",
    "    \n",
    "    plt.suptitle(c)\n"
   ]
  },
  {
   "cell_type": "code",
   "execution_count": null,
   "metadata": {},
   "outputs": [],
   "source": [
    "fig,ax = plt.subplots(figsize = (0.3,6))\n",
    "plt.colorbar(cm,cax = ax,orientation = 'vertical')\n",
    "ax.set_ylabel('mean Z transformed ISFC')\n",
    "plt.show()"
   ]
  },
  {
   "cell_type": "code",
   "execution_count": null,
   "metadata": {},
   "outputs": [],
   "source": []
  },
  {
   "cell_type": "code",
   "execution_count": null,
   "metadata": {},
   "outputs": [],
   "source": [
    "zm = isfc_data['Motion']\n",
    "zs = isfc_data['Scrambled']\n",
    "\n",
    "t,p = ttest_rel(zm,zs, axis=0)\n",
    "pmask, pcorr = fdrcorrection(p,alpha = 0.05)\n",
    "\n",
    "full_matrix = squareform(t*(pmask))\n",
    "fout = '/data00/layerfMRI/Github_repo/layerfMRI/analyses/dual_ISC/4figures/S2_comparison_ISFC_FC_matrices/Motion-Scrambled_full_thr{}_bin{}.txt'.format(thr,nbins)\n",
    "np.savetxt(fout,full_matrix)   \n",
    "print(fout)\n",
    "\n",
    "M = 7\n",
    "# M = np.max(np.abs(t))\n",
    "# M = np.max(np.abs(zm-zs))\n",
    "\n",
    "fig,axarr = plt.subplots(nrows = nJU, ncols=nJU,#+1, gridspec_kw={'width_ratios':[10]*nJU+[1]})#,\n",
    "                         sharex=True, sharey=True, figsize = (6,6))\n",
    "\n",
    "for ix in range(nJU):\n",
    "\n",
    "    # Labels JU\n",
    "    axarr[ix,-1].yaxis.set_label_position(\"right\")\n",
    "    axarr[ix,-1].set_ylabel(list(sel_JUs)[ix], rotation = 270, labelpad=14)\n",
    "    axarr[0,ix].xaxis.set_label_position(\"top\")\n",
    "    axarr[0,ix].set_xlabel(list(sel_JUs)[ix], labelpad=4)\n",
    "    # Labels bins\n",
    "    axarr[ix,0].set_yticks(np.arange(0,nbins,5))\n",
    "    axarr[ix,0].set_yticklabels(np.arange(0,nbins,5)+1)\n",
    "    axarr[-1,ix].set_xticks(np.arange(0,nbins,5))\n",
    "    axarr[-1,ix].set_xticklabels(np.arange(0,nbins,5)+1)\n",
    "    axarr[ix,0].minorticks_on()\n",
    "        \n",
    "    for iy in range(nJU):\n",
    "\n",
    "\n",
    "\n",
    "        z_matrix = squareform(t*(pmask))[nbins*iy:nbins*(iy+1),nbins*ix:nbins*(ix+1)]\n",
    "#         z_matrix = squareform(np.average(zm-zs,axis=0)*(pmask))[nbins*iy:nbins*(iy+1),nbins*ix:nbins*(ix+1)]\n",
    "        cm = axarr[iy,ix].imshow(z_matrix,\n",
    "                            cmap = 'seismic', vmax=M,vmin=-M)\n",
    "\n",
    "\n",
    "        \n",
    "        if (list_JUs[iy]=='PFt')&((list_JUs[ix]=='Vis')|(list_JUs[ix]=='BA44')):\n",
    "            fout = '/data00/layerfMRI/Github_repo/layerfMRI/analyses/dual_ISC/4figures/fig_4_ISFC_matrices/t-values_Motion-Scrambled_{}-{}_thr{}_bin{}.txt'.format(list_JUs[iy],list_JUs[ix],thr,nbins)       \n",
    "#             fout = datafld.replace('TC_4_lorenzo/','ISFC/results_lorenzo/new_ISFC_results/') + 't-values_Motion-Scrambled_{}-{}_thr{}_bin{}.txt'.format(list_JUs[iy],list_JUs[ix],thr,nbins)\n",
    "            np.savetxt(fout,z_matrix)\n",
    "            print(fout)\n",
    "        \n",
    "#     plt.colorbar(cm,cax = axarr[1,3])\n",
    "axarr[1,0].set_ylabel('# bin')\n",
    "axarr[-1,1].set_xlabel('# bin')\n",
    "    \n",
    "\n",
    "plt.suptitle('Motion - Scrambled')"
   ]
  },
  {
   "cell_type": "code",
   "execution_count": null,
   "metadata": {},
   "outputs": [],
   "source": [
    "fig,ax = plt.subplots(figsize = (0.3,6))\n",
    "plt.colorbar(cm,cax = ax,orientation = 'vertical')\n",
    "ax.set_ylabel('mean Z transformed ISFC')\n",
    "plt.show()"
   ]
  },
  {
   "cell_type": "code",
   "execution_count": null,
   "metadata": {},
   "outputs": [],
   "source": [
    "M"
   ]
  },
  {
   "cell_type": "code",
   "execution_count": null,
   "metadata": {},
   "outputs": [],
   "source": []
  },
  {
   "cell_type": "code",
   "execution_count": null,
   "metadata": {},
   "outputs": [],
   "source": []
  },
  {
   "cell_type": "code",
   "execution_count": null,
   "metadata": {},
   "outputs": [],
   "source": []
  },
  {
   "cell_type": "code",
   "execution_count": null,
   "metadata": {},
   "outputs": [],
   "source": []
  },
  {
   "cell_type": "code",
   "execution_count": null,
   "metadata": {},
   "outputs": [],
   "source": []
  },
  {
   "cell_type": "code",
   "execution_count": null,
   "metadata": {},
   "outputs": [],
   "source": []
  },
  {
   "cell_type": "markdown",
   "metadata": {},
   "source": [
    "## PPI-like fc"
   ]
  },
  {
   "cell_type": "code",
   "execution_count": null,
   "metadata": {},
   "outputs": [],
   "source": [
    "isc_column = np.array([])\n",
    "\n",
    "subJUcdf = cdf.loc[lambda d : (d['JU']==13)|(d['JU']==35)|(d['JU']==200)|(d['JU']==91)]\n",
    "subJUcdf = subJUcdf.sort_values(['JU','D_bins'])\n",
    "isfc_data = {}\n",
    "isfc_mean_data = {}\n",
    "nsub = subJUcdf['sub'].nunique()\n",
    "\n",
    "sel_JUs = {'BA44':13, 'PFt':35, 'Vis':200, 'BA6':91}\n",
    "\n",
    "nJU = len(sel_JUs)\n",
    "\n",
    "for c,contrast_df in subJUcdf.groupby('contrast'):\n",
    "\n",
    "    iscarr = np.array(list(contrast_df\n",
    "     .groupby('sub')\n",
    "     .apply(lambda d: np.array(list(d['tc_concatenated'])).T)\n",
    "    ))\n",
    "\n",
    "    iscarr = np.moveaxis(iscarr,0,2)\n",
    "    \n",
    "    raw_isfc = generic_isfc(iscarr,intersubject=False)\n",
    "    isfc_data[c] = np.zeros((nsub,int(nbins*nJU*(nbins*nJU-1)/2)))\n",
    "    for r,sub_isfc in enumerate(raw_isfc):\n",
    "        isfc_data[c][r,:] = np.arctanh(sub_isfc)    \n",
    "    isfc_mean_data[c] = np.average(isfc_data[c],axis = 0)\n",
    "    \n",
    "    \n",
    "    isc_column = np.append(isc_column,isc_data.ravel())\n",
    "\n",
    "subJUcdf['isc'] = np.arctanh(isc_column)\n"
   ]
  },
  {
   "cell_type": "code",
   "execution_count": null,
   "metadata": {},
   "outputs": [],
   "source": [
    "sel_JUs = {'BA44':13, 'PFt':35, 'Vis':200, 'BA6':91}\n",
    "list_JUs = list(sel_JUs)\n",
    "\n",
    "nJU = len(sel_JUs)\n",
    "\n",
    "for c in isfc_mean_data:\n",
    "    \n",
    "    \n",
    "    z = isfc_data[c]\n",
    "    t,p = ttest_1samp(z, popmean = 0, axis=0)\n",
    "    pmask, pcorr = fdrcorrection(p,alpha = 0.05)\n",
    "    M = np.max(np.abs(t))\n",
    "    print(M)\n",
    "\n",
    "    full_matrix = squareform(t*(pmask))\n",
    "    fout = '/data00/layerfMRI/Github_repo/layerfMRI/analyses/dual_ISC/4figures/S2_comparison_ISFC_FC_matrices/WSFC_{}_full_thr{}_bin{}.txt'.format(c,thr,nbins)\n",
    "    np.savetxt(fout,full_matrix)   \n",
    "    print(fout)\n",
    "    \n",
    "    \n",
    "\n",
    "    fig,axarr = plt.subplots(nrows = nJU, ncols=nJU,#+1, gridspec_kw={'width_ratios':[10]*nJU+[1]})#,\n",
    "                             sharex=True, sharey=True, figsize = (6,6))\n",
    "\n",
    "    for ix in range(nJU):\n",
    "\n",
    "        # Labels JU\n",
    "        axarr[ix,-1].yaxis.set_label_position(\"right\")\n",
    "        axarr[ix,-1].set_ylabel(list_JUs[ix], rotation = 270, labelpad=14)\n",
    "        axarr[0,ix].xaxis.set_label_position(\"top\")\n",
    "        axarr[0,ix].set_xlabel(list_JUs[ix], labelpad=4)\n",
    "        # Labels bins\n",
    "        axarr[ix,0].set_yticks(np.arange(0,nbins,5))\n",
    "        axarr[ix,0].set_yticklabels(np.arange(0,nbins,5)+1)\n",
    "        axarr[-1,ix].set_xticks(np.arange(0,nbins,5))\n",
    "        axarr[-1,ix].set_xticklabels(np.arange(0,nbins,5)+1)\n",
    "        axarr[ix,0].minorticks_on()\n",
    "        \n",
    "        for iy in range(nJU):\n",
    "            \n",
    "\n",
    "            z_matrix = squareform(t*(pmask))[nbins*iy:nbins*(iy+1),nbins*ix:nbins*(ix+1)]\n",
    "            cm = axarr[iy,ix].imshow(z_matrix,\n",
    "                                cmap = 'seismic', vmax=M,vmin=-M)\n",
    "\n",
    "    \n",
    "            if (list_JUs[iy]=='PFt')&((list_JUs[ix]=='Vis')|(list_JUs[ix]=='BA44')):\n",
    "                fout = '/data00/layerfMRI/Github_repo/layerfMRI/analyses/dual_ISC/4figures/fig_4_ISFC_matrices/WSFC_t-values_{}_{}-{}_thr{}_bin{}.txt'.format(c,list_JUs[iy],list_JUs[ix],thr,nbins)       \n",
    "#                 fout = datafld.replace('TC_4_lorenzo/','ISFC/results_lorenzo/new_ISFC_results/') + 'WSFC_t-values_{}_{}-{}_thr{}_bin{}.txt'.format(c,list_JUs[iy],list_JUs[ix],thr,nbins)\n",
    "                np.savetxt(fout,z_matrix)\n",
    "                print(fout)\n",
    "            \n",
    "#     plt.colorbar(cm,cax = axarr[1,3])\n",
    "    \n",
    "    axarr[1,0].set_ylabel('# bin')\n",
    "    axarr[-1,1].set_xlabel('# bin')\n",
    "    \n",
    "    plt.suptitle(c)\n"
   ]
  },
  {
   "cell_type": "code",
   "execution_count": null,
   "metadata": {},
   "outputs": [],
   "source": [
    "zm = isfc_data['Motion']\n",
    "zs = isfc_data['Scrambled']\n",
    "\n",
    "t,p = ttest_rel(zm,zs, axis=0)\n",
    "pmask, pcorr = fdrcorrection(p,alpha = 0.05)\n",
    "\n",
    "\n",
    "full_matrix = squareform(t*(pmask))\n",
    "fout = '/data00/layerfMRI/Github_repo/layerfMRI/analyses/dual_ISC/4figures/S2_comparison_ISFC_FC_matrices/WSFC_Motion-Scrambled_full_thr{}_bin{}.txt'.format(thr,nbins)\n",
    "np.savetxt(fout,full_matrix)   \n",
    "print(fout)\n",
    "\n",
    "fig,axarr = plt.subplots(nrows = nJU, ncols=nJU,#+1, gridspec_kw={'width_ratios':[10]*nJU+[1]})#,\n",
    "                         sharex=True, sharey=True, figsize = (6,6))\n",
    "\n",
    "for ix in range(nJU):\n",
    "\n",
    "    # Labels JU\n",
    "    axarr[ix,-1].yaxis.set_label_position(\"right\")\n",
    "    axarr[ix,-1].set_ylabel(list(sel_JUs)[ix], rotation = 270, labelpad=14)\n",
    "    axarr[0,ix].xaxis.set_label_position(\"top\")\n",
    "    axarr[0,ix].set_xlabel(list(sel_JUs)[ix], labelpad=4)\n",
    "    # Labels bins\n",
    "    axarr[ix,0].set_yticks(np.arange(0,nbins,5))\n",
    "    axarr[ix,0].set_yticklabels(np.arange(0,nbins,5)+1)\n",
    "    axarr[-1,ix].set_xticks(np.arange(0,nbins,5))\n",
    "    axarr[-1,ix].set_xticklabels(np.arange(0,nbins,5)+1)\n",
    "    axarr[ix,0].minorticks_on()\n",
    "        \n",
    "    for iy in range(nJU):\n",
    "\n",
    "\n",
    "\n",
    "        z_matrix = squareform(t*(pmask))[nbins*iy:nbins*(iy+1),nbins*ix:nbins*(ix+1)]\n",
    "        cm = axarr[iy,ix].imshow(z_matrix,\n",
    "                            cmap = 'seismic', vmax=M,vmin=-M)\n",
    "\n",
    "\n",
    "        \n",
    "        if (list_JUs[iy]=='PFt')&((list_JUs[ix]=='Vis')|(list_JUs[ix]=='BA44')):\n",
    "            fout = '/data00/layerfMRI/Github_repo/layerfMRI/analyses/dual_ISC/4figures/fig_4_ISFC_matrices/WSFC_t-values_Motion-Scrambled_{}-{}_thr{}_bin{}.txt'.format(list_JUs[iy],list_JUs[ix],thr,nbins)          \n",
    "#                 fout = datafld.replace('TC_4_lorenzo/','ISFC/results_lorenzo/new_ISFC_results/') + 'WSFC_t-values_Motion-Scrambled_{}-{}_thr{}_bin{}.txt'.format(list_JUs[iy],list_JUs[ix],thr,nbins)\n",
    "            np.savetxt(fout,z_matrix)\n",
    "            print(fout)\n",
    "        \n",
    "#     plt.colorbar(cm,cax = axarr[1,3])\n",
    "axarr[1,0].set_ylabel('# bin')\n",
    "axarr[-1,1].set_xlabel('# bin')\n",
    "    \n",
    "\n",
    "plt.suptitle('Motion - Scrambled')\n"
   ]
  },
  {
   "cell_type": "code",
   "execution_count": null,
   "metadata": {},
   "outputs": [],
   "source": [
    "fig,ax = plt.subplots(figsize = (0.3,6))\n",
    "plt.colorbar(cm,cax = ax,orientation = 'vertical', ticks = np.arange(-M,M+0.1,0.5))\n",
    "ax.set_ylabel('mean Z transformed ISFC')\n",
    "plt.show()"
   ]
  },
  {
   "cell_type": "code",
   "execution_count": null,
   "metadata": {},
   "outputs": [],
   "source": []
  },
  {
   "cell_type": "code",
   "execution_count": null,
   "metadata": {},
   "outputs": [],
   "source": []
  }
 ],
 "metadata": {
  "kernelspec": {
   "display_name": "brainiak",
   "language": "python",
   "name": "brainiak"
  },
  "language_info": {
   "codemirror_mode": {
    "name": "ipython",
    "version": 3
   },
   "file_extension": ".py",
   "mimetype": "text/x-python",
   "name": "python",
   "nbconvert_exporter": "python",
   "pygments_lexer": "ipython3",
   "version": "3.7.6"
  }
 },
 "nbformat": 4,
 "nbformat_minor": 4
}
