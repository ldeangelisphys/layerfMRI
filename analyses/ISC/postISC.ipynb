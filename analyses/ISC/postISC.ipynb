{
 "cells": [
  {
   "cell_type": "code",
   "execution_count": 475,
   "metadata": {},
   "outputs": [],
   "source": [
    "from brainiak.isc import isc,bootstrap_isc,compute_summary_statistic\n",
    "import pandas as pd\n",
    "import numpy as np\n",
    "import os\n",
    "import matplotlib.pyplot as plt"
   ]
  },
  {
   "cell_type": "code",
   "execution_count": 476,
   "metadata": {},
   "outputs": [
    {
     "data": {
      "text/plain": [
       "['log_summary.csv',\n",
       " 'fixing_log_file.Rmd',\n",
       " '.gitignore',\n",
       " 'M_OR_S_JU_time_courses_thr100_bin6_isc.csv',\n",
       " 'log_summary_FIXED.csv',\n",
       " 'M_OR_S_JU_time_courses_thr100_bin10.csv',\n",
       " 'log_summary_OLE_no_Estimated_Duration.csv',\n",
       " 'dual_ISC_development_v8.html',\n",
       " 'M_OR_S_JU_time_courses_thr100_bin6_isc.png',\n",
       " 'ANOVA_M_S_JU_time_courses_thr10_bin10_isc.png',\n",
       " 'data_native',\n",
       " 'M_OR_S_JU_time_courses_thr100_bin10_isc.png',\n",
       " 'ANOVA_M_S_JU_time_courses_thr10_bin10.csv',\n",
       " 'dual_ISC_development_v8.Rmd',\n",
       " 'M_OR_S_JU_time_courses_thr100_bin10_isc.csv',\n",
       " 'labels_juelich.csv',\n",
       " 'M_OR_S_JU_time_courses_thr100_bin6.csv',\n",
       " 'ANOVA_M_S_JU_time_courses_thr10_bin6_isc.png',\n",
       " 'log_summary_FIXED_MRGNCY.csv',\n",
       " 'ANOVA_M_S_JU_time_courses_thr10_bin6.csv',\n",
       " 'native_MNI_transformation',\n",
       " 'OLE',\n",
       " 'TC_4_lorenzo',\n",
       " 'fixing_log_file.html']"
      ]
     },
     "execution_count": 476,
     "metadata": {},
     "output_type": "execute_result"
    }
   ],
   "source": [
    "froot = '/data00/layerfMRI/'\n",
    "datafld = froot + 'Github_repo/layerfMRI/analyses/dual_ISC/'\n",
    "os.listdir(datafld)"
   ]
  },
  {
   "cell_type": "code",
   "execution_count": 477,
   "metadata": {},
   "outputs": [],
   "source": [
    "nbins = 10\n",
    "method = 'ANOVA_M_S'"
   ]
  },
  {
   "cell_type": "code",
   "execution_count": 478,
   "metadata": {},
   "outputs": [],
   "source": [
    "f = f'{method}_JU_time_courses_thr10_bin{nbins}.csv'"
   ]
  },
  {
   "cell_type": "code",
   "execution_count": 479,
   "metadata": {},
   "outputs": [],
   "source": [
    "logsumm = (pd\n",
    "           .read_csv(froot+ 'logs/log_summary.csv')\n",
    "           .assign(fmri = lambda d:\n",
    "                   froot + \n",
    "                   'regdata/sub_' + d['subject'].apply(lambda n: '{:02d}'.format(n)) +\n",
    "                   '/ses_' + d['session'].apply(lambda n: '{:02d}'.format(n)) +\n",
    "                   '/func/task_' + d['task'].apply(lambda n: '{:01d}'.format(n)) +\n",
    "                   '_run_' + d['run'].apply(lambda n: '{:01d}'.format(n)) +\n",
    "                   '_4D_MNI.nii.gz'\n",
    "                  )\n",
    "           .assign(fmri_missing = lambda d : d['fmri'].apply(lambda s: os.path.isfile(s) != True))\n",
    "           \n",
    "          )\n",
    "\n",
    "\n",
    "movie_length = {}\n",
    "\n",
    "for mv in logsumm.Title.unique():\n",
    "    durations = logsumm.loc[lambda d : d['Title'] == mv].ExpectedDuration.unique()\n",
    "    if len(durations) != 1:\n",
    "        print('Warning! More than one duration found')\n",
    "        movie_length[mv] = np.min(durations)\n",
    "    else:\n",
    "        movie_length[mv] = durations[0]\n",
    "\n"
   ]
  },
  {
   "cell_type": "code",
   "execution_count": 480,
   "metadata": {},
   "outputs": [],
   "source": [
    "def r2numpy(rvec):\n",
    "    \n",
    "    return np.array(rvec[2:-1].split(', '),dtype = 'float')\n",
    "\n",
    "# def trim_movielength(dataf):\n",
    "    \n",
    "#     trimmed = dataf['tc_mean_unfolded'][:movie_length[dataf['muvi']]]\n",
    "    \n",
    "#     return trimmed\n",
    "    \n",
    "    \n",
    "def stdize(a):\n",
    "    \n",
    "    return (a - np.average(a)) / np.std(a)\n",
    "\n"
   ]
  },
  {
   "cell_type": "code",
   "execution_count": null,
   "metadata": {},
   "outputs": [],
   "source": []
  },
  {
   "cell_type": "code",
   "execution_count": null,
   "metadata": {},
   "outputs": [],
   "source": []
  },
  {
   "cell_type": "code",
   "execution_count": null,
   "metadata": {},
   "outputs": [],
   "source": []
  },
  {
   "cell_type": "code",
   "execution_count": 481,
   "metadata": {},
   "outputs": [],
   "source": [
    "# Read dataframe\n",
    "df = pd.read_csv(datafld + f)\n",
    "\n",
    "# Transform timecourses into numpy arrays and standardize them\n",
    "df['tc_mean_unfolded'] = (df['tc_mean_unfolded']\n",
    "                          .map(r2numpy)\n",
    "                         )\n",
    "\n",
    "# Correct for movies that are missing the last frame\n",
    "df['measured_movl'] = df.apply(lambda row : len(row['tc_mean_unfolded']), axis = 1)\n",
    "df['expected_movl'] = df.apply(lambda row : movie_length[row['muvi']], axis = 1)\n",
    "\n",
    "corrected_movl = (df\n",
    "                  .loc[lambda d : d['expected_movl'] > d['measured_movl']]\n",
    "                  .groupby('muvi')\n",
    "                  .apply(lambda d: np.min(d['measured_movl']))\n",
    "                 )\n",
    "\n",
    "for m in dict(corrected_movl):\n",
    "    movie_length[m] = corrected_movl[m]\n",
    "#####################################################\n",
    "    \n",
    "df['tc_mean_trimmed'] = (df\n",
    "                         .apply(lambda row : row['tc_mean_unfolded'][:movie_length[row['muvi']]], axis = 1)\n",
    "                         .map(stdize)\n",
    "                        )\n",
    "\n",
    "df['measured_movl'] = df.apply(lambda row : len(row['tc_mean_trimmed']), axis = 1)"
   ]
  },
  {
   "cell_type": "code",
   "execution_count": null,
   "metadata": {},
   "outputs": [],
   "source": [
    "\n"
   ]
  },
  {
   "cell_type": "code",
   "execution_count": null,
   "metadata": {},
   "outputs": [],
   "source": []
  },
  {
   "cell_type": "code",
   "execution_count": null,
   "metadata": {},
   "outputs": [],
   "source": []
  },
  {
   "cell_type": "code",
   "execution_count": 482,
   "metadata": {},
   "outputs": [
    {
     "name": "stderr",
     "output_type": "stream",
     "text": [
      "/home/deangelis/anaconda3/envs/brainiak/lib/python3.7/site-packages/ipykernel_launcher.py:16: DeprecationWarning: elementwise comparison failed; this will raise an error in the future.\n",
      "  app.launch_new_instance()\n"
     ]
    },
    {
     "name": "stdout",
     "output_type": "stream",
     "text": [
      "Error! contrast Motion subject sub_02 JU 35 D_bins 6\n",
      "Error! contrast Motion subject sub_02 JU 35 D_bins 7\n",
      "Error! contrast Motion subject sub_02 JU 35 D_bins 8\n",
      "Error! contrast Motion subject sub_03 JU 35 D_bins 7\n",
      "Error! contrast Motion subject sub_03 JU 35 D_bins 8\n",
      "Error! contrast Motion subject sub_05 JU 35 D_bins 7\n",
      "Error! contrast Motion subject sub_06 JU 35 D_bins 10\n",
      "Error! contrast Motion subject sub_10 JU 35 D_bins 10\n",
      "Error! contrast Motion subject sub_11 JU 35 D_bins 8\n",
      "Error! contrast Motion subject sub_11 JU 65 D_bins 1\n",
      "Error! contrast Motion subject sub_14 JU 35 D_bins 10\n",
      "Error! contrast Motion subject sub_14 JU 65 D_bins 7\n",
      "Error! contrast Scrambled subject sub_02 JU 35 D_bins 6\n",
      "Error! contrast Scrambled subject sub_02 JU 35 D_bins 7\n",
      "Error! contrast Scrambled subject sub_02 JU 35 D_bins 8\n",
      "Error! contrast Scrambled subject sub_03 JU 35 D_bins 7\n",
      "Error! contrast Scrambled subject sub_03 JU 35 D_bins 8\n",
      "Error! contrast Scrambled subject sub_05 JU 35 D_bins 7\n",
      "Error! contrast Scrambled subject sub_06 JU 35 D_bins 10\n",
      "Error! contrast Scrambled subject sub_10 JU 35 D_bins 10\n",
      "Error! contrast Scrambled subject sub_11 JU 35 D_bins 8\n",
      "Error! contrast Scrambled subject sub_11 JU 65 D_bins 1\n",
      "Error! contrast Scrambled subject sub_14 JU 35 D_bins 10\n",
      "Error! contrast Scrambled subject sub_14 JU 65 D_bins 7\n"
     ]
    }
   ],
   "source": [
    "# Get movie names\n",
    "movie_names = {}\n",
    "for c,gdf in df.groupby(['contrast']):\n",
    "    movie_names[c] = gdf.sort_values(['muvi']).muvi.unique()\n",
    "\n",
    "# Concatenate movie and task\n",
    "cdf  = pd.DataFrame()\n",
    "count = 0\n",
    "\n",
    "for [c,s,j,d],gdf in df.groupby(['contrast','sub','JU','D_bins']):\n",
    "\n",
    "    gdf = gdf.sort_values(['muvi','run'])\n",
    "    movie_list = gdf['muvi'].unique()\n",
    "\n",
    "    try:\n",
    "        same = (movie_names[c] == movie_list).all()\n",
    "    except:\n",
    "        same = False\n",
    "    if not same:\n",
    "        print(f'Error! contrast {c} subject {s} JU {j} D_bins {d}')\n",
    "    else:\n",
    "        count += 1\n",
    "    \n",
    "    concatenated = np.hstack(gdf['tc_mean_trimmed'])\n",
    "    \n",
    "    temp_df = gdf.iloc[0][['contrast','sub','JU','D_bins']]\n",
    "    temp_df['tc_concatenated'] = concatenated\n",
    "    \n",
    "    cdf = cdf.append(temp_df)"
   ]
  },
  {
   "cell_type": "code",
   "execution_count": null,
   "metadata": {},
   "outputs": [],
   "source": []
  },
  {
   "cell_type": "code",
   "execution_count": null,
   "metadata": {},
   "outputs": [],
   "source": []
  },
  {
   "cell_type": "code",
   "execution_count": null,
   "metadata": {},
   "outputs": [],
   "source": []
  },
  {
   "cell_type": "code",
   "execution_count": null,
   "metadata": {},
   "outputs": [],
   "source": []
  },
  {
   "cell_type": "code",
   "execution_count": null,
   "metadata": {},
   "outputs": [],
   "source": []
  },
  {
   "cell_type": "code",
   "execution_count": null,
   "metadata": {},
   "outputs": [],
   "source": []
  },
  {
   "cell_type": "code",
   "execution_count": 483,
   "metadata": {},
   "outputs": [
    {
     "name": "stdout",
     "output_type": "stream",
     "text": [
      "Contrast Motion: bin 5.0 of JU 35.0 deleted\n",
      "Contrast Motion: bin 6.0 of JU 35.0 deleted\n",
      "Contrast Motion: bin 7.0 of JU 35.0 deleted\n",
      "Contrast Motion: bin 8.0 of JU 35.0 deleted\n",
      "Contrast Motion: bin 9.0 of JU 65.0 deleted\n",
      "Contrast Motion: bin 10.0 of JU 65.0 deleted\n",
      "Contrast Motion: bin 10.0 of JU 35.0 deleted\n",
      "Contrast Motion: bin 1.0 of JU 35.0 deleted\n",
      "Contrast Motion: bin 9.0 of JU 35.0 deleted\n",
      "Contrast Motion: bin 1.0 of JU 65.0 deleted\n",
      "Contrast Motion: bin 5.0 of JU 65.0 deleted\n",
      "Contrast Motion: bin 7.0 of JU 65.0 deleted\n",
      "!!Contrast Motion: bin 8.0 of JU 35.0 deleted\n",
      "!!Contrast Motion: bin 9.0 of JU 35.0 deleted\n",
      "!!Contrast Motion: bin 10.0 of JU 35.0 deleted\n",
      "!!Contrast Motion: bin 10.0 of JU 65.0 deleted\n",
      "Contrast Scrambled: bin 5.0 of JU 35.0 deleted\n",
      "Contrast Scrambled: bin 6.0 of JU 35.0 deleted\n",
      "Contrast Scrambled: bin 7.0 of JU 35.0 deleted\n",
      "Contrast Scrambled: bin 8.0 of JU 35.0 deleted\n",
      "Contrast Scrambled: bin 9.0 of JU 65.0 deleted\n",
      "Contrast Scrambled: bin 10.0 of JU 65.0 deleted\n",
      "Contrast Scrambled: bin 10.0 of JU 35.0 deleted\n",
      "Contrast Scrambled: bin 1.0 of JU 35.0 deleted\n",
      "Contrast Scrambled: bin 9.0 of JU 35.0 deleted\n",
      "Contrast Scrambled: bin 1.0 of JU 65.0 deleted\n",
      "Contrast Scrambled: bin 5.0 of JU 65.0 deleted\n",
      "Contrast Scrambled: bin 7.0 of JU 65.0 deleted\n",
      "!!Contrast Scrambled: bin 8.0 of JU 35.0 deleted\n",
      "!!Contrast Scrambled: bin 9.0 of JU 35.0 deleted\n",
      "!!Contrast Scrambled: bin 10.0 of JU 35.0 deleted\n",
      "!!Contrast Scrambled: bin 10.0 of JU 65.0 deleted\n"
     ]
    }
   ],
   "source": [
    "## Extra layer of safety\n",
    "\n",
    "# This checks what length of the concatenated arrays is the most common and delets combinations of JU and Dbins that are different\n",
    "for c,contrast_df in cdf.groupby('contrast'):\n",
    "    \n",
    "    T = int(contrast_df['tc_concatenated'].apply(lambda d: len(d)).mode())\n",
    "    unmatching = contrast_df.loc[contrast_df['tc_concatenated'].apply(lambda d: len(d)) != T][['D_bins','JU']].drop_duplicates()\n",
    "    \n",
    "    \n",
    "    for i,unm in unmatching.iterrows():\n",
    "        \n",
    "        cdf = cdf.drop(cdf.loc[lambda d : (d['contrast'] == c)&(d['JU']==unm['JU'])&(d['D_bins']==unm['D_bins'])].index)\n",
    "        \n",
    "        print('Contrast {}: bin {} of JU {} deleted'.format(c,unm['D_bins'],unm['JU']))\n",
    "\n",
    "\n",
    "    # This checks what length of the concatenated arrays is the most common and delets combinations of JU and Dbins that are different\n",
    "    grouped_df = contrast_df.groupby(['D_bins','JU']).apply(lambda d:len(d['sub']))\n",
    "    N_sub = int(grouped_df.mode())\n",
    "    grouped_df = grouped_df.reset_index()\n",
    "    unmatching = grouped_df.loc[lambda d: d[0] != N_sub]\n",
    "    \n",
    "    for i,unm in unmatching.iterrows():\n",
    "        \n",
    "        cdf = cdf.drop(cdf.loc[lambda d : (d['contrast'] == c)&(d['JU']==unm['JU'])&(d['D_bins']==unm['D_bins'])].index)\n",
    "        \n",
    "        print('!!Contrast {}: bin {} of JU {} deleted'.format(c,unm['D_bins'],unm['JU']))"
   ]
  },
  {
   "cell_type": "code",
   "execution_count": null,
   "metadata": {},
   "outputs": [],
   "source": []
  },
  {
   "cell_type": "code",
   "execution_count": 484,
   "metadata": {},
   "outputs": [],
   "source": [
    "cdf['D_bins'] = cdf['D_bins'].astype(int)\n",
    "cdf['JU'] = cdf['JU'].astype(int)\n",
    "cdf = cdf.sort_values(['contrast','sub','JU','D_bins'])\n",
    "\n",
    "\n",
    "isc_column = np.array([])\n",
    "\n",
    "for c,contrast_df in cdf.groupby('contrast'):\n",
    "\n",
    "    iscarr = np.array(list(contrast_df\n",
    "     .groupby('sub')\n",
    "     .apply(lambda d: np.array(list(d['tc_concatenated'])).T)\n",
    "    ))\n",
    "    \n",
    "    iscarr = np.moveaxis(iscarr,0,2)\n",
    "    \n",
    "    isc_data =  isc(iscarr)\n",
    "    isc_column = np.append(isc_column,isc_data.ravel())\n",
    "\n",
    "cdf['isc'] = np.arctanh(isc_column)"
   ]
  },
  {
   "cell_type": "code",
   "execution_count": null,
   "metadata": {},
   "outputs": [],
   "source": []
  },
  {
   "cell_type": "code",
   "execution_count": 485,
   "metadata": {},
   "outputs": [
    {
     "data": {
      "image/png": "[encoded data removed]",
      "text/plain": [
       "<Figure size 288x360 with 4 Axes>"
      ]
     },
     "metadata": {
      "needs_background": "light"
     },
     "output_type": "display_data"
    }
   ],
   "source": [
    "ncols = cdf['JU'].nunique()\n",
    "nrows = cdf['contrast'].nunique()\n",
    "\n",
    "fig,axarr = plt.subplots(ncols=ncols,nrows=nrows, sharex = True, sharey = True, figsize = (ncols*2,5))\n",
    "axarr = np.ravel(axarr)\n",
    "\n",
    "for i,((c,j),plotdf) in enumerate(cdf.groupby(['contrast','JU'])):   \n",
    "    \n",
    "    plotdf.boxplot(column = ['isc'], by = 'D_bins',ax=axarr[i])\n",
    "    axarr[i].set_title('JU {}'.format(int(j)))\n",
    "    axarr[i].set_ylabel('ISC {}'.format(c))\n",
    "    \n",
    "axarr = axarr.reshape(nrows,ncols)\n",
    "for ax in axarr[0]:\n",
    "    ax.set_xlabel('')\n",
    "for ax in axarr[1]:\n",
    "    ax.set_xlabel('# bin')\n",
    "for ax in axarr[:,1:].ravel():\n",
    "    ax.set_ylabel('')\n",
    "\n",
    "fig.suptitle('')\n",
    "plt.savefig(datafld + f.replace('.csv','_isc.png'), dpi = 300)\n"
   ]
  },
  {
   "cell_type": "code",
   "execution_count": 486,
   "metadata": {},
   "outputs": [],
   "source": [
    "cdf.to_csv(datafld + f.replace('.csv','_isc.csv'))"
   ]
  },
  {
   "cell_type": "code",
   "execution_count": 487,
   "metadata": {},
   "outputs": [
    {
     "data": {
      "text/html": [
       "<div>\n",
       "<style scoped>\n",
       "    .dataframe tbody tr th:only-of-type {\n",
       "        vertical-align: middle;\n",
       "    }\n",
       "\n",
       "    .dataframe tbody tr th {\n",
       "        vertical-align: top;\n",
       "    }\n",
       "\n",
       "    .dataframe thead th {\n",
       "        text-align: right;\n",
       "    }\n",
       "</style>\n",
       "<table border=\"1\" class=\"dataframe\">\n",
       "  <thead>\n",
       "    <tr style=\"text-align: right;\">\n",
       "      <th></th>\n",
       "      <th>D_bins</th>\n",
       "      <th>JU</th>\n",
       "      <th>contrast</th>\n",
       "      <th>sub</th>\n",
       "      <th>tc_concatenated</th>\n",
       "      <th>isc</th>\n",
       "    </tr>\n",
       "  </thead>\n",
       "  <tbody>\n",
       "    <tr>\n",
       "      <th>291</th>\n",
       "      <td>2</td>\n",
       "      <td>35</td>\n",
       "      <td>Motion</td>\n",
       "      <td>sub_02</td>\n",
       "      <td>[-1.2250526561928006, 1.9748335012407756, 0.38...</td>\n",
       "      <td>0.013847</td>\n",
       "    </tr>\n",
       "    <tr>\n",
       "      <th>292</th>\n",
       "      <td>3</td>\n",
       "      <td>35</td>\n",
       "      <td>Motion</td>\n",
       "      <td>sub_02</td>\n",
       "      <td>[-0.7933225294325823, 1.1849844371683977, 1.21...</td>\n",
       "      <td>0.018392</td>\n",
       "    </tr>\n",
       "    <tr>\n",
       "      <th>293</th>\n",
       "      <td>4</td>\n",
       "      <td>35</td>\n",
       "      <td>Motion</td>\n",
       "      <td>sub_02</td>\n",
       "      <td>[-0.547032535222668, 1.7014497689879295, -0.42...</td>\n",
       "      <td>0.083286</td>\n",
       "    </tr>\n",
       "    <tr>\n",
       "      <th>297</th>\n",
       "      <td>2</td>\n",
       "      <td>65</td>\n",
       "      <td>Motion</td>\n",
       "      <td>sub_02</td>\n",
       "      <td>[-0.38402030592014025, 0.28414969697405434, 0....</td>\n",
       "      <td>0.019998</td>\n",
       "    </tr>\n",
       "    <tr>\n",
       "      <th>298</th>\n",
       "      <td>3</td>\n",
       "      <td>65</td>\n",
       "      <td>Motion</td>\n",
       "      <td>sub_02</td>\n",
       "      <td>[0.42664368946697223, 0.5817391876441558, -0.2...</td>\n",
       "      <td>0.039713</td>\n",
       "    </tr>\n",
       "    <tr>\n",
       "      <th>...</th>\n",
       "      <td>...</td>\n",
       "      <td>...</td>\n",
       "      <td>...</td>\n",
       "      <td>...</td>\n",
       "      <td>...</td>\n",
       "      <td>...</td>\n",
       "    </tr>\n",
       "    <tr>\n",
       "      <th>10797</th>\n",
       "      <td>2</td>\n",
       "      <td>65</td>\n",
       "      <td>Scrambled</td>\n",
       "      <td>sub_14</td>\n",
       "      <td>[-0.9883034388807886, 0.8079668014444629, 1.77...</td>\n",
       "      <td>0.083864</td>\n",
       "    </tr>\n",
       "    <tr>\n",
       "      <th>10798</th>\n",
       "      <td>3</td>\n",
       "      <td>65</td>\n",
       "      <td>Scrambled</td>\n",
       "      <td>sub_14</td>\n",
       "      <td>[0.9738302258414254, -0.22826230178152618, 1.1...</td>\n",
       "      <td>-0.015797</td>\n",
       "    </tr>\n",
       "    <tr>\n",
       "      <th>10799</th>\n",
       "      <td>4</td>\n",
       "      <td>65</td>\n",
       "      <td>Scrambled</td>\n",
       "      <td>sub_14</td>\n",
       "      <td>[0.9761494637649474, 0.7361228575440394, -0.09...</td>\n",
       "      <td>-0.021946</td>\n",
       "    </tr>\n",
       "    <tr>\n",
       "      <th>10801</th>\n",
       "      <td>6</td>\n",
       "      <td>65</td>\n",
       "      <td>Scrambled</td>\n",
       "      <td>sub_14</td>\n",
       "      <td>[0.27928004628999653, 1.9594971663999148, 0.12...</td>\n",
       "      <td>0.029176</td>\n",
       "    </tr>\n",
       "    <tr>\n",
       "      <th>10803</th>\n",
       "      <td>8</td>\n",
       "      <td>65</td>\n",
       "      <td>Scrambled</td>\n",
       "      <td>sub_14</td>\n",
       "      <td>[-1.9674696641027476, -0.9705712140041621, 0.3...</td>\n",
       "      <td>-0.027511</td>\n",
       "    </tr>\n",
       "  </tbody>\n",
       "</table>\n",
       "<p>144 rows × 6 columns</p>\n",
       "</div>"
      ],
      "text/plain": [
       "       D_bins  JU   contrast     sub  \\\n",
       "291         2  35     Motion  sub_02   \n",
       "292         3  35     Motion  sub_02   \n",
       "293         4  35     Motion  sub_02   \n",
       "297         2  65     Motion  sub_02   \n",
       "298         3  65     Motion  sub_02   \n",
       "...       ...  ..        ...     ...   \n",
       "10797       2  65  Scrambled  sub_14   \n",
       "10798       3  65  Scrambled  sub_14   \n",
       "10799       4  65  Scrambled  sub_14   \n",
       "10801       6  65  Scrambled  sub_14   \n",
       "10803       8  65  Scrambled  sub_14   \n",
       "\n",
       "                                         tc_concatenated       isc  \n",
       "291    [-1.2250526561928006, 1.9748335012407756, 0.38...  0.013847  \n",
       "292    [-0.7933225294325823, 1.1849844371683977, 1.21...  0.018392  \n",
       "293    [-0.547032535222668, 1.7014497689879295, -0.42...  0.083286  \n",
       "297    [-0.38402030592014025, 0.28414969697405434, 0....  0.019998  \n",
       "298    [0.42664368946697223, 0.5817391876441558, -0.2...  0.039713  \n",
       "...                                                  ...       ...  \n",
       "10797  [-0.9883034388807886, 0.8079668014444629, 1.77...  0.083864  \n",
       "10798  [0.9738302258414254, -0.22826230178152618, 1.1... -0.015797  \n",
       "10799  [0.9761494637649474, 0.7361228575440394, -0.09... -0.021946  \n",
       "10801  [0.27928004628999653, 1.9594971663999148, 0.12...  0.029176  \n",
       "10803  [-1.9674696641027476, -0.9705712140041621, 0.3... -0.027511  \n",
       "\n",
       "[144 rows x 6 columns]"
      ]
     },
     "execution_count": 487,
     "metadata": {},
     "output_type": "execute_result"
    }
   ],
   "source": [
    "cdf"
   ]
  },
  {
   "cell_type": "code",
   "execution_count": null,
   "metadata": {},
   "outputs": [],
   "source": []
  },
  {
   "cell_type": "code",
   "execution_count": null,
   "metadata": {},
   "outputs": [],
   "source": []
  },
  {
   "cell_type": "code",
   "execution_count": null,
   "metadata": {},
   "outputs": [],
   "source": []
  },
  {
   "cell_type": "code",
   "execution_count": null,
   "metadata": {},
   "outputs": [],
   "source": []
  },
  {
   "cell_type": "code",
   "execution_count": null,
   "metadata": {},
   "outputs": [],
   "source": []
  },
  {
   "cell_type": "code",
   "execution_count": null,
   "metadata": {},
   "outputs": [],
   "source": []
  },
  {
   "cell_type": "code",
   "execution_count": null,
   "metadata": {},
   "outputs": [],
   "source": []
  },
  {
   "cell_type": "code",
   "execution_count": null,
   "metadata": {},
   "outputs": [],
   "source": []
  },
  {
   "cell_type": "code",
   "execution_count": null,
   "metadata": {},
   "outputs": [],
   "source": []
  },
  {
   "cell_type": "code",
   "execution_count": null,
   "metadata": {},
   "outputs": [],
   "source": []
  },
  {
   "cell_type": "code",
   "execution_count": null,
   "metadata": {},
   "outputs": [],
   "source": []
  },
  {
   "cell_type": "code",
   "execution_count": null,
   "metadata": {},
   "outputs": [],
   "source": []
  },
  {
   "cell_type": "code",
   "execution_count": null,
   "metadata": {},
   "outputs": [],
   "source": []
  }
 ],
 "metadata": {
  "kernelspec": {
   "display_name": "brainiak",
   "language": "python",
   "name": "brainiak"
  },
  "language_info": {
   "codemirror_mode": {
    "name": "ipython",
    "version": 3
   },
   "file_extension": ".py",
   "mimetype": "text/x-python",
   "name": "python",
   "nbconvert_exporter": "python",
   "pygments_lexer": "ipython3",
   "version": "3.7.6"
  }
 },
 "nbformat": 4,
 "nbformat_minor": 4
}
