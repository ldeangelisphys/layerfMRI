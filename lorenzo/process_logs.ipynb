{
 "cells": [
  {
   "cell_type": "code",
   "execution_count": null,
   "metadata": {},
   "outputs": [],
   "source": [
    "import os\n",
    "import pandas as pd\n",
    "import numpy as np"
   ]
  },
  {
   "cell_type": "code",
   "execution_count": null,
   "metadata": {},
   "outputs": [],
   "source": [
    "def read_raw_log(finroot,row):\n",
    "    \n",
    "    TR = 4.1089954\n",
    "    logfile = finroot + row.filename\n",
    "    \n",
    "    dataf = (pd\n",
    "          .read_table(logfile, header = 2)\n",
    "          .loc[lambda d: d['Subject'].str.startswith('S{:02d}'.format(row.subject))]\n",
    "          .assign(advance_TR = lambda d: (d['Event Type'] == 'Pulse').astype(int))\n",
    "          .assign(start_TR = lambda d: np.cumsum(d['advance_TR']))\n",
    "          .assign(total_TR = lambda d: d['start_TR'].iloc[-1])\n",
    "          .loc[lambda d: (d['Event Type'] == 'Video')|(d['Event Type'] == 'Picture')|(d['Event Type'] == 'Quit')]\n",
    "          .assign(end_TR = lambda d: d['start_TR'].shift(-1).fillna(method = 'ffill').astype(int))\n",
    "          .assign(Duration = lambda d: d['end_TR'] - d['start_TR'])\n",
    "          .loc[lambda d: (d['Event Type'] == 'Video')]\n",
    "          .reset_index()\n",
    "          [['Trial','Event Type','Time','start_TR','end_TR','total_TR','Duration']]\n",
    "          # Merge with the movie titles read from underneath the same dataframe\n",
    "          .merge(pd\n",
    "                 .read_table(logfile, header = 2)\n",
    "                 .loc[lambda d: d['Subject'].str.contains('Stimuli')]\n",
    "                 .assign(Title = lambda d: d['Subject'].str.split('\\\\').str[-1])\n",
    "                 .assign(Type = lambda d: d['Title'].str[0])\n",
    "                 .assign(NMov = lambda d: d['Title'].str.extract('.(\\d+).*.avi'))\n",
    "                 .assign(ExpectedDuration = lambda d:(d['Duration'].astype(int)/10000/TR).astype(int))\n",
    "#                  .assign(ExpectedStart = lambda d:(d['TTime'].astype(int)/10000/TR).astype(int))\n",
    "#                  .assign(ExpectedEnd = lambda d:(d['Uncertainty'].astype(int)/10000/TR).astype(int))\n",
    "                 .reset_index()\n",
    "                 [['Title','Type','NMov','ExpectedDuration']]\n",
    "                 ,left_index=True,right_index=True)\n",
    "         )\n",
    "    \n",
    "    \n",
    "    return dataf"
   ]
  },
  {
   "cell_type": "code",
   "execution_count": null,
   "metadata": {},
   "outputs": [],
   "source": [
    "datadrive = '/data00/'\n",
    "\n",
    "finroot = '/data02/ritu/2018_7T_14sub_raw/Log/'\n",
    "foutroot = datadrive + 'layerfMRI/logs/'"
   ]
  },
  {
   "cell_type": "code",
   "execution_count": null,
   "metadata": {},
   "outputs": [],
   "source": [
    "logfiles = [f for f in os.listdir(finroot) if 'BAD' not in f]\n",
    "\n",
    "filesdf = (pd\n",
    "           .DataFrame(logfiles, columns = ['filename'])\n",
    "           .assign(subject = lambda d: d['filename'].str.extract('S(\\d+)').astype(int))\n",
    "           .assign(session = lambda d: d['filename'].str.extract('session(\\d+)'))\n",
    "           .assign(run = lambda d: d['filename'].str.extract('run(\\d+)'))\n",
    "           .assign(task = lambda d: d['filename'].str.extract('set(\\d+)'))\n",
    "           .loc[lambda d : (d['subject']!=1)&(d['subject']!=4)&(d['subject']!=7)&(d['subject']!=13)]\n",
    "           .reset_index()\n",
    "           [['subject','session','task','run','filename']]\n",
    "          )\n",
    "filesdf.sample(2)"
   ]
  },
  {
   "cell_type": "code",
   "execution_count": null,
   "metadata": {},
   "outputs": [],
   "source": [
    "df = pd.DataFrame()\n",
    "for i,row in filesdf.iterrows():\n",
    "    \n",
    "    sub = int(row.subject)\n",
    "    ses = int(row.session)\n",
    "    task = int(row.task)\n",
    "    run = int(row.run)\n",
    "    func_fld = foutroot + 'sub-{:02d}/ses-{:02d}/func/'.format(sub,ses)\n",
    "    \n",
    "    if not os.path.isdir(func_fld):\n",
    "        os.makedirs(func_fld)\n",
    "\n",
    "    # Process the logs\n",
    "    tdf = read_raw_log(finroot,row)\n",
    "\n",
    "    fout = func_fld + 'sub-{:02d}_ses-{:02d}_task-{}_run-{}_bold.csv'.format(sub,ses,task,run)\n",
    "    tdf.to_csv(fout, index=False)\n",
    "    \n",
    "    \n",
    "    df = (df\n",
    "          .append(tdf\n",
    "                  .assign(subject = sub)\n",
    "                  .assign(session = ses)\n",
    "                  .assign(task = task)\n",
    "                  .assign(run = run)\n",
    "                 )\n",
    "         )\n",
    "    \n",
    "df.to_csv(foutroot+'log_summary.csv', index = False)"
   ]
  }
 ],
 "metadata": {
  "kernelspec": {
   "display_name": "Python 3",
   "language": "python",
   "name": "python3"
  },
  "language_info": {
   "codemirror_mode": {
    "name": "ipython",
    "version": 3
   },
   "file_extension": ".py",
   "mimetype": "text/x-python",
   "name": "python",
   "nbconvert_exporter": "python",
   "pygments_lexer": "ipython3",
   "version": "3.7.6"
  }
 },
 "nbformat": 4,
 "nbformat_minor": 4
}
